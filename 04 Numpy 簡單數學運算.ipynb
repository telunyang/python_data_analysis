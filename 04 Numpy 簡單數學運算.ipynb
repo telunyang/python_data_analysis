{
 "cells": [
  {
   "cell_type": "markdown",
   "id": "aa6a1d74",
   "metadata": {},
   "source": [
    "# 「加總」sum()、「乘積」prod()、「差」diff()"
   ]
  },
  {
   "cell_type": "code",
   "execution_count": null,
   "id": "c075b69c",
   "metadata": {},
   "outputs": [],
   "source": [
    "import numpy as np"
   ]
  },
  {
   "cell_type": "code",
   "execution_count": null,
   "id": "c428506a",
   "metadata": {},
   "outputs": [],
   "source": [
    "# 一維陣列的「和」 (加總)\n",
    "np.sum([1, 2, 3, 4])"
   ]
  },
  {
   "cell_type": "code",
   "execution_count": null,
   "id": "8fb845cb",
   "metadata": {},
   "outputs": [],
   "source": [
    "# 二維陣列的「和」 (加總)\n",
    "np.sum([[1,2], [3,4]])"
   ]
  },
  {
   "cell_type": "markdown",
   "id": "0ec83a96",
   "metadata": {},
   "source": [
    "軸 (axix) 的概念\n",
    "![軸 (axix) 的概念](https://i.imgur.com/u7ItSQZ.png)\n",
    "\n",
    "參考資料: [Numpy Axes, Explained](https://youtu.be/aF96TC_6kDg)"
   ]
  },
  {
   "cell_type": "code",
   "execution_count": null,
   "id": "71477b19",
   "metadata": {},
   "outputs": [],
   "source": [
    "# 二維陣列的「和」，指定軸 (axis) 來計算\n",
    "'''\n",
    "[\n",
    "    [1,2], \n",
    "    [3,4], \n",
    "    [5,6]\n",
    "]\n",
    "\n",
    "axis = None: \n",
    "- 所有元素，不分列 (row) 或行 (column)。預設值。\n",
    "axis = 0:\n",
    "- 順著 [0][0], [1][0], [2][0], ... 等索引號碼增加的方向\n",
    "- 類似座標的 y 軸，針對每一個元素 y 軸對應的位置 (由上而下) 進行計算\n",
    "axis = 1: \n",
    "- 順著 [0][0], [0][1], [0][2], ... 等索引號碼增加的方向\n",
    "- 類似座標的 x 軸，針對每一個元素 x 軸對應的位置 (由左而右) 進行計算\n",
    "'''\n",
    "np.sum([[1,2], [3,4], [5,6]], axis=None)"
   ]
  },
  {
   "cell_type": "code",
   "execution_count": null,
   "id": "13bffdc1",
   "metadata": {},
   "outputs": [],
   "source": [
    "# 一維陣列的「乘積」\n",
    "np.prod([1, 2, 3, 4])"
   ]
  },
  {
   "cell_type": "code",
   "execution_count": null,
   "id": "0cb87cbe",
   "metadata": {},
   "outputs": [],
   "source": [
    "# 二維陣列的「乘積」\n",
    "np.prod([[1, 2], [3, 4]])"
   ]
  },
  {
   "cell_type": "code",
   "execution_count": null,
   "id": "1c61a939",
   "metadata": {},
   "outputs": [],
   "source": [
    "# 二維陣列的「乘積」，指定軸 (axis) 來計算\n",
    "'''\n",
    "[\n",
    "    [1,2], \n",
    "    [3,4], \n",
    "    [5,6]\n",
    "]\n",
    "\n",
    "axis = None: \n",
    "- 所有元素，不分列 (row) 或行 (column)。預設值。\n",
    "axis = 0:\n",
    "- 順著 [0][0], [1][0], [2][0], ... 等索引號碼增加的方向\n",
    "- 類似座標的 y 軸，針對每一個元素 y 軸對應的位置 (由上而下) 進行計算\n",
    "axis = 1: \n",
    "- 順著 [0][0], [0][1], [0][2], ... 等索引號碼增加的方向\n",
    "- 類似座標的 x 軸，針對每一個元素 x 軸對應的位置 (由左而右) 進行計算\n",
    "'''\n",
    "np.prod([[1,2], [3,4], [5,6]], axis=None)"
   ]
  },
  {
   "cell_type": "code",
   "execution_count": null,
   "id": "40123b0a",
   "metadata": {},
   "outputs": [],
   "source": [
    "# 一維陣列的「差」(後一個元素的值，減去前一個元素的值)\n",
    "'''\n",
    "numpy.diff(a, n=1, axis=-1, prepend=<no value>, append=<no value>)\n",
    "'''\n",
    "x = np.array([7, 5, 3, 3, 9, 6, 7])\n",
    "np.diff(x)"
   ]
  },
  {
   "cell_type": "code",
   "execution_count": null,
   "id": "e552a191",
   "metadata": {},
   "outputs": [],
   "source": [
    "# 一維陣列的「差」(指定 n，代表 diff 幾次)\n",
    "np.diff(x, n=2)"
   ]
  },
  {
   "cell_type": "code",
   "execution_count": null,
   "id": "c22b3b10",
   "metadata": {},
   "outputs": [],
   "source": [
    "# 二維陣列的「差」，指定軸 (axis) 來計算\n",
    "'''\n",
    "[\n",
    "    [1,2], \n",
    "    [3,4], \n",
    "    [5,6]\n",
    "]\n",
    "\n",
    "axis = None: \n",
    "- 所有元素，不分列 (row) 或行 (column)。預設值。\n",
    "axis = 0:\n",
    "- 順著 [0][0], [1][0], [2][0], ... 等索引號碼增加的方向\n",
    "- 類似座標的 y 軸，針對每一個元素 y 軸對應的位置 (由上而下) 進行計算\n",
    "axis = 1: \n",
    "- 順著 [0][0], [0][1], [0][2], ... 等索引號碼增加的方向\n",
    "- 類似座標的 x 軸，針對每一個元素 x 軸對應的位置 (由左而右) 進行計算\n",
    "'''\n",
    "x = np.array([[1,2], [3,4], [5,6]])\n",
    "np.diff(x, axis=0)"
   ]
  },
  {
   "cell_type": "markdown",
   "id": "f71b96f7",
   "metadata": {},
   "source": [
    "# 捨去函數"
   ]
  },
  {
   "cell_type": "code",
   "execution_count": null,
   "id": "670cb37e",
   "metadata": {},
   "outputs": [],
   "source": [
    "# around(): 四捨五入到最近的「偶數值」\n",
    "'''\n",
    "numpy.around(a, decimals=0, out=None)\n",
    "\n",
    "decimals: 指定小數位數 (小數點後面第幾位)\n",
    "'''\n",
    "np.around([0.45, 1.85], 1)"
   ]
  },
  {
   "cell_type": "code",
   "execution_count": null,
   "id": "04724310",
   "metadata": {},
   "outputs": [],
   "source": [
    "# rint(): 回傳最近的整數 (四捨五入到最近的「偶數值」)\n",
    "np.rint([1.5, 2.5, 1.6, 3.3])"
   ]
  },
  {
   "cell_type": "code",
   "execution_count": null,
   "id": "1d8317b6",
   "metadata": {},
   "outputs": [],
   "source": [
    "# floor(): 無條件捨去\n",
    "np.floor([1.5, 2.5, 1.6, 3.3])"
   ]
  },
  {
   "cell_type": "code",
   "execution_count": null,
   "id": "2f8a98ad",
   "metadata": {},
   "outputs": [],
   "source": [
    "# ceil(): 無條件進位\n",
    "np.ceil([1.1, 2.5, 1.6, 3.3])"
   ]
  },
  {
   "cell_type": "code",
   "execution_count": null,
   "id": "44a31c8d",
   "metadata": {},
   "outputs": [],
   "source": [
    "# trunc(): 捨棄小數\n",
    "np.trunc([1.1, 2.5, 1.6, 3.3])"
   ]
  },
  {
   "cell_type": "markdown",
   "id": "728b3708",
   "metadata": {},
   "source": [
    "# 指數 (exp) 與對數 (log)"
   ]
  },
  {
   "cell_type": "code",
   "execution_count": null,
   "id": "0b7de555",
   "metadata": {},
   "outputs": [],
   "source": [
    "# exp(): 自然對數 e 的幾次方\n",
    "'''\n",
    "e^1 = 2.71828183\n",
    "e^2 = 7.3890561\n",
    "e^3 = 20.08553692\n",
    "e^4 = 54.59815003\n",
    ".\n",
    ".\n",
    ".\n",
    "'''\n",
    "np.exp([1, 2, 3, 4])"
   ]
  },
  {
   "cell_type": "code",
   "execution_count": null,
   "id": "400f657a",
   "metadata": {},
   "outputs": [],
   "source": [
    "# exp2(): 2 的幾次方\n",
    "np.exp2([1, 2, 3, 4])"
   ]
  },
  {
   "cell_type": "code",
   "execution_count": null,
   "id": "5310cf2b",
   "metadata": {},
   "outputs": [],
   "source": [
    "# log(): 計算自然對數的值\n",
    "'''\n",
    "np.e = 自然對數\n",
    "\n",
    "註: \n",
    "log(1) = 0 (任何數的 0 次方，等於 1)\n",
    "log(e) = 1\n",
    "log(e^2) = 2\n",
    "'''\n",
    "np.log([1, np.e, np.e ** 2])"
   ]
  },
  {
   "cell_type": "code",
   "execution_count": null,
   "id": "ddc12b44",
   "metadata": {},
   "outputs": [],
   "source": [
    "# log2(): 計算以 2 為底的值\n",
    "np.log2([1, 2, 4, 8])"
   ]
  },
  {
   "cell_type": "code",
   "execution_count": null,
   "id": "ab641a22",
   "metadata": {},
   "outputs": [],
   "source": [
    "# log10(): 計算以 10 為底的值\n",
    "np.log10([1, 10, 100, 1000])"
   ]
  },
  {
   "cell_type": "markdown",
   "id": "8e758559",
   "metadata": {},
   "source": [
    "# 其它"
   ]
  },
  {
   "cell_type": "code",
   "execution_count": null,
   "id": "2f279802",
   "metadata": {},
   "outputs": [],
   "source": [
    "# absolute(): 回傳絕對值\n",
    "np.absolute([-3, 3])"
   ]
  },
  {
   "cell_type": "code",
   "execution_count": null,
   "id": "7b13b57b",
   "metadata": {},
   "outputs": [],
   "source": [
    "# square(): 回傳平方值\n",
    "np.square([4, 9])"
   ]
  },
  {
   "cell_type": "code",
   "execution_count": null,
   "id": "c196fb25",
   "metadata": {},
   "outputs": [],
   "source": [
    "# sqrt(): 回傳平方根\n",
    "np.sqrt([4, 9])"
   ]
  },
  {
   "cell_type": "markdown",
   "id": "bd884db8",
   "metadata": {},
   "source": [
    "# 隨機函數"
   ]
  },
  {
   "cell_type": "code",
   "execution_count": null,
   "id": "875a3757",
   "metadata": {},
   "outputs": [],
   "source": [
    "# np.random.rand(): 產生隨機值\n",
    "np.random.rand(3)"
   ]
  },
  {
   "cell_type": "code",
   "execution_count": null,
   "id": "dce628fe",
   "metadata": {},
   "outputs": [],
   "source": [
    "# np.random.randint(start, end - 1, size=數量): 產生 start 到 end - 1 之間的整數值\n",
    "np.random.randint(1, 11, 5)"
   ]
  },
  {
   "cell_type": "code",
   "execution_count": null,
   "id": "89bc0e4b",
   "metadata": {},
   "outputs": [],
   "source": [
    "# shuffle(): 陣列元素重新排列\n",
    "x = np.arange(10)\n",
    "np.random.shuffle(x)\n",
    "x"
   ]
  },
  {
   "cell_type": "markdown",
   "id": "15ffadd7",
   "metadata": {},
   "source": [
    "# 一點統計的概念"
   ]
  },
  {
   "cell_type": "code",
   "execution_count": null,
   "id": "e781b07e",
   "metadata": {},
   "outputs": [],
   "source": [
    "# mean(): 元素平均值\n",
    "x = np.array([[1, 2], [3, 4]])\n",
    "np.mean(x)"
   ]
  },
  {
   "cell_type": "code",
   "execution_count": null,
   "id": "11ff333a",
   "metadata": {},
   "outputs": [],
   "source": [
    "# mean() 加上 axis\n",
    "np.mean(x, axis = 0)"
   ]
  },
  {
   "cell_type": "code",
   "execution_count": null,
   "id": "32ec8ed6",
   "metadata": {},
   "outputs": [],
   "source": [
    "# median(): 中位數\n",
    "x = np.array([[12, 7, 4], [3, 2, 6]])\n",
    "np.median(x)"
   ]
  },
  {
   "cell_type": "code",
   "execution_count": null,
   "id": "0868ee9a",
   "metadata": {},
   "outputs": [],
   "source": [
    "# median() 加上 axis\n",
    "np.median(x, axis = 0)"
   ]
  },
  {
   "cell_type": "code",
   "execution_count": null,
   "id": "f09cebd3",
   "metadata": {},
   "outputs": [],
   "source": [
    "# var(): 變異數 (variance) (離散隨機變數) (一維陣列)\n",
    "'''\n",
    "import math\n",
    "mean = (1 + 2 + 3 + 4) / 4\n",
    "(math.pow(1 - mean, 2) + math.pow(2 - mean, 2) + math.pow(3 - mean, 2) + math.pow(4 - mean, 2)) / 4\n",
    "\n",
    "補充: var() 也可以設定 axis\n",
    "'''\n",
    "x = np.array([1, 2, 3, 4])\n",
    "np.var(x)"
   ]
  },
  {
   "cell_type": "code",
   "execution_count": null,
   "id": "52939c86",
   "metadata": {},
   "outputs": [],
   "source": [
    "# var(): 變異數 (variance) (離散隨機變數) (二維陣列)\n",
    "x = np.array([[1, 2, 3, 4], [2, 4, 6, 8]])\n",
    "np.var(x)"
   ]
  },
  {
   "cell_type": "code",
   "execution_count": null,
   "id": "de6e8e17",
   "metadata": {},
   "outputs": [],
   "source": [
    "# var() 加上 axis\n",
    "np.var(x, axis=0)"
   ]
  },
  {
   "cell_type": "code",
   "execution_count": null,
   "id": "9a1eb163",
   "metadata": {},
   "outputs": [],
   "source": [
    "# std(): 標準差 (standard deviation)\n",
    "'''\n",
    "變異數 = 「標準差」的平方\n",
    "標準差 = 「變異數」開根號\n",
    "'''\n",
    "np.std(x)"
   ]
  },
  {
   "cell_type": "code",
   "execution_count": null,
   "id": "ea6f58ea",
   "metadata": {},
   "outputs": [],
   "source": [
    "# std() 加上 axis\n",
    "np.std(x, axis=0)"
   ]
  }
 ],
 "metadata": {
  "kernelspec": {
   "display_name": "Python3@da",
   "language": "python",
   "name": "da"
  },
  "language_info": {
   "codemirror_mode": {
    "name": "ipython",
    "version": 3
   },
   "file_extension": ".py",
   "mimetype": "text/x-python",
   "name": "python",
   "nbconvert_exporter": "python",
   "pygments_lexer": "ipython3",
   "version": "3.10.10"
  }
 },
 "nbformat": 4,
 "nbformat_minor": 5
}
