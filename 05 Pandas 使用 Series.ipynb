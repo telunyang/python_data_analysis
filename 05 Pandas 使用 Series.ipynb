{
 "cells": [
  {
   "cell_type": "markdown",
   "id": "afa05ded",
   "metadata": {},
   "source": [
    "# 安裝 pandas\n",
    "若有語法不了解的地方，可以參考以下連結:\n",
    "- [API reference](https://pandas.pydata.org/docs/reference/index.html)\n",
    "- [Pandas Tutorial](https://www.w3schools.com/python/pandas/default.asp)\n",
    "- [Pandas 教程](https://www.runoob.com/pandas/pandas-tutorial.html)"
   ]
  },
  {
   "cell_type": "code",
   "execution_count": null,
   "id": "d6cb020d",
   "metadata": {},
   "outputs": [],
   "source": [
    "!pip install pandas"
   ]
  },
  {
   "cell_type": "code",
   "execution_count": null,
   "id": "db0a68e1",
   "metadata": {},
   "outputs": [],
   "source": [
    "import pandas as pd\n",
    "import numpy as np"
   ]
  },
  {
   "cell_type": "markdown",
   "id": "b2cb779c",
   "metadata": {},
   "source": [
    "#  使用 series"
   ]
  },
  {
   "cell_type": "code",
   "execution_count": null,
   "id": "9049ceba",
   "metadata": {},
   "outputs": [],
   "source": [
    "# 使用 list 建立 series 物件\n",
    "s = pd.Series([11, 22, 33, 44, 55]); s"
   ]
  },
  {
   "cell_type": "code",
   "execution_count": null,
   "id": "4a244e6b",
   "metadata": {},
   "outputs": [],
   "source": [
    "# 使用 dict 建立 series 物件\n",
    "myDict = {\"蘋果\": 60, \"水梨\": 50}\n",
    "s = pd.Series(myDict); s"
   ]
  },
  {
   "cell_type": "code",
   "execution_count": null,
   "id": "430408f8",
   "metadata": {},
   "outputs": [],
   "source": [
    "# 使用 Numpy 的 ndarray 建立 series 物件\n",
    "s = pd.Series(np.arange(13, 24)); s"
   ]
  },
  {
   "cell_type": "code",
   "execution_count": null,
   "id": "3ecb0e0e",
   "metadata": {},
   "outputs": [],
   "source": [
    "# 建立含索引的 series 物件\n",
    "myIndex = [3, 6, 9] # 也可以用字串當 index (key)\n",
    "price = [10, 20, 30]\n",
    "s = pd.Series(price, index=myIndex); s"
   ]
  },
  {
   "cell_type": "code",
   "execution_count": null,
   "id": "4f15bab0",
   "metadata": {},
   "outputs": [],
   "source": [
    "# 使用純量 (scalar) 建立 series\n",
    "s = pd.Series(7, index=[1,2,3]); s"
   ]
  },
  {
   "cell_type": "code",
   "execution_count": null,
   "id": "865f4127",
   "metadata": {},
   "outputs": [],
   "source": [
    "# 列出 series 物件索引與值\n",
    "s = pd.Series([10, 20, 30], index=['apple', 'orange', 'pear'])"
   ]
  },
  {
   "cell_type": "code",
   "execution_count": null,
   "id": "f1cade79",
   "metadata": {},
   "outputs": [],
   "source": [
    "# 承上，印出所有的值\n",
    "s.values"
   ]
  },
  {
   "cell_type": "code",
   "execution_count": null,
   "id": "c2c4f545",
   "metadata": {},
   "outputs": [],
   "source": [
    "# 承上，印出所有的索引編號\n",
    "s.index"
   ]
  },
  {
   "cell_type": "markdown",
   "id": "cba06627",
   "metadata": {},
   "source": [
    "# series 的運算"
   ]
  },
  {
   "cell_type": "code",
   "execution_count": null,
   "id": "a6acc1dc",
   "metadata": {},
   "outputs": [],
   "source": [
    "# 將切片觀念用在 series 物件\n",
    "s = pd.Series([0, 1, 2, 3, 4, 5])"
   ]
  },
  {
   "cell_type": "code",
   "execution_count": null,
   "id": "3bdb0430",
   "metadata": {},
   "outputs": [],
   "source": [
    "s[3]"
   ]
  },
  {
   "cell_type": "code",
   "execution_count": null,
   "id": "5bec234d",
   "metadata": {},
   "outputs": [],
   "source": [
    "s[2:4]"
   ]
  },
  {
   "cell_type": "code",
   "execution_count": null,
   "id": "9c9bf8d0",
   "metadata": {},
   "outputs": [],
   "source": [
    "s[:3]"
   ]
  },
  {
   "cell_type": "code",
   "execution_count": null,
   "id": "e7a52244",
   "metadata": {},
   "outputs": [],
   "source": [
    "s[2:]"
   ]
  },
  {
   "cell_type": "code",
   "execution_count": null,
   "id": "a50f22f6",
   "metadata": {},
   "outputs": [],
   "source": [
    "s[-1:] # series 只能使用 slicing，無法直接使用 -1 來取得最後一個元素的值"
   ]
  },
  {
   "cell_type": "code",
   "execution_count": null,
   "id": "a86388ce",
   "metadata": {},
   "outputs": [],
   "source": [
    "# series 物件相加\n",
    "x = pd.Series([1, 2])\n",
    "y = pd.Series([3, 4])\n",
    "x + y"
   ]
  },
  {
   "cell_type": "code",
   "execution_count": null,
   "id": "59d9585c",
   "metadata": {},
   "outputs": [],
   "source": [
    "# series 物件相乘\n",
    "x * y"
   ]
  },
  {
   "cell_type": "code",
   "execution_count": null,
   "id": "29b5a452",
   "metadata": {},
   "outputs": [],
   "source": [
    "# 邏輯判斷: 大於 (可以嘗試其它判斷)\n",
    "x > y"
   ]
  },
  {
   "cell_type": "code",
   "execution_count": null,
   "id": "a6f85135",
   "metadata": {},
   "outputs": [],
   "source": [
    "# 擁有相同的 index (或 key)，執行相加\n",
    "fruits = ['apple', 'orange', 'pear']\n",
    "x1 = pd.Series([20, 30, 40], index=fruits)\n",
    "x2 = pd.Series([15, 35, 55], index=fruits)\n",
    "x1 + x2"
   ]
  },
  {
   "cell_type": "code",
   "execution_count": null,
   "id": "235ba655",
   "metadata": {},
   "outputs": [],
   "source": [
    "# 擁有不同的 index (或 key)，執行相加，不同索引之間的值相加，會填上 NaN (Not a Number)\n",
    "fruits1 = ['apple', 'orange', 'pear']\n",
    "fruits2 = ['apple', 'banana', 'pear']\n",
    "x1 = pd.Series([20, 30, 40], index=fruits1)\n",
    "x2 = pd.Series([15, 35, 55], index=fruits2)\n",
    "x1 + x2"
   ]
  },
  {
   "cell_type": "code",
   "execution_count": null,
   "id": "33e039f2",
   "metadata": {},
   "outputs": [],
   "source": [
    "# series 的索引是字串 (key)，取得元素內容\n",
    "fruits = ['apple', 'orange', 'pear']\n",
    "x = pd.Series([20, 30, 40], index=fruits)"
   ]
  },
  {
   "cell_type": "code",
   "execution_count": null,
   "id": "85d6c782",
   "metadata": {},
   "outputs": [],
   "source": [
    "# 取得單一 key 的資料\n",
    "x['apple']"
   ]
  },
  {
   "cell_type": "code",
   "execution_count": null,
   "id": "fea13afd",
   "metadata": {},
   "outputs": [],
   "source": [
    "# 取得多個 key 的資料，要使用 list 包起來 (在 pandas 很常用)\n",
    "x[ ['apple', 'orange'] ]"
   ]
  },
  {
   "cell_type": "code",
   "execution_count": null,
   "id": "1d34b158",
   "metadata": {},
   "outputs": [],
   "source": [
    "# 將純量與函式應用在 series 上\n",
    "(x + 10) * 2"
   ]
  },
  {
   "cell_type": "code",
   "execution_count": null,
   "id": "ac5c4688",
   "metadata": {},
   "outputs": [],
   "source": [
    "np.square(x)"
   ]
  }
 ],
 "metadata": {
  "kernelspec": {
   "display_name": "Python3@da",
   "language": "python",
   "name": "da"
  },
  "language_info": {
   "codemirror_mode": {
    "name": "ipython",
    "version": 3
   },
   "file_extension": ".py",
   "mimetype": "text/x-python",
   "name": "python",
   "nbconvert_exporter": "python",
   "pygments_lexer": "ipython3",
   "version": "3.10.10"
  }
 },
 "nbformat": 4,
 "nbformat_minor": 5
}
