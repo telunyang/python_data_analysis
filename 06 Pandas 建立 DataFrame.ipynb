{
 "cells": [
  {
   "cell_type": "code",
   "execution_count": null,
   "id": "141b3655",
   "metadata": {},
   "outputs": [],
   "source": [
    "import pandas as pd"
   ]
  },
  {
   "cell_type": "markdown",
   "id": "b8a88665",
   "metadata": {},
   "source": [
    "# 建立 dataframe"
   ]
  },
  {
   "cell_type": "code",
   "execution_count": null,
   "id": "0584e8df",
   "metadata": {},
   "outputs": [],
   "source": [
    "# 新增一個二維 list\n",
    "list_students = [\n",
    "    ['Alex', 19],\n",
    "    ['Bill', 22],\n",
    "    ['Carl', 14],\n",
    "    ['Darren', 18]\n",
    "]\n",
    "\n",
    "# 建立基本的 dataframe\n",
    "df = pd.DataFrame(list_students)\n",
    "\n",
    "# 設定 dataframe 的欄位\n",
    "df.columns = ['name', 'age']; df"
   ]
  },
  {
   "cell_type": "code",
   "execution_count": null,
   "id": "9f051ff4",
   "metadata": {},
   "outputs": [],
   "source": [
    "# 使用 dict 來建立 dataframe\n",
    "df = pd.DataFrame({\n",
    "    'name': ['Alex', 'Bill', 'Carl', 'Darren'],\n",
    "    'age': [19, 22, 14, 18]\n",
    "}); df"
   ]
  },
  {
   "cell_type": "code",
   "execution_count": null,
   "id": "a7075006",
   "metadata": {},
   "outputs": [],
   "source": [
    "# 使用 list of dict 來建立 dataframe\n",
    "data = [\n",
    "    {'name': 'Alex', 'age': 19},\n",
    "    {'name': 'Bill', 'age': 22},\n",
    "    {'name': 'Carl', 'age': 14},\n",
    "    {'name': 'Darren', 'age': 18},\n",
    "]\n",
    "\n",
    "df = pd.DataFrame(data); df"
   ]
  },
  {
   "cell_type": "code",
   "execution_count": null,
   "id": "8aad82a4",
   "metadata": {},
   "outputs": [],
   "source": [
    "'''建立「2020 ~ 2023」年「臺北、臺中、高雄」某月平均溫度 的 dataframe'''\n",
    "\n",
    "# 建立欄位\n",
    "years = range(2020, 2024)\n",
    "\n",
    "# 臺北、臺中、高雄 某個月的平均溫度\n",
    "taipei = pd.Series([20, 21, 19, 21], index=years)\n",
    "taichung = pd.Series([25, 26, 27, 28], index=years)\n",
    "kaohsiung = pd.Series([30, 29, 31, 32], index=years)\n",
    "\n",
    "# 建立 dataframe (axis=0 是上下合併，axis=1 是左右合併)\n",
    "df = pd.concat([taipei, taichung, kaohsiung], axis=1)\n",
    "\n",
    "# 設定欄位\n",
    "df.columns = ['taipei', 'taichung', 'kaohsiung']; df"
   ]
  }
 ],
 "metadata": {
  "kernelspec": {
   "display_name": "Python3@da",
   "language": "python",
   "name": "da"
  },
  "language_info": {
   "codemirror_mode": {
    "name": "ipython",
    "version": 3
   },
   "file_extension": ".py",
   "mimetype": "text/x-python",
   "name": "python",
   "nbconvert_exporter": "python",
   "pygments_lexer": "ipython3",
   "version": "3.10.10"
  }
 },
 "nbformat": 4,
 "nbformat_minor": 5
}
