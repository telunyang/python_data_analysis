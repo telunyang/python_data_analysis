{
 "cells": [
  {
   "cell_type": "code",
   "execution_count": null,
   "id": "b790d7d9",
   "metadata": {},
   "outputs": [],
   "source": [
    "# 初始化\n",
    "import numpy as np\n",
    "import pandas as pd\n",
    "from random import randint\n",
    "\n",
    "# dataframe 的 columns\n",
    "course = ['國文', '英文', '數學', '自然', '社會']\n",
    "\n",
    "# 各科的分數 (隨機產生)\n",
    "chinese = [randint(60, 100) for x in range(5)]\n",
    "english = [randint(60, 100) for x in range(5)]\n",
    "math = [randint(60, 100) for x in range(5)]\n",
    "nature = [randint(60, 100) for x in range(5)]\n",
    "society = [randint(60, 100) for x in range(5)]\n",
    "\n",
    "# 建立 dataframe\n",
    "df = pd.DataFrame(\n",
    "    [chinese, english, math, nature, society], \n",
    "    columns=course, \n",
    "    index=range(1,6)\n",
    "); df"
   ]
  },
  {
   "cell_type": "markdown",
   "id": "ba1bde58",
   "metadata": {},
   "source": [
    "# 寫入、讀取 csv 檔\n",
    "- CSV: Comma-Separated Values\n",
    "  - df.to_csv(): 寫入 csv 檔\n",
    "  - df.read_csv(): 讀取 csv 檔\n",
    "- 其它還有 excel, json, xml, sql 等功能，可以嘗試查閱以下連結:\n",
    "  - [API reference → Input/output](https://pandas.pydata.org/docs/reference/index.html)"
   ]
  },
  {
   "cell_type": "code",
   "execution_count": null,
   "id": "12b22911",
   "metadata": {},
   "outputs": [],
   "source": [
    "# 寫入 csv 檔案\n",
    "'''\n",
    "預設是 row number 和 column name 都包括進去，不習慣加進 csv 檔的話，可以這樣寫:\n",
    "df.to_csv(path_or_buf=\"./output.csv\", index=False, header=False)\n",
    "\n",
    "另外，引數 path_or_buf 不一定要寫:\n",
    "df.to_csv(\"./output.csv\", index=False, header=False)\n",
    "'''\n",
    "df.to_csv(path_or_buf=\"./output.csv\", index=False)"
   ]
  },
  {
   "cell_type": "code",
   "execution_count": null,
   "id": "b72492f4",
   "metadata": {},
   "outputs": [],
   "source": [
    "# 讀取 csv 格式檔案\n",
    "'''\n",
    "pd.read_csv(filepath_or_buffer=\"你的檔案路徑\", sep=\"分隔符號\", header=True或False, index=True或False, ...)\n",
    "\n",
    "另外，引數 filepath_or_buffer不一定要寫:\n",
    "df = pd.read_csv(\"./output.csv\")\n",
    "'''\n",
    "df = pd.read_csv(filepath_or_buffer=\"./output.csv\"); df"
   ]
  }
 ],
 "metadata": {
  "kernelspec": {
   "display_name": "Python3@da",
   "language": "python",
   "name": "da"
  },
  "language_info": {
   "codemirror_mode": {
    "name": "ipython",
    "version": 3
   },
   "file_extension": ".py",
   "mimetype": "text/x-python",
   "name": "python",
   "nbconvert_exporter": "python",
   "pygments_lexer": "ipython3",
   "version": "3.10.10"
  }
 },
 "nbformat": 4,
 "nbformat_minor": 5
}
