{
 "cells": [
  {
   "cell_type": "markdown",
   "id": "b7a24573",
   "metadata": {},
   "source": [
    "# Matplotlib\n",
    "若有語法不了解的地方，可以參考以下連結:\n",
    "- [API Reference](https://matplotlib.org/stable/api/index.html)\n",
    "- [Matplotlib Pyplot](https://www.w3schools.com/python/matplotlib_pyplot.asp)\n",
    "- [Matplotlib Pyplot](https://www.runoob.com/matplotlib/matplotlib-pyplot.html)"
   ]
  },
  {
   "cell_type": "code",
   "execution_count": null,
   "id": "93db1304",
   "metadata": {},
   "outputs": [],
   "source": [
    "# 安裝 matplotlib\n",
    "!pip install matplotlib"
   ]
  },
  {
   "cell_type": "code",
   "execution_count": null,
   "id": "4d5d9f0b",
   "metadata": {},
   "outputs": [],
   "source": [
    "# 匯入套件(模組)\n",
    "import matplotlib.pyplot as plt"
   ]
  },
  {
   "cell_type": "markdown",
   "id": "e1b5c0e2",
   "metadata": {},
   "source": [
    "# 畫線\n",
    "- 參考網頁: [matplotlib.pyplot.plot](https://matplotlib.org/stable/api/_as_gen/matplotlib.pyplot.plot.html)"
   ]
  },
  {
   "cell_type": "code",
   "execution_count": null,
   "id": "db3f2420",
   "metadata": {},
   "outputs": [],
   "source": [
    "# 準備 y 軸的值\n",
    "y = [x**2 for x in range(1, 9)]\n",
    "\n",
    "# 準備 x 軸的值\n",
    "x = [x for x in range(1, 9)]"
   ]
  },
  {
   "cell_type": "code",
   "execution_count": null,
   "id": "3cd345c6",
   "metadata": {},
   "outputs": [],
   "source": [
    "# 繪製線條 (回傳 matplotlib.lines.Line2D 物件)\n",
    "plt.plot(y)\n",
    "\n",
    "# 顯示圖片\n",
    "plt.show()"
   ]
  },
  {
   "cell_type": "code",
   "execution_count": null,
   "id": "e4a459ca",
   "metadata": {},
   "outputs": [],
   "source": [
    "# 將 x 軸範圍設定成 0 到 8，y 軸設定成 0 到 70\n",
    "plt.plot(y)\n",
    "\n",
    "# 設定 x 跟 y 值的刻度\n",
    "'''\n",
    "plt.axis([xmin, xmax, ymin, ymax])\n",
    "'''\n",
    "plt.axis([0, 8, 0, 70])\n",
    "\n",
    "# 顯示圖片\n",
    "plt.show()"
   ]
  },
  {
   "cell_type": "markdown",
   "id": "817d8f30",
   "metadata": {},
   "source": [
    "# 線條寬度 linewidth"
   ]
  },
  {
   "cell_type": "code",
   "execution_count": null,
   "id": "c297b228",
   "metadata": {},
   "outputs": [],
   "source": [
    "# 設定線寬為 3\n",
    "plt.plot(y, linewidth=3)\n",
    "plt.show()"
   ]
  },
  {
   "cell_type": "markdown",
   "id": "e66a5ab8",
   "metadata": {},
   "source": [
    "# 顯示標題\n",
    "- title(): 圖表標題\n",
    "- xlabel(): x 軸標題\n",
    "- ylabel(): y 軸標題\n",
    "- 引數可以用 `fontsize` 來改變標題的字型大小"
   ]
  },
  {
   "cell_type": "code",
   "execution_count": null,
   "id": "4f2a71ae",
   "metadata": {},
   "outputs": [],
   "source": [
    "# 使用字型大小 24 與 16，分別為圖表與 x, y 軸建立標題\n",
    "'''\n",
    "fontsize 沒設定，預設 12\n",
    "plt.title(\"Test\")\n",
    "plt.xlabel(\"value\")\n",
    "plt.ylabel(\"Square\")\n",
    "'''\n",
    "plt.plot(y, linewidth=3)\n",
    "plt.title(\"Test\", fontsize=24)\n",
    "plt.xlabel(\"value\", fontsize=16)\n",
    "plt.ylabel(\"Square\", fontsize=16)\n",
    "plt.show()"
   ]
  },
  {
   "cell_type": "markdown",
   "id": "7de82657",
   "metadata": {},
   "source": [
    "# 座標軸刻度設定\n",
    "- tick_params(axis='both', labelsize=12, color='red')\n",
    "  - axis: 'both'(x,y 都適用), 'x' (僅適用 x), 'y' (僅適用 y)\n",
    "  - labelsize: 刻度大小\n",
    "  - color: 刻度顏色，例如 'r' (紅色)\n",
    "  - colors: 刻度與標題的顏色\n",
    "- 參考網頁: [matplotlib.pyplot.tick_params](https://matplotlib.org/stable/api/_as_gen/matplotlib.pyplot.tick_params.html)"
   ]
  },
  {
   "cell_type": "code",
   "execution_count": null,
   "id": "d03af429",
   "metadata": {},
   "outputs": [],
   "source": [
    "# 使用不同座標軸刻度大小與顏色\n",
    "plt.plot(y, linewidth=3)\n",
    "plt.title(\"Test\", fontsize=24)\n",
    "plt.xlabel(\"value\", fontsize=16)\n",
    "plt.ylabel(\"Square\", fontsize=16)\n",
    "plt.tick_params(axis='both', labelsize=20, color='r') # color 成改 colors 會如何?\n",
    "plt.show()"
   ]
  },
  {
   "cell_type": "markdown",
   "id": "8f64d6b9",
   "metadata": {},
   "source": [
    "# 修改圖表的起始值"
   ]
  },
  {
   "cell_type": "code",
   "execution_count": null,
   "id": "272b33f3",
   "metadata": {},
   "outputs": [],
   "source": [
    "# x 軸標計從 1 開始\n",
    "plt.plot(x, y, linewidth=3)\n",
    "plt.title(\"Test\", fontsize=24)\n",
    "plt.xlabel(\"value\", fontsize=16)\n",
    "plt.ylabel(\"Square\", fontsize=16)\n",
    "\n",
    "# color 成改 colors 會如何?\n",
    "plt.tick_params(axis='both', labelsize=20, color='r') \n",
    "\n",
    "plt.show()"
   ]
  },
  {
   "cell_type": "markdown",
   "id": "96656b00",
   "metadata": {},
   "source": [
    "# 多組數據的應用"
   ]
  },
  {
   "cell_type": "code",
   "execution_count": null,
   "id": "caee4943",
   "metadata": {},
   "outputs": [],
   "source": [
    "# 設計多組數據的應用\n",
    "'''\n",
    "plt.plot(x, y_1, x, y_2, ...)\n",
    "'''\n",
    "y_1 = [x ** 2 for x in range(1, 9)]\n",
    "y_2 = [x * 3 for x in range(1, 9)]\n",
    "x = [x for x in range(1, 9)]\n",
    "plt.plot(x, y_1, x, y_2)\n",
    "plt.title(\"Test\", fontsize=24)\n",
    "plt.xlabel(\"x-Value\", fontsize=14)\n",
    "plt.ylabel(\"y-Value\", fontsize=14)\n",
    "plt.tick_params(axis='both', labelsize=12, color='r')\n",
    "plt.show()"
   ]
  },
  {
   "cell_type": "markdown",
   "id": "161d4a3d",
   "metadata": {},
   "source": [
    "# 線條色彩與樣式\n",
    "- 色彩字元\n",
    "  - 'b': blue (藍色)\n",
    "  - 'c': cyan (青色)\n",
    "  - 'g': green (綠色)\n",
    "  - 'k': black (黑色)\n",
    "  - 'm': magenta (品紅色)\n",
    "  - 'r': red (紅色)\n",
    "  - 'w': white (白色)\n",
    "  - 'y': yellow (黃色)\n",
    "- 樣式字元\n",
    "  - '-' 或 'solid': 實線 (預設值)\n",
    "  - '--' 或 'dashed': 虛線\n",
    "  - '-.' 或 'dashdot': 虛點線\n",
    "  - ':' 或 'dotted': 點線\n",
    "  - '.': 點\n",
    "  - ',': 像素\n",
    "  - 'o': 圓\n",
    "  - 'v': 反三角形\n",
    "  - '^': 三角形\n",
    "  - '<': 左三角形\n",
    "  - '>': 右三角形\n",
    "  - 's': 方形\n",
    "  - 'p': 五角\n",
    "  - '*': 星號\n",
    "  - '+': 加號\n",
    "  - '-': 減號\n",
    "  - 'x': X 標記\n",
    "  - 'H': 六邊形 1\n",
    "  - 'h': 六邊形 2 "
   ]
  },
  {
   "cell_type": "code",
   "execution_count": null,
   "id": "82be4b1d",
   "metadata": {},
   "outputs": [],
   "source": [
    "# 用不同顏色與線條樣式繪製圖表\n",
    "y_1 = [x**4 for x in range(1, 5)]\n",
    "y_2 = [x**3 for x in range(1, 5)]\n",
    "y_3 = [x**2 for x in range(1, 5)]\n",
    "y_4 = [x*10 for x in range(1, 5)]\n",
    "x = [x for x in range(1, 5)]\n",
    "\n",
    "# 色彩字元和樣式字元可以一起用\n",
    "plt.plot(\n",
    "    x, y_1, 'g--',\n",
    "    x, y_2, 'r-.',\n",
    "    x, y_3, 'y:',\n",
    "    x, y_4, 'b-'\n",
    ")\n",
    "\n",
    "plt.title(\"Test\", fontsize=24)\n",
    "plt.xlabel(\"x-Value\", fontsize=14)\n",
    "plt.ylabel(\"y-Value\", fontsize=14)\n",
    "plt.tick_params(axis='both', labelsize=12, color='r')\n",
    "plt.show()"
   ]
  },
  {
   "cell_type": "code",
   "execution_count": null,
   "id": "2492802d",
   "metadata": {},
   "outputs": [],
   "source": [
    "# 承上，額外在線條加入對應 y 值的標記\n",
    "plt.plot(\n",
    "    x, y_1, '-*',\n",
    "    x, y_2, '-o',\n",
    "    x, y_3, '-^',\n",
    "    x, y_4, '-s'\n",
    ")\n",
    "\n",
    "plt.title(\"Test\", fontsize=24)\n",
    "plt.xlabel(\"x-Value\", fontsize=14)\n",
    "plt.ylabel(\"y-Value\", fontsize=14)\n",
    "plt.tick_params(axis='both', labelsize=12, color='r')\n",
    "plt.show()"
   ]
  },
  {
   "cell_type": "code",
   "execution_count": null,
   "id": "7085e66c",
   "metadata": {},
   "outputs": [],
   "source": [
    "# 承上，直接限定刻度範圍\n",
    "plt.xticks(x)\n",
    "\n",
    "plt.plot(\n",
    "    x, y_1, '-*',\n",
    "    x, y_2, '-o',\n",
    "    x, y_3, '-^',\n",
    "    x, y_4, '-s'\n",
    ")\n",
    "\n",
    "plt.title(\"Test\", fontsize=24)\n",
    "plt.xlabel(\"x-Value\", fontsize=14)\n",
    "plt.ylabel(\"y-Value\", fontsize=14)\n",
    "plt.tick_params(axis='both', labelsize=12, color='r')\n",
    "plt.show()"
   ]
  },
  {
   "cell_type": "markdown",
   "id": "23e3679d",
   "metadata": {},
   "source": [
    "# 圖例 legend()\n",
    "- 引數 loc:\n",
    "  - 'best': 0,\n",
    "  - 'upper right': 1,\n",
    "  - 'upper left': 2,\n",
    "  - 'lower left': 3,\n",
    "  - 'lower right': 4,\n",
    "  - 'right': 5 (等同 'center right'),\n",
    "  - 'center left': 6,\n",
    "  - 'center right': 7,\n",
    "  - 'lower center': 8,\n",
    "  - 'upper center': 9,\n",
    "  - 'center': 10"
   ]
  },
  {
   "cell_type": "code",
   "execution_count": null,
   "id": "7b804a11",
   "metadata": {},
   "outputs": [],
   "source": [
    "# 限定刻度範例\n",
    "plt.xticks(x)\n",
    "\n",
    "# plot 要分開來寫\n",
    "plt.plot(x, y_1, '-*', label='y_1')\n",
    "plt.plot(x, y_2, '-o', label='y_2')\n",
    "plt.plot(x, y_3, '-^', label='y_3')\n",
    "plt.plot(x, y_4, '-s', label='y_4')\n",
    "\n",
    "# 設定圖例位置\n",
    "plt.legend(loc='best') # 等同於設定 0\n",
    "\n",
    "plt.title(\"Test\", fontsize=24)\n",
    "plt.xlabel(\"x-Value\", fontsize=14)\n",
    "plt.ylabel(\"y-Value\", fontsize=14)\n",
    "plt.tick_params(axis='both', labelsize=12, color='r')\n",
    "plt.show()"
   ]
  },
  {
   "cell_type": "markdown",
   "id": "08847d2a",
   "metadata": {},
   "source": [
    "# 將圖例放在圖表外側\n",
    "plt.legend(loc='upper left', `bbox_to_anchor(x0, y0, width, height)`):\n",
    "- 圖表的左下角是 (0, 0)，右上角是 (1, 1)。\n",
    "- 這裡的 loc='upper center'，是指 anchor 在 legend 的位置。\n",
    "- loc='`upper left`' 在這裡指的是 `anchor 在 legend 的左上角`，如果 anchor 在 (1, 1)，代表 legend 在 anchor 的右下角，legend 在圖表 (1,1) 座標偏右下一點的位置。"
   ]
  },
  {
   "cell_type": "code",
   "execution_count": null,
   "id": "3e4038bd",
   "metadata": {},
   "outputs": [],
   "source": [
    "# 限定刻度範例\n",
    "plt.xticks(x)\n",
    "\n",
    "# plot 要分開來寫\n",
    "plt.plot(x, y_1, '-*', label='y_1')\n",
    "plt.plot(x, y_2, '-o', label='y_2')\n",
    "plt.plot(x, y_3, '-^', label='y_3')\n",
    "plt.plot(x, y_4, '-s', label='y_4')\n",
    "\n",
    "# 設定圖例位置\n",
    "'''\n",
    "這裡的 loc='upper left'，是指 anchor 在 legend 左上的位置，\n",
    "因為 anchor 在 (0.5, 0.5) 的位置，所以 legend 是在圖表中間偏右下的地方。\n",
    "'''\n",
    "plt.legend(loc='upper left', bbox_to_anchor=(0.5, 0.5))\n",
    "\n",
    "# 增加圖表 padding\n",
    "'''\n",
    "如果 legend 消失不見，可以設定圖表 padding，讓 legend 有顯示的空間，\n",
    "通常用在 Terminal 執行時，圖表會顯示在一個視窗上，\n",
    "視窗可能因為不夠寬、不夠高，造成 legend 無法正常顯示，\n",
    "這時候可以嘗試設定 tight_layout()\n",
    "\n",
    "參考網頁:\n",
    "https://matplotlib.org/stable/api/_as_gen/matplotlib.pyplot.tight_layout.html\n",
    "'''\n",
    "plt.tight_layout(pad=5)\n",
    "\n",
    "plt.title(\"Test\", fontsize=24)\n",
    "plt.xlabel(\"x-Value\", fontsize=14)\n",
    "plt.ylabel(\"y-Value\", fontsize=14)\n",
    "plt.tick_params(axis='both', labelsize=12, color='r')\n",
    "\n",
    "# 儲存圖片\n",
    "'''\n",
    "plt.savefig('./output1.jpg', bbox_inches='tight')\n",
    "第一個引數是儲存檔案的路徑，第二個引數 bbox_inches='tight' 會把先前的 padding 空白處移除掉。\n",
    "\n",
    "參考網頁:\n",
    "https://matplotlib.org/stable/api/_as_gen/matplotlib.pyplot.savefig.html\n",
    "'''\n",
    "plt.savefig('./output1.jpg', bbox_inches='tight')\n",
    "\n",
    "plt.show()"
   ]
  }
 ],
 "metadata": {
  "kernelspec": {
   "display_name": "Python3@da",
   "language": "python",
   "name": "da"
  },
  "language_info": {
   "codemirror_mode": {
    "name": "ipython",
    "version": 3
   },
   "file_extension": ".py",
   "mimetype": "text/x-python",
   "name": "python",
   "nbconvert_exporter": "python",
   "pygments_lexer": "ipython3",
   "version": "3.10.10"
  }
 },
 "nbformat": 4,
 "nbformat_minor": 5
}
