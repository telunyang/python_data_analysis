{
 "cells": [
  {
   "cell_type": "markdown",
   "id": "504249b4",
   "metadata": {},
   "source": [
    "# 安裝 Numpy"
   ]
  },
  {
   "cell_type": "code",
   "execution_count": null,
   "id": "dd315f58",
   "metadata": {},
   "outputs": [],
   "source": [
    "'''\n",
    "註:\n",
    "- 也可以在 conda 的虛擬環境中 (如 da) 裡面安裝 Numpy。\n",
    "  - 指令: pip install -U numpy。\n",
    "- 如果直接安裝 pandas，會連同 numpy 一起安裝。\n",
    "  - 指令: pip install -U pandas\n",
    "'''\n",
    "\n",
    "!pip install -U pandas"
   ]
  },
  {
   "cell_type": "code",
   "execution_count": null,
   "id": "d26a51c3",
   "metadata": {
    "scrolled": true
   },
   "outputs": [],
   "source": [
    "# 匯入套件\n",
    "import numpy as np"
   ]
  },
  {
   "cell_type": "markdown",
   "id": "a4a4f546",
   "metadata": {},
   "source": [
    "建議遇到不確定如何使用的語法，可以經常查詢官方的文件\n",
    "- [doc 版本列表](https://numpy.org/doc/)\n",
    "- [當前 stable 版本](https://numpy.org/doc/stable/reference/index.html)"
   ]
  },
  {
   "cell_type": "markdown",
   "id": "e5064307",
   "metadata": {},
   "source": [
    "# np.array(): 產生陣列 (Array)"
   ]
  },
  {
   "cell_type": "code",
   "execution_count": null,
   "id": "dcab2a66",
   "metadata": {},
   "outputs": [],
   "source": [
    "# 語法查詢\n",
    "np.array?"
   ]
  },
  {
   "cell_type": "code",
   "execution_count": null,
   "id": "fd4babb6",
   "metadata": {},
   "outputs": [],
   "source": [
    "# 在未完成的語法後面按下 tab 鍵，會開啟自動完成功能 (語法提示) \n",
    "np.ar"
   ]
  },
  {
   "cell_type": "code",
   "execution_count": null,
   "id": "d8a9f8f9",
   "metadata": {},
   "outputs": [],
   "source": [
    "'''\n",
    "numpy.array(object, dtype=None, *, copy=True, order='K', subok=False, ndmin=0, like=None)\n",
    "'''\n",
    "# 0 維陣列\n",
    "arr0 = np.array(33)\n",
    "print(arr0 + arr0)"
   ]
  },
  {
   "cell_type": "code",
   "execution_count": null,
   "id": "4da11d07",
   "metadata": {},
   "outputs": [],
   "source": [
    "# 一維陣列\n",
    "arr1 = np.array([0,1,2,3])\n",
    "'''\n",
    "註:\n",
    "np.array() 裡面的 [0,1,2,3]，是 Python 的 List (串列) 變數，\n",
    "而使用 np.array([0,1,2,3]) 賦值之後的 arr1，\n",
    "它是真正的 Array (陣列)\n",
    "'''\n",
    "\n",
    "# 在 cell 裡面，程式碼最後一行是變數名稱時，可以自動預覽結果\n",
    "arr1"
   ]
  },
  {
   "cell_type": "code",
   "execution_count": null,
   "id": "7edcd067",
   "metadata": {},
   "outputs": [],
   "source": [
    "# 如果希望宣告變數後，直接預覽變數，可以用「;」隔開，寫在同一行:\n",
    "arr1 = np.array([0,1,2,3]); arr1"
   ]
  },
  {
   "cell_type": "code",
   "execution_count": null,
   "id": "64ba5ae9",
   "metadata": {},
   "outputs": [],
   "source": [
    "# 二維陣列\n",
    "arr2 = np.array([[0,1,2], [3,4,5]])\n",
    "'''\n",
    "長這個樣子:\n",
    "arr2 = [\n",
    "    [0,1,2], \n",
    "    [3,4,5]\n",
    "]\n",
    "'''\n",
    "arr2"
   ]
  },
  {
   "cell_type": "markdown",
   "id": "63bb8194",
   "metadata": {},
   "source": [
    "# Numpy 的 shape, ndim, dtype"
   ]
  },
  {
   "cell_type": "code",
   "execution_count": null,
   "id": "472bf450",
   "metadata": {},
   "outputs": [],
   "source": [
    "# shape (形狀，以 tuple 格式呈現)\n",
    "'''\n",
    "(2, 3) 代表 2 維陣列:\n",
    "- 有 2 列，每 1 列有 3 個元素，\n",
    "- 也可看成幾個 row、幾個 column\n",
    "'''\n",
    "arr2.shape"
   ]
  },
  {
   "cell_type": "code",
   "execution_count": null,
   "id": "acc2e418",
   "metadata": {},
   "outputs": [],
   "source": [
    "# ndim (n-dimensions，維度)\n",
    "arr2.ndim"
   ]
  },
  {
   "cell_type": "code",
   "execution_count": null,
   "id": "726c08f5",
   "metadata": {},
   "outputs": [],
   "source": [
    "# dtype (data-type，陣列當中每一個元素的屬性)\n",
    "arr2.dtype"
   ]
  },
  {
   "cell_type": "code",
   "execution_count": null,
   "id": "5fc72a7b",
   "metadata": {},
   "outputs": [],
   "source": [
    "# 1 維陣列的 shape 長什麼樣子?\n",
    "'''\n",
    "說明:\n",
    "- (4) 代表一個數字\n",
    "- (4,) 代表一個 tuple (1 維陣列)\n",
    "- (1, 4) 代表 2 維陣列，裡面只有 1 維的資料，該維有 4 個元素，例如 np.array([[1,2,3,4]])\n",
    "'''\n",
    "arr1.shape"
   ]
  },
  {
   "cell_type": "markdown",
   "id": "bc34ce34",
   "metadata": {},
   "source": [
    "# np.arange(): 從數值範圍來建立陣列"
   ]
  },
  {
   "cell_type": "code",
   "execution_count": null,
   "id": "0387c714",
   "metadata": {},
   "outputs": [],
   "source": [
    "# 跟 range() 用法一樣\n",
    "'''\n",
    "用法:\n",
    "numpy.arange([start, ]stop, [step, ]dtype=None, *, like=None)\n",
    "'''\n",
    "arr3 = np.arange(10); arr3"
   ]
  },
  {
   "cell_type": "code",
   "execution_count": null,
   "id": "d1095578",
   "metadata": {},
   "outputs": [],
   "source": [
    "# 取得陣列 [1, 2, 3, 4, 5, 6, 7, 8, 9]\n",
    "arr4 = np.arange(1, 10); arr4"
   ]
  },
  {
   "cell_type": "code",
   "execution_count": null,
   "id": "090ce43e",
   "metadata": {},
   "outputs": [],
   "source": [
    "# 1 ~ 10 之間，每隔 3 個元素，加入資料到陣列: [1, 4, 7]\n",
    "arr5 = np.arange(1, 10, 3); arr5"
   ]
  },
  {
   "cell_type": "markdown",
   "id": "5cc9f625",
   "metadata": {},
   "source": [
    "# Numpy的資料型態 (data-type)"
   ]
  },
  {
   "cell_type": "code",
   "execution_count": null,
   "id": "f06a1e6a",
   "metadata": {},
   "outputs": [],
   "source": [
    "# 自動判斷資料型態\n",
    "arr6 = np.array([1,2,3,4]); arr6.dtype"
   ]
  },
  {
   "cell_type": "code",
   "execution_count": null,
   "id": "6ff957e9",
   "metadata": {},
   "outputs": [],
   "source": [
    "# 自動判斷資料型態 (其中一個元素變成浮點數，dtype 會自動轉型)\n",
    "arr7 = np.array([1., 2, 3, 4]); arr7.dtype"
   ]
  },
  {
   "cell_type": "code",
   "execution_count": null,
   "id": "fa37e289",
   "metadata": {},
   "outputs": [],
   "source": [
    "# 指定陣列每一個資料的資料型態 (指定 float 預設為 float64)\n",
    "arr8 = np.array([1, 2, 3, 4], dtype='float')\n",
    "arr8\n",
    "# arr8.dtype"
   ]
  },
  {
   "cell_type": "code",
   "execution_count": null,
   "id": "92baf280",
   "metadata": {},
   "outputs": [],
   "source": [
    "# 字元/字串用於 numpy\n",
    "'''\n",
    "雖然 NumPy 宣稱數值型 (Numeric) 的 Python，但也可以處理字串/字元\n",
    "dtype('<U4') = Unicode + 最多放 4 個字元\n",
    "'''\n",
    "arr_str = np.array(['Good', 'job', '!']); arr_str.dtype"
   ]
  },
  {
   "cell_type": "code",
   "execution_count": null,
   "id": "ae230475",
   "metadata": {},
   "outputs": [],
   "source": [
    "# 布林值用於 numpy\n",
    "arr_bool = np.array([True, True, False]); arr_bool.dtype"
   ]
  },
  {
   "cell_type": "code",
   "execution_count": null,
   "id": "42f1e8a9",
   "metadata": {},
   "outputs": [],
   "source": [
    "# 類型轉換 (float 轉成 int)\n",
    "arr9 = np.array([1, 2, 3.14]) # dtype('float64')\n",
    "arr9_ = arr9.astype(int)\n",
    "arr9_"
   ]
  },
  {
   "cell_type": "markdown",
   "id": "25169fab",
   "metadata": {},
   "source": [
    "# Array creation routine 用於創建多維陣列的函數"
   ]
  },
  {
   "cell_type": "code",
   "execution_count": null,
   "id": "0ebf7f90",
   "metadata": {},
   "outputs": [],
   "source": [
    "# np.linspace(): 建立等距陣列的 1 維陣列\n",
    "'''\n",
    "np.linspace(start, stop, num=50, endpoint=True, retstep=False, dtype=None)\n",
    "'''\n",
    "arr10 = np.linspace(1, 9, num=3); arr10"
   ]
  },
  {
   "cell_type": "code",
   "execution_count": null,
   "id": "f801ae16",
   "metadata": {},
   "outputs": [],
   "source": [
    "# np.ones(): 建立填滿 1 的陣列，透過 shape 指定幾維\n",
    "'''\n",
    "numpy.ones(shape, dtype=None, order='C', *, like=None)[source]\n",
    "'''\n",
    "arr11 = np.ones((2,3)); arr11"
   ]
  },
  {
   "cell_type": "code",
   "execution_count": null,
   "id": "63842f47",
   "metadata": {},
   "outputs": [],
   "source": [
    "# np.zeros(): 建立填滿 0 的陣列，透過 shape 指定幾維 \n",
    "'''\n",
    "numpy.zeros(shape, dtype=float, order='C', *, like=None)\n",
    "'''\n",
    "arr12 = np.zeros((5,)); arr12"
   ]
  },
  {
   "cell_type": "code",
   "execution_count": null,
   "id": "ebcae3e0",
   "metadata": {},
   "outputs": [],
   "source": [
    "# np.empty(): 建立尚未初始化的陣列，裡面的元素是隨機產生的結果，換句話說，只產生陣列，值都是隨機產生的\n",
    "# 註: 若需要初始化 (同時給元素預設的值)，建議使用 np.zeros、np.ones 或 np.fill\n",
    "'''\n",
    "numpy.empty(shape, dtype=float, order='C', *, like=None)\n",
    "'''\n",
    "arr13 = np.empty((5, 6), dtype=float); arr13"
   ]
  },
  {
   "cell_type": "code",
   "execution_count": null,
   "id": "e4e8d90f",
   "metadata": {},
   "outputs": [],
   "source": [
    "# np.full(): 建立填滿 fill_value 的陣列，透過 shape 指定幾維 \n",
    "'''\n",
    "numpy.full(shape, fill_value, dtype=None, order='C', *, like=None)\n",
    "'''\n",
    "arr14 = np.full((3,4), 10); arr14"
   ]
  },
  {
   "cell_type": "markdown",
   "id": "09f6e09a",
   "metadata": {},
   "source": [
    "# 隨機數"
   ]
  },
  {
   "cell_type": "code",
   "execution_count": null,
   "id": "904327c3",
   "metadata": {},
   "outputs": [],
   "source": [
    "# numpy.random.rand(): 設定種子後，取得隨機亂數\n",
    "# 註: np.random.seed() 的引數固定，隨機產生的值也會固定，亂數的值介於 [0, 1)\n",
    "np.random.seed(42)\n",
    "arr15 = np.random.rand(3); arr15"
   ]
  }
 ],
 "metadata": {
  "kernelspec": {
   "display_name": "Python3@da",
   "language": "python",
   "name": "da"
  },
  "language_info": {
   "codemirror_mode": {
    "name": "ipython",
    "version": 3
   },
   "file_extension": ".py",
   "mimetype": "text/x-python",
   "name": "python",
   "nbconvert_exporter": "python",
   "pygments_lexer": "ipython3",
   "version": "3.10.10"
  }
 },
 "nbformat": 4,
 "nbformat_minor": 5
}
