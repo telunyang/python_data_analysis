{
 "cells": [
  {
   "cell_type": "code",
   "execution_count": null,
   "id": "e71fd35b",
   "metadata": {},
   "outputs": [],
   "source": [
    "# 匯入套件(模組)\n",
    "import matplotlib.pyplot as plt\n",
    "import numpy as np"
   ]
  },
  {
   "cell_type": "markdown",
   "id": "1c48b204",
   "metadata": {},
   "source": [
    "# 繪製散點圖 scatter()\n",
    "若有語法不了解的地方，可以參考以下連結:\n",
    "- [matplotlib.pyplot.scatter](https://matplotlib.org/stable/api/_as_gen/matplotlib.pyplot.scatter.html)"
   ]
  },
  {
   "cell_type": "code",
   "execution_count": null,
   "id": "41749560",
   "metadata": {},
   "outputs": [],
   "source": [
    "# 在座標 (5, 5) 繪製一個點\n",
    "plt.scatter(5, 5)\n",
    "plt.show()"
   ]
  },
  {
   "cell_type": "code",
   "execution_count": null,
   "id": "41296b7e",
   "metadata": {},
   "outputs": [],
   "source": [
    "# 繪製連續的點\n",
    "x_points = [x for x in range(1, 11)]\n",
    "y_points = [x**2 for x in range(1, 11)]\n",
    "plt.scatter(x_points, y_points)\n",
    "plt.show()"
   ]
  },
  {
   "cell_type": "code",
   "execution_count": null,
   "id": "9a3a74a4",
   "metadata": {},
   "outputs": [],
   "source": [
    "# 繪製連續的黃色點，共 100 個點，x 軸由 range(1, 101) 產生，相對應的 y 軸是 x 的平方\n",
    "x_points = list(range(1, 101))\n",
    "y_points = [x**2 for x in x_points]\n",
    "plt.scatter(x_points, y_points, color='y')\n",
    "plt.show()"
   ]
  },
  {
   "cell_type": "code",
   "execution_count": null,
   "id": "eeaaf633",
   "metadata": {},
   "outputs": [],
   "source": [
    "# 設定 x 跟 y 軸的區間\n",
    "'''\n",
    "plt.axis([xmin, xmax, ymin, ymax])\n",
    "'''\n",
    "x_points = list(range(1, 101))\n",
    "y_points = [x**2 for x in x_points]\n",
    "plt.axis([0, 120, 0, 12000])\n",
    "plt.scatter(x_points, y_points, color='y')\n",
    "plt.show()"
   ]
  },
  {
   "cell_type": "markdown",
   "id": "2238817d",
   "metadata": {},
   "source": [
    "# 色彩映射\n",
    "![1](https://matplotlib.org/stable/_images/sphx_glr_colormap_reference_001.png)\n",
    "![2](https://matplotlib.org/stable/_images/sphx_glr_colormap_reference_002.png)\n",
    "![3](https://matplotlib.org/stable/_images/sphx_glr_colormap_reference_003.png)\n",
    "![4](https://matplotlib.org/stable/_images/sphx_glr_colormap_reference_004.png)\n",
    "![5](https://matplotlib.org/stable/_images/sphx_glr_colormap_reference_005.png)\n",
    "![6](https://matplotlib.org/stable/_images/sphx_glr_colormap_reference_006.png)\n",
    "![7](https://matplotlib.org/stable/_images/sphx_glr_colormap_reference_007.png)\n",
    "\n",
    "參考網頁\n",
    "- [Colormap reference](https://matplotlib.org/stable/gallery/color/colormap_reference.html)\n",
    "- [Choosing Colormaps in Matplotlib](https://matplotlib.org/stable/tutorials/colors/colormaps.html)\n",
    "- [matplotlib.pyplot.scatter](https://matplotlib.org/stable/api/_as_gen/matplotlib.pyplot.scatter.html)"
   ]
  },
  {
   "cell_type": "code",
   "execution_count": null,
   "id": "aa5cab9c",
   "metadata": {},
   "outputs": [],
   "source": [
    "# 繪製散點圖時，產生色彩映射的效果\n",
    "'''\n",
    "plt.scatter(x_points, y_points, s=50, c=x_points, cmap='hsv')\n",
    "引數\n",
    "- s: 散點大小\n",
    "- c: x_points(根據 x 軸的值增減作變化) 或 y_points (根據 y 軸的值增減作變化)\n",
    "- cmap: (請查閱 Choosing Colormaps in Matplotlib)\n",
    "'''\n",
    "x_points = list(range(1, 101))\n",
    "y_points = [x**2 for x in x_points]\n",
    "plt.axis([0, 120, 0, 12000])\n",
    "plt.scatter(x_points, y_points, s=10, c=y_points, cmap='hsv')\n",
    "plt.show()"
   ]
  },
  {
   "cell_type": "code",
   "execution_count": null,
   "id": "5a559802",
   "metadata": {},
   "outputs": [],
   "source": [
    "# 隨機數的應用\n",
    "'''\n",
    "傳回 N 個 [0.0, 1.0) 之間的數字\n",
    "np.random.random(N)\n",
    "\n",
    "參考網頁:\n",
    "https://numpy.org/doc/stable/reference/random/generated/numpy.random.random.html\n",
    "'''\n",
    "np.random.random(5)"
   ]
  },
  {
   "cell_type": "code",
   "execution_count": null,
   "id": "6a3ecff9",
   "metadata": {
    "scrolled": false
   },
   "outputs": [],
   "source": [
    "# 隨機數整合 scatter 應用\n",
    "while True:\n",
    "    # 隨機生成 x 和 y 的資料\n",
    "    x = np.random.random(100)\n",
    "    y = np.random.random(100)\n",
    "    \n",
    "    # 建立散點圖\n",
    "    plt.scatter(x, y, s=100, c=y, cmap='rainbow')\n",
    "    plt.show()\n",
    "    \n",
    "    # 互動\n",
    "    ans = input('是否繼續 (y/n): ')\n",
    "    if ans == 'n' or ans == 'N':\n",
    "        break"
   ]
  }
 ],
 "metadata": {
  "kernelspec": {
   "display_name": "Python3@da",
   "language": "python",
   "name": "da"
  },
  "language_info": {
   "codemirror_mode": {
    "name": "ipython",
    "version": 3
   },
   "file_extension": ".py",
   "mimetype": "text/x-python",
   "name": "python",
   "nbconvert_exporter": "python",
   "pygments_lexer": "ipython3",
   "version": "3.10.10"
  }
 },
 "nbformat": 4,
 "nbformat_minor": 5
}
