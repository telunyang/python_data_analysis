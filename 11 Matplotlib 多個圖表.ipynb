{
 "cells": [
  {
   "cell_type": "code",
   "execution_count": null,
   "id": "c207a8ff",
   "metadata": {},
   "outputs": [],
   "source": [
    "# 匯入套件(模組)\n",
    "import matplotlib.pyplot as plt\n",
    "import numpy as np"
   ]
  },
  {
   "cell_type": "markdown",
   "id": "a59b0c6c",
   "metadata": {},
   "source": [
    "# 一個程式有多個圖表"
   ]
  },
  {
   "cell_type": "code",
   "execution_count": null,
   "id": "535dbd52",
   "metadata": {},
   "outputs": [],
   "source": [
    "# 一次顯示兩張圖表\n",
    "'''\n",
    "先前我們一直使用 [x for x in range(1, 11)] 來建立 list，\n",
    "這次使用 np.arange(1, 11) 來產生陣列\n",
    "'''\n",
    "y_1 = np.arange(1, 11)\n",
    "y_2 = np.arange(1, 11) ** 2\n",
    "x = np.arange(1, 11)\n",
    "\n",
    "# 設定第 1 張圖的編號\n",
    "plt.figure(1)\n",
    "plt.plot(x, y_1, '-*')\n",
    "\n",
    "# 這裡是設定第 1 張圖的編號 (可以自行決定要不要加 fontsize)\n",
    "plt.title('Test 1')\n",
    "plt.xlabel('x-value 1')\n",
    "plt.ylabel('y-value 1')\n",
    "\n",
    "# 設定第 2 張圖的編號\n",
    "plt.figure(2)\n",
    "plt.plot(x, y_2, '-o')\n",
    "\n",
    "# 這裡是設定第 2 張圖的編號 (可以自行決定要不要加 fontsize)\n",
    "plt.title('Test 2')\n",
    "plt.xlabel('x-value 2')\n",
    "plt.ylabel('y-value 2')\n",
    "\n",
    "# 顯示圖表\n",
    "plt.show()"
   ]
  },
  {
   "cell_type": "markdown",
   "id": "6e5b2ccb",
   "metadata": {},
   "source": [
    "# 含有子圖表的圖表\n",
    "參考連結:\n",
    "- [matplotlib.pyplot.subplot](https://matplotlib.org/stable/api/_as_gen/matplotlib.pyplot.subplot.html)\n",
    "- [Matplotlib 绘制多图](https://www.runoob.com/matplotlib/matplotlib-subplots.html)"
   ]
  },
  {
   "cell_type": "code",
   "execution_count": null,
   "id": "5ef4a8a1",
   "metadata": {},
   "outputs": [],
   "source": [
    "# 使用 plt.subplot(nrows, ncols, index)，繪製 1 列 2 欄的子圖表\n",
    "'''\n",
    "nrows ＝ 1\n",
    "ncols ＝ 2\n",
    "index = 1\n",
    "代表一共 1 列 2 行(欄)的子圖表，目前是 figure(1)\n",
    "'''\n",
    "# 初始化資料\n",
    "y_1 = np.arange(1, 11)\n",
    "y_2 = np.arange(1, 11) ** 2\n",
    "x = np.arange(1, 11)\n",
    "\n",
    "# 設定第 1 張子圖表\n",
    "plt.subplot(1,2,1)\n",
    "plt.plot(x, y_1, '-*')\n",
    "\n",
    "# 設定第 2 張子圖表\n",
    "plt.subplot(1,2,2)\n",
    "plt.plot(x, y_2, '-o')\n",
    "\n",
    "# 顯示圖表\n",
    "plt.show()"
   ]
  },
  {
   "cell_type": "code",
   "execution_count": null,
   "id": "df558d8f",
   "metadata": {},
   "outputs": [],
   "source": [
    "# 使用 plt.subplot(nrows, ncols, index)，繪製 2 列 3 欄的子圖表\n",
    "'''\n",
    "nrows ＝ 2\n",
    "ncols ＝ 3\n",
    "index = 1\n",
    "代表一共 2 列 3 行(欄)的子圖表，目前是 figure(1)\n",
    "'''\n",
    "# 初始化資料\n",
    "y_1 = np.arange(1, 11)\n",
    "y_2 = np.arange(1, 11) ** 2\n",
    "y_3 = np.arange(1, 11) ** 3\n",
    "y_4 = np.arange(1, 11) * 10\n",
    "y_5 = np.arange(1, 11) * 20\n",
    "y_6 = np.arange(1, 11) * 30\n",
    "x = np.arange(1, 11)\n",
    "\n",
    "# 設定第 1 張子圖表\n",
    "plt.subplot(2,3,1)\n",
    "plt.plot(x, y_1, '-*')\n",
    "\n",
    "# 設定第 2 張子圖表\n",
    "plt.subplot(2,3,2)\n",
    "plt.plot(x, y_2, '-o')\n",
    "\n",
    "# 設定第 3 張子圖表\n",
    "plt.subplot(2,3,3)\n",
    "plt.plot(x, y_3, '-<')\n",
    "\n",
    "# 設定第 4 張子圖表\n",
    "plt.subplot(2,3,4)\n",
    "plt.plot(x, y_4, '->')\n",
    "\n",
    "# 設定第 5 張子圖表\n",
    "plt.subplot(2,3,5)\n",
    "plt.plot(x, y_5, '-p')\n",
    "\n",
    "# 設定第 6 張子圖表\n",
    "plt.subplot(2,3,6)\n",
    "plt.plot(x, y_6, '-s')\n",
    "\n",
    "# 顯示圖表\n",
    "plt.show()"
   ]
  },
  {
   "cell_type": "markdown",
   "id": "dee8502a",
   "metadata": {},
   "source": [
    "# 繪製上方一個子圖表、下方兩個子圖表的圖表"
   ]
  },
  {
   "cell_type": "code",
   "execution_count": null,
   "id": "f267ff5e",
   "metadata": {},
   "outputs": [],
   "source": [
    "# 初始化\n",
    "y_1 = np.arange(1, 11)\n",
    "y_2 = np.arange(1, 11) ** 2\n",
    "y_3 = np.arange(1, 11) ** 3\n",
    "x = np.arange(1, 11)\n",
    "\n",
    "# 設定第 1 張子圖表 (左上)\n",
    "ax1 = plt.subplot(2,2,1)\n",
    "ax1.plot(x, y_1, '-*')\n",
    "\n",
    "# 設定第 2 張子圖表 (右上)\n",
    "ax2 = plt.subplot(2,2,2)\n",
    "ax2.plot(x, y_2, '-o')\n",
    "\n",
    "# 設定第 3 張子圖表 (正下，因為跨兩欄，所以編號為 2)\n",
    "ax3 = plt.subplot(2,1,2)\n",
    "ax3.plot(x, y_3, '-<')\n",
    "\n",
    "# 顯示圖表\n",
    "plt.show()"
   ]
  }
 ],
 "metadata": {
  "kernelspec": {
   "display_name": "Python3@da",
   "language": "python",
   "name": "da"
  },
  "language_info": {
   "codemirror_mode": {
    "name": "ipython",
    "version": 3
   },
   "file_extension": ".py",
   "mimetype": "text/x-python",
   "name": "python",
   "nbconvert_exporter": "python",
   "pygments_lexer": "ipython3",
   "version": "3.10.10"
  }
 },
 "nbformat": 4,
 "nbformat_minor": 5
}
