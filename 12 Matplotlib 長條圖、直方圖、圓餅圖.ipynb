{
 "cells": [
  {
   "cell_type": "code",
   "execution_count": null,
   "id": "fa6c88e4",
   "metadata": {},
   "outputs": [],
   "source": [
    "# 匯入套件(模組)\n",
    "import matplotlib.pyplot as plt\n",
    "import numpy as np"
   ]
  },
  {
   "cell_type": "markdown",
   "id": "5274cdef",
   "metadata": {},
   "source": [
    "![直方圖（Histogram）與長條圖（Bar chart）之差異](https://miro.medium.com/v2/resize:fit:1400/0*OSp7hkXwZAOMAZZ3)\n",
    "\n",
    "參考資料:\n",
    "- [Python 學習筆記 : Matplotlib 資料視覺化 (二) 統計圖](http://yhhuang1966.blogspot.com/2020/05/python-matplotlib.html)\n",
    "- [如何分辨長相近似的孿生兄弟-直方圖（Histogram）與長條圖（Bar chart）之差異](https://medium.com/marketingdatascience/如何分辨長相近似的孿生兄弟-直方圖-histogram-與長條圖-bar-chart-之差異-154602ac0ba6)\n",
    "- [Examples](https://matplotlib.org/stable/gallery/)"
   ]
  },
  {
   "cell_type": "markdown",
   "id": "346567c4",
   "metadata": {},
   "source": [
    "# 長條圖 bar()\n",
    "- 通常用於「類別型」資料 (categorical data)\n",
    "  - 資料之間是離散的 (discrete)、間斷的\n",
    "- plt.bar(x, height, width=0.8, ...)\n",
    "  - `x`: array-like 的資料，例如 list、array、tuple 等，作為 x 軸的標題\n",
    "  - `height`: array-like 的資料，作為 y 軸的值\n",
    "  - `width`: bar 的寬度\n",
    "- matplotlib.pyplot.xticks(ticks=None, labels=None, ...)\n",
    "  - `ticks`: x 軸的刻度\n",
    "  - `label`: 對應 x 軸的標題，類似取代 x 軸的刻度，用其它名稱代替\n",
    "- 參考連結:\n",
    "  - [matplotlib.pyplot.bar](https://matplotlib.org/stable/api/_as_gen/matplotlib.pyplot.bar.html)\n",
    "  - [matplotlib.pyplot.xticks](https://matplotlib.org/stable/api/_as_gen/matplotlib.pyplot.xticks.html)\n",
    "  - [Python matplotlib 畫圖 – 柱狀圖 (長條圖)](https://python-ecw.com/2020/11/12/matplotlib柱狀圖/)"
   ]
  },
  {
   "cell_type": "code",
   "execution_count": null,
   "id": "f882f086",
   "metadata": {},
   "outputs": [],
   "source": [
    "'''\n",
    "班上投票，Alex 得票 7749，Bill 得票 9527，Carl 得票 2266，請用長條圖表示\n",
    "'''\n",
    "\n",
    "# 得票數 (因為有 3 名候選人)\n",
    "votes = [7749, 9527, 2266]\n",
    "candidates = ['Alex', 'Bill', 'Carl']\n",
    "\n",
    "# x 軸的刻度，例如 [0, 1, 2]\n",
    "x_index = np.arange(len(votes))\n",
    "\n",
    "# bar 的寬度\n",
    "width = 0.5\n",
    "\n",
    "# 繪製長條圖\n",
    "plt.bar(x_index, votes, width)\n",
    "\n",
    "# 設定圖表標題\n",
    "plt.title('Election')\n",
    "plt.ylabel('Votes')\n",
    "\n",
    "# 設定 x 和 y 軸的刻度\n",
    "plt.xticks(x_index, candidates)\n",
    "plt.yticks(np.arange(0, 10000, 1000))\n",
    "\n",
    "# 顯示圖表\n",
    "plt.show()"
   ]
  },
  {
   "cell_type": "markdown",
   "id": "ffab1dad",
   "metadata": {},
   "source": [
    "# 直方圖\n",
    "- 通常用於「數值型」資料 (numeric data)\n",
    "  - 資料之間是連續的 (continueous)\n",
    "- plt.hist(x, bins, ...)\n",
    "  - x: 你的資料，list、array 或是 sequece\n",
    "  - bin: 組距，預設 10\n",
    "- 參考資料:\n",
    "  - [matplotlib.pyplot.hist](https://matplotlib.org/stable/api/_as_gen/matplotlib.pyplot.hist.html)\n",
    "  - [Python 學習筆記 : Matplotlib 資料視覺化 (二) 統計圖](http://yhhuang1966.blogspot.com/2020/05/python-matplotlib.html)"
   ]
  },
  {
   "cell_type": "code",
   "execution_count": null,
   "id": "b8f0ffe9",
   "metadata": {},
   "outputs": [],
   "source": [
    "'''\n",
    "請以班上 100 個學生考試成績，最低 0 分，最高 100 分，繪製直方圖\n",
    "'''\n",
    "\n",
    "# 隨機產生 100 位同學的成績 (用 np.random.randint 的話，要轉成 list)\n",
    "x_scores = list(np.random.randint(0, 100, size=(1, 100), dtype='int32'))\n",
    "\n",
    "# 組距\n",
    "x_bins = np.arange(0, 101, 10)\n",
    "\n",
    "# 繪製直方圖\n",
    "plt.hist(x_scores, bins=x_bins)\n",
    "\n",
    "# 設定標題\n",
    "plt.title('Students Exam')\n",
    "plt.xticks(x_bins, x_bins)\n",
    "plt.ylabel('Scores')\n",
    "\n",
    "# 顯示圖表\n",
    "plt.show()"
   ]
  },
  {
   "cell_type": "markdown",
   "id": "115ca6ba",
   "metadata": {},
   "source": [
    "# 圓餅圖 pie()\n",
    "- 用於描述「類別型」資料\n",
    "- plt.pie(x, explode=None, labels=None, colors=None, autopct=None,shadow=False, labeldistance=1.1, radius=1, counterclock=True, center=(0, 0), ...)\n",
    "  - x: 你的資料。\n",
    "  - explode: 餅分離的程度，list 格式，其中的每個元素值介於 0 到 1 之間。\n",
    "  - labels: 圓餅圖的標題，list 格式。\n",
    "  - autopct: 每一個項目的百分比格式，例如「%2.2f%%」，代表整數 2 位數，小數 2 位數。\n",
    "  - labeldistance: 項目標題與圓餅圖中間距離是半徑的多少倍。\n",
    "  - center: 圓中心座標，預設 (0, 0)。\n",
    "  - shadow: 圓餅圖是否有陰影，預設為 False。\n",
    "- 參考資料:\n",
    "  - [matplotlib.pyplot.pie](https://matplotlib.org/stable/api/_as_gen/matplotlib.pyplot.pie.html#matplotlib.pyplot.pie)"
   ]
  },
  {
   "cell_type": "code",
   "execution_count": null,
   "id": "75104129",
   "metadata": {},
   "outputs": [],
   "source": [
    "'''\n",
    "有一家庭支出費用如下，以此設計圓餅圖:\n",
    "旅行 (Travel): 8000\n",
    "娛樂 (Entertainment): 2000\n",
    "教育 (Education): 3000\n",
    "交通 (Transportation): 5000\n",
    "餐費 (Food): 6000\n",
    "'''\n",
    "\n",
    "# 設定支出項目\n",
    "items = ['Travel', 'Entertainment', 'Education', 'Transportation', 'Food']\n",
    "\n",
    "# 設定支出費用\n",
    "expenses = [8000, 2000, 3000, 5000, 6000]\n",
    "\n",
    "# 繪製圓餅圖\n",
    "plt.pie(\n",
    "    expenses,\n",
    "    labels=items,\n",
    "    explode=(0,0.2,0,0,0),\n",
    "    autopct=\"%1.2f%%\"\n",
    ")\n",
    "\n",
    "# 顯示圖表\n",
    "plt.show()"
   ]
  },
  {
   "cell_type": "code",
   "execution_count": null,
   "id": "58112661",
   "metadata": {},
   "outputs": [],
   "source": [
    "'''\n",
    "確認電腦內部字型\n",
    "'''\n",
    "from matplotlib.font_manager import fontManager\n",
    "for i in sorted(fontManager.get_font_names()):\n",
    "    print(i)"
   ]
  },
  {
   "cell_type": "code",
   "execution_count": null,
   "id": "771d8e3e",
   "metadata": {},
   "outputs": [],
   "source": [
    "'''\n",
    "承上，將標題改成中文來顯示\n",
    "'''\n",
    "\n",
    "# 設定字型\n",
    "import matplotlib\n",
    "matplotlib.rc('font', family='Microsoft JhengHei')\n",
    "\n",
    "# 設定支出項目\n",
    "items = ['旅行', '娛樂', '教育', '交通', '餐費']\n",
    "\n",
    "# 設定支出費用\n",
    "expenses = [8000, 2000, 3000, 5000, 6000]\n",
    "\n",
    "# 繪製圓餅圖\n",
    "plt.pie(\n",
    "    expenses,\n",
    "    labels=items,\n",
    "    explode=(0,0.2,0,0,0),\n",
    "    autopct=\"%1.2f%%\"\n",
    ")\n",
    "\n",
    "# 顯示圖表\n",
    "plt.show()"
   ]
  }
 ],
 "metadata": {
  "kernelspec": {
   "display_name": "Python3@da",
   "language": "python",
   "name": "da"
  },
  "language_info": {
   "codemirror_mode": {
    "name": "ipython",
    "version": 3
   },
   "file_extension": ".py",
   "mimetype": "text/x-python",
   "name": "python",
   "nbconvert_exporter": "python",
   "pygments_lexer": "ipython3",
   "version": "3.10.10"
  }
 },
 "nbformat": 4,
 "nbformat_minor": 5
}
