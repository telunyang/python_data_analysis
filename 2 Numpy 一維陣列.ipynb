{
 "cells": [
  {
   "cell_type": "code",
   "execution_count": null,
   "id": "f6a59d5a",
   "metadata": {},
   "outputs": [],
   "source": [
    "import numpy as np"
   ]
  },
  {
   "cell_type": "markdown",
   "id": "1c83eb2c",
   "metadata": {},
   "source": [
    "# 一維陣列的四則運算"
   ]
  },
  {
   "cell_type": "code",
   "execution_count": null,
   "id": "7844ce81",
   "metadata": {},
   "outputs": [],
   "source": [
    "# 初始化陣列\n",
    "x = np.array([2, 4, 6, 8, 10])\n",
    "y = np.array([10, 8, 6, 4, 2])"
   ]
  },
  {
   "cell_type": "code",
   "execution_count": null,
   "id": "1b490ed1",
   "metadata": {},
   "outputs": [],
   "source": [
    "# 整數與陣列: 加法\n",
    "a = x + 4; a"
   ]
  },
  {
   "cell_type": "code",
   "execution_count": null,
   "id": "98cbe863",
   "metadata": {},
   "outputs": [],
   "source": [
    "# 整數與陣列: 減法\n",
    "a = x - 2; a"
   ]
  },
  {
   "cell_type": "code",
   "execution_count": null,
   "id": "eab9a606",
   "metadata": {},
   "outputs": [],
   "source": [
    "# 整數與陣列: 乘法\n",
    "a = x * 2; a"
   ]
  },
  {
   "cell_type": "code",
   "execution_count": null,
   "id": "a0ec1b0e",
   "metadata": {},
   "outputs": [],
   "source": [
    "# 整數與陣列: 除法\n",
    "a = x / 2; a"
   ]
  },
  {
   "cell_type": "code",
   "execution_count": null,
   "id": "18ec130c",
   "metadata": {},
   "outputs": [],
   "source": [
    "# 陣列加法運算\n",
    "a = x + y; a"
   ]
  },
  {
   "cell_type": "code",
   "execution_count": null,
   "id": "a1b6013d",
   "metadata": {},
   "outputs": [],
   "source": [
    "# 陣列減法運算\n",
    "a = x - y; a"
   ]
  },
  {
   "cell_type": "code",
   "execution_count": null,
   "id": "bb4790ff",
   "metadata": {},
   "outputs": [],
   "source": [
    "# 陣列乘法運算\n",
    "a = x * y; a"
   ]
  },
  {
   "cell_type": "code",
   "execution_count": null,
   "id": "93a342c9",
   "metadata": {},
   "outputs": [],
   "source": [
    "# 陣列除法運算\n",
    "a = x / y; a"
   ]
  },
  {
   "cell_type": "code",
   "execution_count": null,
   "id": "22e4e358",
   "metadata": {},
   "outputs": [],
   "source": [
    "# 陣列元素平方\n",
    "'''\n",
    "也可以使用\n",
    "A = np.square(x)\n",
    "B = np.square(y)\n",
    "'''\n",
    "A = x ** 2\n",
    "B = y ** 2"
   ]
  },
  {
   "cell_type": "code",
   "execution_count": null,
   "id": "d81de89c",
   "metadata": {},
   "outputs": [],
   "source": [
    "A"
   ]
  },
  {
   "cell_type": "code",
   "execution_count": null,
   "id": "0a96856f",
   "metadata": {},
   "outputs": [],
   "source": [
    "B"
   ]
  },
  {
   "cell_type": "code",
   "execution_count": null,
   "id": "9fe67913",
   "metadata": {},
   "outputs": [],
   "source": [
    "# 陣列元素開根號\n",
    "A = np.sqrt(x)\n",
    "B = np.sqrt(y)"
   ]
  },
  {
   "cell_type": "code",
   "execution_count": null,
   "id": "f988778e",
   "metadata": {},
   "outputs": [],
   "source": [
    "A"
   ]
  },
  {
   "cell_type": "code",
   "execution_count": null,
   "id": "058f7a3f",
   "metadata": {},
   "outputs": [],
   "source": [
    "B"
   ]
  },
  {
   "cell_type": "markdown",
   "id": "c4104ffc",
   "metadata": {},
   "source": [
    "# 關係運算子運算"
   ]
  },
  {
   "cell_type": "markdown",
   "id": "d598c55b",
   "metadata": {},
   "source": [
    "以 大於 (>)、小於 (<)、等於 (==) 為例"
   ]
  },
  {
   "cell_type": "code",
   "execution_count": null,
   "id": "257f9a40",
   "metadata": {},
   "outputs": [],
   "source": [
    "# 大於\n",
    "a = x > y; a"
   ]
  },
  {
   "cell_type": "code",
   "execution_count": null,
   "id": "cb35bf22",
   "metadata": {},
   "outputs": [],
   "source": [
    "# 小於\n",
    "a = x < y; a"
   ]
  },
  {
   "cell_type": "code",
   "execution_count": null,
   "id": "f13f881f",
   "metadata": {},
   "outputs": [],
   "source": [
    "# 等於\n",
    "a = x == y; a"
   ]
  },
  {
   "cell_type": "markdown",
   "id": "fe1f5465",
   "metadata": {},
   "source": [
    "# 陣列索引與切片 (Indexing & Slicing)"
   ]
  },
  {
   "cell_type": "code",
   "execution_count": null,
   "id": "28fc397b",
   "metadata": {},
   "outputs": [],
   "source": [
    "# 指定索引\n",
    "x[0]"
   ]
  },
  {
   "cell_type": "code",
   "execution_count": null,
   "id": "cea337c2",
   "metadata": {},
   "outputs": [],
   "source": [
    "# 切片 (範圍: [start, end-1, step])\n",
    "x[0:2]"
   ]
  },
  {
   "cell_type": "code",
   "execution_count": null,
   "id": "e44f4023",
   "metadata": {},
   "outputs": [],
   "source": [
    "# 切片，指定每幾步算一次\n",
    "'''\n",
    "這樣也可以\n",
    "x[::2]\n",
    "'''\n",
    "x[0:5:2]"
   ]
  },
  {
   "cell_type": "code",
   "execution_count": null,
   "id": "833125db",
   "metadata": {},
   "outputs": [],
   "source": [
    "# 切片 (使用負號)\n",
    "x[-1]"
   ]
  },
  {
   "cell_type": "code",
   "execution_count": null,
   "id": "1c063cf6",
   "metadata": {},
   "outputs": [],
   "source": [
    "# 切片 (範圍: [start, end-1, step])\n",
    "x[-3:-1]"
   ]
  },
  {
   "cell_type": "markdown",
   "id": "627bb997",
   "metadata": {},
   "source": [
    "# 陣列的結合與加入"
   ]
  },
  {
   "cell_type": "code",
   "execution_count": null,
   "id": "9d140825",
   "metadata": {},
   "outputs": [],
   "source": [
    "# 陣列結合\n",
    "'''\n",
    "numpy.concatenate((a1, a2, ...), axis=0, out=None, dtype=None, casting=\"same_kind\")\n",
    "'''\n",
    "z = np.concatenate((x, y)); z"
   ]
  },
  {
   "cell_type": "code",
   "execution_count": null,
   "id": "027658bd",
   "metadata": {},
   "outputs": [],
   "source": [
    "# 將陣列元素加入其它陣列\n",
    "z = np.concatenate((x, [12, 14, 16])); z"
   ]
  },
  {
   "cell_type": "markdown",
   "id": "f4736b3a",
   "metadata": {},
   "source": [
    "# 在陣列指定索引插入元素 insert()"
   ]
  },
  {
   "cell_type": "markdown",
   "id": "9510b3fc",
   "metadata": {},
   "source": [
    "原本 x 是 [2,4,6,8,10]"
   ]
  },
  {
   "cell_type": "code",
   "execution_count": null,
   "id": "8dce528a",
   "metadata": {},
   "outputs": [],
   "source": [
    "# 在陣列指定索引 2 插入元素 9\n",
    "'''\n",
    "numpy.insert(arr, obj, values, axis=None)\n",
    "'''\n",
    "z = np.insert(x, 2, 9); z"
   ]
  },
  {
   "cell_type": "code",
   "execution_count": null,
   "id": "2dd56e47",
   "metadata": {},
   "outputs": [],
   "source": [
    "# 在陣列指定索引 1 跟 3，分別插入元素 7 跟 9\n",
    "z = np.insert(x, [1,3], [7,9]); z"
   ]
  },
  {
   "cell_type": "markdown",
   "id": "63a77f53",
   "metadata": {},
   "source": [
    "# 刪除指定索引的陣列元素 delete()"
   ]
  },
  {
   "cell_type": "code",
   "execution_count": null,
   "id": "c8fd4758",
   "metadata": {},
   "outputs": [],
   "source": [
    "# 刪除索引 1 的元素\n",
    "'''\n",
    "numpy.delete(arr, obj, axis=None)\n",
    "'''\n",
    "z = np.delete(x, 1); z"
   ]
  },
  {
   "cell_type": "code",
   "execution_count": null,
   "id": "59143742",
   "metadata": {},
   "outputs": [],
   "source": [
    "# 刪除索引 1 和 3 所放置的元素\n",
    "z = np.delete(x, [1, 3]); z"
   ]
  },
  {
   "cell_type": "markdown",
   "id": "4c0e34f2",
   "metadata": {},
   "source": [
    "# 向量內積 (inner product)"
   ]
  },
  {
   "cell_type": "code",
   "execution_count": null,
   "id": "df403ab9",
   "metadata": {},
   "outputs": [],
   "source": [
    "'''\n",
    "內積在機器學習的領域，是很重要的概念，\n",
    "無論是取得向量特徵，或是向量間的關係，\n",
    "內積都扮演重要的角色\n",
    "\n",
    "numpy.inner(a, b, /)\n",
    "\n",
    "其它還有 \n",
    "numpy.cross 叉積\n",
    "numpy.outer 外積\n",
    "可以自行嘗試\n",
    "'''\n",
    "a = np.array([4,5,1,3,4])\n",
    "b = np.array([2,3,5,4,2])\n",
    "c = np.inner(a, b); c"
   ]
  }
 ],
 "metadata": {
  "kernelspec": {
   "display_name": "Python3@da",
   "language": "python",
   "name": "da"
  },
  "language_info": {
   "codemirror_mode": {
    "name": "ipython",
    "version": 3
   },
   "file_extension": ".py",
   "mimetype": "text/x-python",
   "name": "python",
   "nbconvert_exporter": "python",
   "pygments_lexer": "ipython3",
   "version": "3.10.10"
  }
 },
 "nbformat": 4,
 "nbformat_minor": 5
}
