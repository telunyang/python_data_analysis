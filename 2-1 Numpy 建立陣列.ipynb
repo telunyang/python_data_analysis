{
 "cells": [
  {
   "cell_type": "markdown",
   "id": "504249b4",
   "metadata": {},
   "source": [
    "# 安裝 Numpy\n",
    "若有語法不了解的地方，可以參考以下連結:\n",
    "- [NumPy Reference](https://numpy.org/doc/stable/reference/index.html)\n",
    "- [NumPy Tutorial](https://www.w3schools.com/python/numpy/default.asp)\n",
    "- [NumPy 教程](https://www.runoob.com/numpy/numpy-tutorial.html)"
   ]
  },
  {
   "cell_type": "code",
   "execution_count": null,
   "id": "dd315f58",
   "metadata": {},
   "outputs": [],
   "source": [
    "'''\n",
    "註:\n",
    "- 也可以在 conda 的虛擬環境中 (如 da) 裡面安裝 Numpy。\n",
    "  - 指令: pip install -U numpy。\n",
    "- 如果直接安裝 pandas，會連同 numpy 一起安裝。\n",
    "  - 指令: pip install -U pandas\n",
    "'''\n",
    "\n",
    "!pip install -U pandas"
   ]
  },
  {
   "cell_type": "code",
   "execution_count": 1,
   "id": "d26a51c3",
   "metadata": {
    "scrolled": true
   },
   "outputs": [],
   "source": [
    "# 匯入套件\n",
    "import numpy as np"
   ]
  },
  {
   "cell_type": "markdown",
   "id": "a4a4f546",
   "metadata": {},
   "source": [
    "建議遇到不確定如何使用的語法，可以經常查詢官方的文件\n",
    "- [doc 版本列表](https://numpy.org/doc/)\n",
    "- [當前 stable 版本](https://numpy.org/doc/stable/reference/index.html)"
   ]
  },
  {
   "cell_type": "markdown",
   "id": "e5064307",
   "metadata": {},
   "source": [
    "# np.array(): 產生陣列 (Array)"
   ]
  },
  {
   "cell_type": "code",
   "execution_count": null,
   "id": "dcab2a66",
   "metadata": {},
   "outputs": [],
   "source": [
    "# 語法查詢\n",
    "np.array?"
   ]
  },
  {
   "cell_type": "code",
   "execution_count": null,
   "id": "fd4babb6",
   "metadata": {},
   "outputs": [],
   "source": [
    "# 在未完成的語法後面按下 tab 鍵，會開啟自動完成功能 (語法提示) \n",
    "np.ar"
   ]
  },
  {
   "cell_type": "code",
   "execution_count": 2,
   "id": "d8a9f8f9",
   "metadata": {},
   "outputs": [
    {
     "name": "stdout",
     "output_type": "stream",
     "text": [
      "66\n"
     ]
    }
   ],
   "source": [
    "'''\n",
    "numpy.array(object, dtype=None, *, copy=True, order='K', subok=False, ndmin=0, like=None)\n",
    "'''\n",
    "# 0 維陣列\n",
    "a = np.array(33)\n",
    "print(a + a)"
   ]
  },
  {
   "cell_type": "code",
   "execution_count": 3,
   "id": "4da11d07",
   "metadata": {},
   "outputs": [
    {
     "data": {
      "text/plain": [
       "array([0, 1, 2, 3])"
      ]
     },
     "execution_count": 3,
     "metadata": {},
     "output_type": "execute_result"
    }
   ],
   "source": [
    "# 一維陣列\n",
    "a = np.array([0,1,2,3])\n",
    "'''\n",
    "註:\n",
    "np.array() 裡面的 [0,1,2,3]，是 Python 的 List (串列) 變數，\n",
    "而使用 np.array([0,1,2,3]) 賦值之後的 a，\n",
    "它是真正的 Array (陣列)\n",
    "'''\n",
    "\n",
    "# 在 cell 裡面，程式碼最後一行是變數名稱時，可以自動預覽結果\n",
    "a"
   ]
  },
  {
   "cell_type": "code",
   "execution_count": 4,
   "id": "7edcd067",
   "metadata": {},
   "outputs": [
    {
     "data": {
      "text/plain": [
       "array([0, 1, 2, 3])"
      ]
     },
     "execution_count": 4,
     "metadata": {},
     "output_type": "execute_result"
    }
   ],
   "source": [
    "# 如果希望宣告變數後，直接預覽變數，可以用「;」隔開，寫在同一行:\n",
    "a = np.array([0,1,2,3]); a"
   ]
  },
  {
   "cell_type": "code",
   "execution_count": 5,
   "id": "64ba5ae9",
   "metadata": {},
   "outputs": [
    {
     "data": {
      "text/plain": [
       "array([[0, 1, 2],\n",
       "       [3, 4, 5]])"
      ]
     },
     "execution_count": 5,
     "metadata": {},
     "output_type": "execute_result"
    }
   ],
   "source": [
    "# 二維陣列\n",
    "'''\n",
    "長這個樣子:\n",
    "arr = [\n",
    "    [0,1,2], \n",
    "    [3,4,5]\n",
    "]\n",
    "'''\n",
    "a = np.array([[0,1,2], [3,4,5]]); a"
   ]
  },
  {
   "cell_type": "markdown",
   "id": "63bb8194",
   "metadata": {},
   "source": [
    "# Numpy 的 shape, ndim, dtype"
   ]
  },
  {
   "cell_type": "code",
   "execution_count": 6,
   "id": "472bf450",
   "metadata": {},
   "outputs": [
    {
     "data": {
      "text/plain": [
       "(2, 3)"
      ]
     },
     "execution_count": 6,
     "metadata": {},
     "output_type": "execute_result"
    }
   ],
   "source": [
    "# shape (形狀，以 tuple 格式呈現)\n",
    "'''\n",
    "(2, 3) 代表 2 維陣列:\n",
    "- 有 2 列，每 1 列有 3 個元素，\n",
    "- 也可看成幾個 row、幾個 column\n",
    "'''\n",
    "a.shape"
   ]
  },
  {
   "cell_type": "code",
   "execution_count": 7,
   "id": "acc2e418",
   "metadata": {},
   "outputs": [
    {
     "data": {
      "text/plain": [
       "2"
      ]
     },
     "execution_count": 7,
     "metadata": {},
     "output_type": "execute_result"
    }
   ],
   "source": [
    "# ndim (n-dimensions，維度)\n",
    "a.ndim"
   ]
  },
  {
   "cell_type": "code",
   "execution_count": 8,
   "id": "726c08f5",
   "metadata": {},
   "outputs": [
    {
     "data": {
      "text/plain": [
       "dtype('int32')"
      ]
     },
     "execution_count": 8,
     "metadata": {},
     "output_type": "execute_result"
    }
   ],
   "source": [
    "# dtype (data-type，陣列當中每一個元素的屬性)\n",
    "a.dtype"
   ]
  },
  {
   "cell_type": "code",
   "execution_count": 9,
   "id": "5fc72a7b",
   "metadata": {},
   "outputs": [
    {
     "data": {
      "text/plain": [
       "(2, 3)"
      ]
     },
     "execution_count": 9,
     "metadata": {},
     "output_type": "execute_result"
    }
   ],
   "source": [
    "# 1 維陣列的 shape 長什麼樣子?\n",
    "'''\n",
    "說明:\n",
    "- (4) 代表一個數字\n",
    "- (4,) 代表一個 tuple (1 維陣列)\n",
    "- (1, 4) 代表 2 維陣列，裡面只有 1 維的資料，該維有 4 個元素，例如 np.array([[1,2,3,4]])\n",
    "'''\n",
    "a.shape"
   ]
  },
  {
   "cell_type": "markdown",
   "id": "bc34ce34",
   "metadata": {},
   "source": [
    "# np.arange(): 從數值範圍來建立陣列"
   ]
  },
  {
   "cell_type": "code",
   "execution_count": 10,
   "id": "0387c714",
   "metadata": {},
   "outputs": [
    {
     "data": {
      "text/plain": [
       "array([0, 1, 2, 3, 4, 5, 6, 7, 8, 9])"
      ]
     },
     "execution_count": 10,
     "metadata": {},
     "output_type": "execute_result"
    }
   ],
   "source": [
    "# 跟 range() 用法一樣\n",
    "'''\n",
    "用法:\n",
    "numpy.arange([start, ]stop, [step, ]dtype=None, *, like=None)\n",
    "'''\n",
    "a = np.arange(10); a"
   ]
  },
  {
   "cell_type": "code",
   "execution_count": 11,
   "id": "d1095578",
   "metadata": {},
   "outputs": [
    {
     "data": {
      "text/plain": [
       "array([1, 2, 3, 4, 5, 6, 7, 8, 9])"
      ]
     },
     "execution_count": 11,
     "metadata": {},
     "output_type": "execute_result"
    }
   ],
   "source": [
    "# 取得陣列 [1, 2, 3, 4, 5, 6, 7, 8, 9]\n",
    "a = np.arange(1, 10); a"
   ]
  },
  {
   "cell_type": "code",
   "execution_count": 12,
   "id": "090ce43e",
   "metadata": {},
   "outputs": [
    {
     "data": {
      "text/plain": [
       "array([1, 4, 7])"
      ]
     },
     "execution_count": 12,
     "metadata": {},
     "output_type": "execute_result"
    }
   ],
   "source": [
    "# 1 ~ 10 之間，每隔 3 個元素，加入資料到陣列: [1, 4, 7]\n",
    "a = np.arange(1, 10, 3); a"
   ]
  },
  {
   "cell_type": "markdown",
   "id": "5cc9f625",
   "metadata": {},
   "source": [
    "# Numpy的資料型態 (data-type)"
   ]
  },
  {
   "cell_type": "code",
   "execution_count": 13,
   "id": "f06a1e6a",
   "metadata": {},
   "outputs": [
    {
     "data": {
      "text/plain": [
       "dtype('int32')"
      ]
     },
     "execution_count": 13,
     "metadata": {},
     "output_type": "execute_result"
    }
   ],
   "source": [
    "# 自動判斷資料型態\n",
    "a = np.array([1,2,3,4]); a.dtype"
   ]
  },
  {
   "cell_type": "code",
   "execution_count": 14,
   "id": "6ff957e9",
   "metadata": {},
   "outputs": [
    {
     "data": {
      "text/plain": [
       "dtype('float64')"
      ]
     },
     "execution_count": 14,
     "metadata": {},
     "output_type": "execute_result"
    }
   ],
   "source": [
    "# 自動判斷資料型態 (其中一個元素變成浮點數，dtype 會自動轉型)\n",
    "a = np.array([1., 2, 3, 4]); a.dtype"
   ]
  },
  {
   "cell_type": "code",
   "execution_count": 15,
   "id": "fa37e289",
   "metadata": {},
   "outputs": [
    {
     "data": {
      "text/plain": [
       "array([1., 2., 3., 4.])"
      ]
     },
     "execution_count": 15,
     "metadata": {},
     "output_type": "execute_result"
    }
   ],
   "source": [
    "# 指定陣列每一個資料的資料型態 (指定 float64)\n",
    "a = np.array([1, 2, 3, 4], dtype='float64')\n",
    "a\n",
    "# a.dtype"
   ]
  },
  {
   "cell_type": "code",
   "execution_count": 17,
   "id": "ae230475",
   "metadata": {},
   "outputs": [
    {
     "data": {
      "text/plain": [
       "dtype('bool')"
      ]
     },
     "execution_count": 17,
     "metadata": {},
     "output_type": "execute_result"
    }
   ],
   "source": [
    "# 布林值用於 numpy\n",
    "a = np.array([True, True, False]); a.dtype"
   ]
  },
  {
   "cell_type": "code",
   "execution_count": 18,
   "id": "42f1e8a9",
   "metadata": {},
   "outputs": [
    {
     "data": {
      "text/plain": [
       "array([1, 2, 3])"
      ]
     },
     "execution_count": 18,
     "metadata": {},
     "output_type": "execute_result"
    }
   ],
   "source": [
    "# 類型轉換 (float 轉成 int)\n",
    "a = np.array([1, 2, 3.14]) # dtype('float64')\n",
    "a_ = a.astype(int); a_"
   ]
  },
  {
   "cell_type": "markdown",
   "id": "25169fab",
   "metadata": {},
   "source": [
    "# Array creation routine 用於創建多維陣列的函數"
   ]
  },
  {
   "cell_type": "code",
   "execution_count": 19,
   "id": "0ebf7f90",
   "metadata": {},
   "outputs": [
    {
     "data": {
      "text/plain": [
       "array([1., 5., 9.])"
      ]
     },
     "execution_count": 19,
     "metadata": {},
     "output_type": "execute_result"
    }
   ],
   "source": [
    "# np.linspace(): 建立等距陣列的 1 維陣列\n",
    "'''\n",
    "np.linspace(start, stop, num=50, endpoint=True, retstep=False, dtype=None)\n",
    "'''\n",
    "a = np.linspace(1, 9, num=3); a"
   ]
  },
  {
   "cell_type": "code",
   "execution_count": 20,
   "id": "f801ae16",
   "metadata": {},
   "outputs": [
    {
     "data": {
      "text/plain": [
       "array([[1., 1., 1.],\n",
       "       [1., 1., 1.]])"
      ]
     },
     "execution_count": 20,
     "metadata": {},
     "output_type": "execute_result"
    }
   ],
   "source": [
    "# np.ones(): 建立填滿 1 的陣列，透過 shape 指定幾維\n",
    "'''\n",
    "numpy.ones(shape, dtype=None, order='C', *, like=None)[source]\n",
    "'''\n",
    "a = np.ones((2,3)); a"
   ]
  },
  {
   "cell_type": "code",
   "execution_count": 21,
   "id": "63842f47",
   "metadata": {},
   "outputs": [
    {
     "data": {
      "text/plain": [
       "array([0., 0., 0., 0., 0.])"
      ]
     },
     "execution_count": 21,
     "metadata": {},
     "output_type": "execute_result"
    }
   ],
   "source": [
    "# np.zeros(): 建立填滿 0 的陣列，透過 shape 指定幾維 \n",
    "'''\n",
    "numpy.zeros(shape, dtype=float, order='C', *, like=None)\n",
    "'''\n",
    "a = np.zeros((5,)); a"
   ]
  },
  {
   "cell_type": "code",
   "execution_count": 23,
   "id": "e4e8d90f",
   "metadata": {},
   "outputs": [
    {
     "data": {
      "text/plain": [
       "array([[10, 10, 10, 10],\n",
       "       [10, 10, 10, 10],\n",
       "       [10, 10, 10, 10]])"
      ]
     },
     "execution_count": 23,
     "metadata": {},
     "output_type": "execute_result"
    }
   ],
   "source": [
    "# np.full(): 建立填滿 fill_value 的陣列，透過 shape 指定幾維 \n",
    "'''\n",
    "numpy.full(shape, fill_value, dtype=None, order='C', *, like=None)\n",
    "'''\n",
    "a = np.full((3,4), 10); a"
   ]
  }
 ],
 "metadata": {
  "kernelspec": {
   "display_name": "python3@nlp",
   "language": "python",
   "name": "k_nlp"
  },
  "language_info": {
   "codemirror_mode": {
    "name": "ipython",
    "version": 3
   },
   "file_extension": ".py",
   "mimetype": "text/x-python",
   "name": "python",
   "nbconvert_exporter": "python",
   "pygments_lexer": "ipython3",
   "version": "3.10.11"
  }
 },
 "nbformat": 4,
 "nbformat_minor": 5
}
