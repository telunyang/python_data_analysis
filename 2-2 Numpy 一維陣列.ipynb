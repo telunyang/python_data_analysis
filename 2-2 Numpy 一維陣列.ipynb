{
 "cells": [
  {
   "cell_type": "code",
   "execution_count": 1,
   "id": "f6a59d5a",
   "metadata": {},
   "outputs": [],
   "source": [
    "import numpy as np"
   ]
  },
  {
   "cell_type": "markdown",
   "id": "1c83eb2c",
   "metadata": {},
   "source": [
    "# 一維陣列的四則運算"
   ]
  },
  {
   "cell_type": "code",
   "execution_count": 2,
   "id": "7844ce81",
   "metadata": {},
   "outputs": [],
   "source": [
    "# 初始化陣列\n",
    "x = np.array([2, 4, 6, 8, 10])\n",
    "y = np.array([10, 8, 6, 4, 2])"
   ]
  },
  {
   "cell_type": "code",
   "execution_count": 3,
   "id": "1b490ed1",
   "metadata": {},
   "outputs": [
    {
     "data": {
      "text/plain": [
       "array([ 6,  8, 10, 12, 14])"
      ]
     },
     "execution_count": 3,
     "metadata": {},
     "output_type": "execute_result"
    }
   ],
   "source": [
    "# 整數與陣列: 加法\n",
    "a = x + 4; a"
   ]
  },
  {
   "cell_type": "code",
   "execution_count": 4,
   "id": "98cbe863",
   "metadata": {},
   "outputs": [
    {
     "data": {
      "text/plain": [
       "array([0, 2, 4, 6, 8])"
      ]
     },
     "execution_count": 4,
     "metadata": {},
     "output_type": "execute_result"
    }
   ],
   "source": [
    "# 整數與陣列: 減法\n",
    "a = x - 2; a"
   ]
  },
  {
   "cell_type": "code",
   "execution_count": 5,
   "id": "eab9a606",
   "metadata": {},
   "outputs": [
    {
     "data": {
      "text/plain": [
       "array([ 4,  8, 12, 16, 20])"
      ]
     },
     "execution_count": 5,
     "metadata": {},
     "output_type": "execute_result"
    }
   ],
   "source": [
    "# 整數與陣列: 乘法\n",
    "a = x * 2; a"
   ]
  },
  {
   "cell_type": "code",
   "execution_count": 6,
   "id": "a0ec1b0e",
   "metadata": {},
   "outputs": [
    {
     "data": {
      "text/plain": [
       "array([1., 2., 3., 4., 5.])"
      ]
     },
     "execution_count": 6,
     "metadata": {},
     "output_type": "execute_result"
    }
   ],
   "source": [
    "# 整數與陣列: 除法\n",
    "a = x / 2; a"
   ]
  },
  {
   "cell_type": "code",
   "execution_count": 7,
   "id": "18ec130c",
   "metadata": {},
   "outputs": [
    {
     "data": {
      "text/plain": [
       "array([12, 12, 12, 12, 12])"
      ]
     },
     "execution_count": 7,
     "metadata": {},
     "output_type": "execute_result"
    }
   ],
   "source": [
    "# 陣列加法運算\n",
    "a = x + y; a"
   ]
  },
  {
   "cell_type": "code",
   "execution_count": 8,
   "id": "a1b6013d",
   "metadata": {},
   "outputs": [
    {
     "data": {
      "text/plain": [
       "array([-8, -4,  0,  4,  8])"
      ]
     },
     "execution_count": 8,
     "metadata": {},
     "output_type": "execute_result"
    }
   ],
   "source": [
    "# 陣列減法運算\n",
    "a = x - y; a"
   ]
  },
  {
   "cell_type": "code",
   "execution_count": 9,
   "id": "bb4790ff",
   "metadata": {},
   "outputs": [
    {
     "data": {
      "text/plain": [
       "array([20, 32, 36, 32, 20])"
      ]
     },
     "execution_count": 9,
     "metadata": {},
     "output_type": "execute_result"
    }
   ],
   "source": [
    "# 陣列乘法運算\n",
    "a = x * y; a"
   ]
  },
  {
   "cell_type": "code",
   "execution_count": 10,
   "id": "93a342c9",
   "metadata": {},
   "outputs": [
    {
     "data": {
      "text/plain": [
       "array([0.2, 0.5, 1. , 2. , 5. ])"
      ]
     },
     "execution_count": 10,
     "metadata": {},
     "output_type": "execute_result"
    }
   ],
   "source": [
    "# 陣列除法運算\n",
    "a = x / y; a"
   ]
  },
  {
   "cell_type": "code",
   "execution_count": 11,
   "id": "22e4e358",
   "metadata": {},
   "outputs": [],
   "source": [
    "# 陣列元素平方\n",
    "'''\n",
    "也可以使用\n",
    "A = np.square(x)\n",
    "B = np.square(y)\n",
    "'''\n",
    "A = x ** 2\n",
    "B = y ** 2"
   ]
  },
  {
   "cell_type": "code",
   "execution_count": 12,
   "id": "d81de89c",
   "metadata": {},
   "outputs": [
    {
     "data": {
      "text/plain": [
       "array([  4,  16,  36,  64, 100])"
      ]
     },
     "execution_count": 12,
     "metadata": {},
     "output_type": "execute_result"
    }
   ],
   "source": [
    "A"
   ]
  },
  {
   "cell_type": "code",
   "execution_count": 13,
   "id": "0a96856f",
   "metadata": {},
   "outputs": [
    {
     "data": {
      "text/plain": [
       "array([100,  64,  36,  16,   4])"
      ]
     },
     "execution_count": 13,
     "metadata": {},
     "output_type": "execute_result"
    }
   ],
   "source": [
    "B"
   ]
  },
  {
   "cell_type": "code",
   "execution_count": 14,
   "id": "9fe67913",
   "metadata": {},
   "outputs": [],
   "source": [
    "# 陣列元素開根號\n",
    "A = np.sqrt(x)\n",
    "B = np.sqrt(y)"
   ]
  },
  {
   "cell_type": "code",
   "execution_count": 15,
   "id": "f988778e",
   "metadata": {},
   "outputs": [
    {
     "data": {
      "text/plain": [
       "array([1.41421356, 2.        , 2.44948974, 2.82842712, 3.16227766])"
      ]
     },
     "execution_count": 15,
     "metadata": {},
     "output_type": "execute_result"
    }
   ],
   "source": [
    "A"
   ]
  },
  {
   "cell_type": "code",
   "execution_count": 16,
   "id": "058f7a3f",
   "metadata": {},
   "outputs": [
    {
     "data": {
      "text/plain": [
       "array([3.16227766, 2.82842712, 2.44948974, 2.        , 1.41421356])"
      ]
     },
     "execution_count": 16,
     "metadata": {},
     "output_type": "execute_result"
    }
   ],
   "source": [
    "B"
   ]
  },
  {
   "cell_type": "markdown",
   "id": "c4104ffc",
   "metadata": {},
   "source": [
    "# 關係運算子運算"
   ]
  },
  {
   "cell_type": "markdown",
   "id": "d598c55b",
   "metadata": {},
   "source": [
    "以 大於 (>)、小於 (<)、等於 (==) 為例"
   ]
  },
  {
   "cell_type": "code",
   "execution_count": 17,
   "id": "257f9a40",
   "metadata": {},
   "outputs": [
    {
     "data": {
      "text/plain": [
       "array([False, False, False,  True,  True])"
      ]
     },
     "execution_count": 17,
     "metadata": {},
     "output_type": "execute_result"
    }
   ],
   "source": [
    "# 大於\n",
    "a = x > y; a"
   ]
  },
  {
   "cell_type": "code",
   "execution_count": 18,
   "id": "cb35bf22",
   "metadata": {},
   "outputs": [
    {
     "data": {
      "text/plain": [
       "array([ True,  True, False, False, False])"
      ]
     },
     "execution_count": 18,
     "metadata": {},
     "output_type": "execute_result"
    }
   ],
   "source": [
    "# 小於\n",
    "a = x < y; a"
   ]
  },
  {
   "cell_type": "code",
   "execution_count": 19,
   "id": "f13f881f",
   "metadata": {},
   "outputs": [
    {
     "data": {
      "text/plain": [
       "array([False, False,  True, False, False])"
      ]
     },
     "execution_count": 19,
     "metadata": {},
     "output_type": "execute_result"
    }
   ],
   "source": [
    "# 等於\n",
    "a = x == y; a"
   ]
  },
  {
   "cell_type": "markdown",
   "id": "fe1f5465",
   "metadata": {},
   "source": [
    "# 陣列索引與切片 (Indexing & Slicing)"
   ]
  },
  {
   "cell_type": "code",
   "execution_count": 20,
   "id": "28fc397b",
   "metadata": {},
   "outputs": [
    {
     "data": {
      "text/plain": [
       "2"
      ]
     },
     "execution_count": 20,
     "metadata": {},
     "output_type": "execute_result"
    }
   ],
   "source": [
    "# 指定索引\n",
    "x[0]"
   ]
  },
  {
   "cell_type": "code",
   "execution_count": 21,
   "id": "cea337c2",
   "metadata": {},
   "outputs": [
    {
     "data": {
      "text/plain": [
       "array([2, 4])"
      ]
     },
     "execution_count": 21,
     "metadata": {},
     "output_type": "execute_result"
    }
   ],
   "source": [
    "# 切片 (範圍: [start, end-1, step])\n",
    "x[0:2]"
   ]
  },
  {
   "cell_type": "code",
   "execution_count": 22,
   "id": "e44f4023",
   "metadata": {},
   "outputs": [
    {
     "data": {
      "text/plain": [
       "array([ 2,  6, 10])"
      ]
     },
     "execution_count": 22,
     "metadata": {},
     "output_type": "execute_result"
    }
   ],
   "source": [
    "# 切片，指定每幾步算一次\n",
    "'''\n",
    "這樣也可以\n",
    "x[::2]\n",
    "'''\n",
    "x[0:5:2]"
   ]
  },
  {
   "cell_type": "code",
   "execution_count": 23,
   "id": "833125db",
   "metadata": {},
   "outputs": [
    {
     "data": {
      "text/plain": [
       "10"
      ]
     },
     "execution_count": 23,
     "metadata": {},
     "output_type": "execute_result"
    }
   ],
   "source": [
    "# 切片 (使用負號)\n",
    "x[-1]"
   ]
  },
  {
   "cell_type": "code",
   "execution_count": 24,
   "id": "1c063cf6",
   "metadata": {},
   "outputs": [
    {
     "data": {
      "text/plain": [
       "array([6, 8])"
      ]
     },
     "execution_count": 24,
     "metadata": {},
     "output_type": "execute_result"
    }
   ],
   "source": [
    "# 切片 (範圍: [start, end-1, step])\n",
    "x[-3:-1]"
   ]
  },
  {
   "cell_type": "markdown",
   "id": "627bb997",
   "metadata": {},
   "source": [
    "# 陣列的結合與加入"
   ]
  },
  {
   "cell_type": "code",
   "execution_count": 25,
   "id": "9d140825",
   "metadata": {},
   "outputs": [
    {
     "data": {
      "text/plain": [
       "array([ 2,  4,  6,  8, 10, 10,  8,  6,  4,  2])"
      ]
     },
     "execution_count": 25,
     "metadata": {},
     "output_type": "execute_result"
    }
   ],
   "source": [
    "# 陣列結合\n",
    "'''\n",
    "numpy.concatenate((a1, a2, ...), axis=0, out=None, dtype=None, casting=\"same_kind\")\n",
    "'''\n",
    "z = np.concatenate((x, y)); z"
   ]
  },
  {
   "cell_type": "code",
   "execution_count": 26,
   "id": "027658bd",
   "metadata": {},
   "outputs": [
    {
     "data": {
      "text/plain": [
       "array([ 2,  4,  6,  8, 10, 12, 14, 16])"
      ]
     },
     "execution_count": 26,
     "metadata": {},
     "output_type": "execute_result"
    }
   ],
   "source": [
    "# 將陣列元素加入其它陣列\n",
    "z = np.concatenate((x, [12, 14, 16])); z"
   ]
  },
  {
   "cell_type": "markdown",
   "id": "f4736b3a",
   "metadata": {},
   "source": [
    "# 在陣列指定索引插入元素 insert()"
   ]
  },
  {
   "cell_type": "markdown",
   "id": "9510b3fc",
   "metadata": {},
   "source": [
    "原本 x 是 [2,4,6,8,10]"
   ]
  },
  {
   "cell_type": "code",
   "execution_count": 27,
   "id": "8dce528a",
   "metadata": {},
   "outputs": [
    {
     "data": {
      "text/plain": [
       "array([ 2,  4,  9,  6,  8, 10])"
      ]
     },
     "execution_count": 27,
     "metadata": {},
     "output_type": "execute_result"
    }
   ],
   "source": [
    "# 在陣列指定索引 2 插入元素 9\n",
    "'''\n",
    "numpy.insert(arr, obj, values, axis=None)\n",
    "'''\n",
    "z = np.insert(x, 2, 9); z"
   ]
  },
  {
   "cell_type": "code",
   "execution_count": 28,
   "id": "2dd56e47",
   "metadata": {},
   "outputs": [
    {
     "data": {
      "text/plain": [
       "array([ 2,  7,  4,  6,  9,  8, 10])"
      ]
     },
     "execution_count": 28,
     "metadata": {},
     "output_type": "execute_result"
    }
   ],
   "source": [
    "# 在陣列指定索引 1 跟 3，分別插入元素 7 跟 9\n",
    "z = np.insert(x, [1,3], [7,9]); z"
   ]
  },
  {
   "cell_type": "markdown",
   "id": "63a77f53",
   "metadata": {},
   "source": [
    "# 刪除指定索引的陣列元素 delete()"
   ]
  },
  {
   "cell_type": "code",
   "execution_count": 29,
   "id": "c8fd4758",
   "metadata": {},
   "outputs": [
    {
     "data": {
      "text/plain": [
       "array([ 2,  6,  8, 10])"
      ]
     },
     "execution_count": 29,
     "metadata": {},
     "output_type": "execute_result"
    }
   ],
   "source": [
    "# 刪除索引 1 的元素\n",
    "'''\n",
    "numpy.delete(arr, obj, axis=None)\n",
    "'''\n",
    "z = np.delete(x, 1); z"
   ]
  },
  {
   "cell_type": "code",
   "execution_count": 30,
   "id": "59143742",
   "metadata": {},
   "outputs": [
    {
     "data": {
      "text/plain": [
       "array([ 2,  6, 10])"
      ]
     },
     "execution_count": 30,
     "metadata": {},
     "output_type": "execute_result"
    }
   ],
   "source": [
    "# 刪除索引 1 和 3 所放置的元素\n",
    "z = np.delete(x, [1, 3]); z"
   ]
  },
  {
   "cell_type": "markdown",
   "id": "c49578ae",
   "metadata": {},
   "source": [
    "# 向量內部元素總和 sum()"
   ]
  },
  {
   "cell_type": "code",
   "execution_count": 31,
   "id": "2e5a8668",
   "metadata": {},
   "outputs": [
    {
     "data": {
      "text/plain": [
       "16"
      ]
     },
     "execution_count": 31,
     "metadata": {},
     "output_type": "execute_result"
    }
   ],
   "source": [
    "# 計算元素總和\n",
    "'''\n",
    "numpy.sum(a, axis=None, dtype=None, ...)\n",
    "'''\n",
    "c = np.array([1, 3, 5, 7])\n",
    "d = np.sum(c); d"
   ]
  },
  {
   "cell_type": "markdown",
   "id": "4c0e34f2",
   "metadata": {},
   "source": [
    "# 向量內積 (inner product)"
   ]
  },
  {
   "cell_type": "code",
   "execution_count": null,
   "id": "df403ab9",
   "metadata": {},
   "outputs": [],
   "source": [
    "'''\n",
    "內積在機器學習的領域，是很重要的概念，\n",
    "無論是取得向量特徵，或是向量間的關係，\n",
    "內積都扮演重要的角色\n",
    "\n",
    "numpy.inner(a, b, /)\n",
    "'''\n",
    "a = np.array([4,5,1,3,4])\n",
    "b = np.array([5,3,5,4,2])\n",
    "\n",
    "'''\n",
    "計算過程:\n",
    "4*5 + 5*3 + 1*5 + 3*4 + 4*2 = 60\n",
    "'''\n",
    "\n",
    "c = np.inner(a, b); c"
   ]
  },
  {
   "cell_type": "markdown",
   "id": "3ec3190a",
   "metadata": {},
   "source": [
    "# 牛刀小試: 餘弦相似度 (Cosine Similarity)\n",
    "參考網頁: [https://zh.wikipedia.org/wiki/余弦相似性](https://zh.wikipedia.org/wiki/余弦相似性)\n",
    "![餘弦相似性](https://wikimedia.org/api/rest_v1/media/math/render/svg/2a8c50526e2cc7aa837477be87eff1ea703f9dec)\n",
    "\n",
    "\n",
    "假設某 A 的向量為 \\[4,5,1,3,4\\]，某 B 的向量為 \\[5,3,5,4,2\\]，餘弦相似度的算法為:\n",
    "![Cosine Similarity](https://i.imgur.com/NOQBXuN.png)\n",
    "\n"
   ]
  }
 ],
 "metadata": {
  "kernelspec": {
   "display_name": "python3@nlp",
   "language": "python",
   "name": "k_nlp"
  },
  "language_info": {
   "codemirror_mode": {
    "name": "ipython",
    "version": 3
   },
   "file_extension": ".py",
   "mimetype": "text/x-python",
   "name": "python",
   "nbconvert_exporter": "python",
   "pygments_lexer": "ipython3",
   "version": "3.10.11"
  }
 },
 "nbformat": 4,
 "nbformat_minor": 5
}
