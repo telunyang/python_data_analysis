{
 "cells": [
  {
   "cell_type": "code",
   "execution_count": 1,
   "id": "33c44d85",
   "metadata": {},
   "outputs": [],
   "source": [
    "import numpy as np"
   ]
  },
  {
   "cell_type": "code",
   "execution_count": 2,
   "id": "5500ac5b",
   "metadata": {},
   "outputs": [],
   "source": [
    "# 建立二維陣列\n",
    "x = np.array([[1, 2], [3, 4]])\n",
    "y = np.array([[5, 6], [7, 8]])"
   ]
  },
  {
   "cell_type": "markdown",
   "id": "e76a1f30",
   "metadata": {},
   "source": [
    "# 二維陣列相對位置與四則運算"
   ]
  },
  {
   "cell_type": "code",
   "execution_count": 3,
   "id": "a771ec9b",
   "metadata": {},
   "outputs": [
    {
     "data": {
      "text/plain": [
       "array([[11, 12],\n",
       "       [13, 14]])"
      ]
     },
     "execution_count": 3,
     "metadata": {},
     "output_type": "execute_result"
    }
   ],
   "source": [
    "# 與整數的加法運算\n",
    "a = x + 10; a"
   ]
  },
  {
   "cell_type": "code",
   "execution_count": 4,
   "id": "4edb56db",
   "metadata": {},
   "outputs": [
    {
     "data": {
      "text/plain": [
       "array([[ 6,  8],\n",
       "       [10, 12]])"
      ]
     },
     "execution_count": 4,
     "metadata": {},
     "output_type": "execute_result"
    }
   ],
   "source": [
    "# 加法運算\n",
    "a = x + y; a"
   ]
  },
  {
   "cell_type": "code",
   "execution_count": 5,
   "id": "01781ceb",
   "metadata": {},
   "outputs": [
    {
     "data": {
      "text/plain": [
       "array([[ 5, 12],\n",
       "       [21, 32]])"
      ]
     },
     "execution_count": 5,
     "metadata": {},
     "output_type": "execute_result"
    }
   ],
   "source": [
    "# 相對位置乘法運算\n",
    "'''\n",
    "註: 這裡是陣列運算，與矩陣 (matrix) 運算是不一樣的作法\n",
    "'''\n",
    "a = x * y; a"
   ]
  },
  {
   "cell_type": "code",
   "execution_count": 6,
   "id": "f7508a11",
   "metadata": {},
   "outputs": [
    {
     "data": {
      "text/plain": [
       "array([[0.2       , 0.33333333],\n",
       "       [0.42857143, 0.5       ]])"
      ]
     },
     "execution_count": 6,
     "metadata": {},
     "output_type": "execute_result"
    }
   ],
   "source": [
    "# 相對位置除法運算\n",
    "a = x / y; a"
   ]
  },
  {
   "cell_type": "markdown",
   "id": "26745b22",
   "metadata": {},
   "source": [
    "# 關係運算子運算"
   ]
  },
  {
   "cell_type": "code",
   "execution_count": 7,
   "id": "1173e62d",
   "metadata": {},
   "outputs": [
    {
     "data": {
      "text/plain": [
       "array([[False, False],\n",
       "       [False, False]])"
      ]
     },
     "execution_count": 7,
     "metadata": {},
     "output_type": "execute_result"
    }
   ],
   "source": [
    "# 大於\n",
    "a = x > y; a"
   ]
  },
  {
   "cell_type": "code",
   "execution_count": 8,
   "id": "2899833e",
   "metadata": {},
   "outputs": [
    {
     "data": {
      "text/plain": [
       "array([[ True,  True],\n",
       "       [ True,  True]])"
      ]
     },
     "execution_count": 8,
     "metadata": {},
     "output_type": "execute_result"
    }
   ],
   "source": [
    "# 小於\n",
    "a = x < y; a"
   ]
  },
  {
   "cell_type": "markdown",
   "id": "d1f945f3",
   "metadata": {},
   "source": [
    "# 取得與設定二維陣列元素 (Indexing)"
   ]
  },
  {
   "cell_type": "code",
   "execution_count": 9,
   "id": "81962580",
   "metadata": {},
   "outputs": [
    {
     "data": {
      "text/plain": [
       "2"
      ]
     },
     "execution_count": 9,
     "metadata": {},
     "output_type": "execute_result"
    }
   ],
   "source": [
    "# 取得二維陣列某元素內容\n",
    "x[0, 1] # row = 0, col = 1"
   ]
  },
  {
   "cell_type": "code",
   "execution_count": 10,
   "id": "e8b7c110",
   "metadata": {},
   "outputs": [
    {
     "data": {
      "text/plain": [
       "array([[ 5,  5,  6,  6],\n",
       "       [ 3,  3, 11,  2]])"
      ]
     },
     "execution_count": 10,
     "metadata": {},
     "output_type": "execute_result"
    }
   ],
   "source": [
    "# 設定二維陣列某元素內容\n",
    "tmp = np.array([[5, 5, 6, 6], [3, 3, 1, 2]])\n",
    "tmp[1, 2] = 11; tmp"
   ]
  },
  {
   "cell_type": "code",
   "execution_count": 11,
   "id": "84d457c7",
   "metadata": {},
   "outputs": [
    {
     "data": {
      "text/plain": [
       "array([1, 2])"
      ]
     },
     "execution_count": 11,
     "metadata": {},
     "output_type": "execute_result"
    }
   ],
   "source": [
    "# 取得 row = 0 的元素\n",
    "'''\n",
    "x[0] 的內容: [[1,2], [3,4]]\n",
    "\n",
    "以下方式同樣效果\n",
    "x[0,]\n",
    "x[0,:]\n",
    "'''\n",
    "x[0]"
   ]
  },
  {
   "cell_type": "code",
   "execution_count": 12,
   "id": "2a89443b",
   "metadata": {},
   "outputs": [
    {
     "data": {
      "text/plain": [
       "array([1, 3])"
      ]
     },
     "execution_count": 12,
     "metadata": {},
     "output_type": "execute_result"
    }
   ],
   "source": [
    "# 取得 column = 0 的元素\n",
    "'''\n",
    "x[0] 的內容: [[1,2], [3,4]]\n",
    "\n",
    "以下方式同樣效果\n",
    "x[:,0]\n",
    "'''\n",
    "x[:,0]"
   ]
  },
  {
   "cell_type": "markdown",
   "id": "06415ddf",
   "metadata": {},
   "source": [
    "# 切片 (Slicing)"
   ]
  },
  {
   "cell_type": "markdown",
   "id": "9b2f1e3a",
   "metadata": {},
   "source": [
    "在這裡使用 xx = np.array([[1, 2, 3, 4], [5, 6, 7, 8], [9, 10, 11, 12]])"
   ]
  },
  {
   "cell_type": "code",
   "execution_count": 13,
   "id": "8c451745",
   "metadata": {},
   "outputs": [],
   "source": [
    "xx = np.array([[1, 2, 3, 4], [5, 6, 7, 8], [9, 10, 11, 12]])"
   ]
  },
  {
   "cell_type": "code",
   "execution_count": 14,
   "id": "ac2bc558",
   "metadata": {},
   "outputs": [
    {
     "data": {
      "text/plain": [
       "array([1, 2, 3])"
      ]
     },
     "execution_count": 14,
     "metadata": {},
     "output_type": "execute_result"
    }
   ],
   "source": [
    "# 取得 row = 0 的前 3 個元素\n",
    "xx[0, :3]"
   ]
  },
  {
   "cell_type": "code",
   "execution_count": 15,
   "id": "7861cbc2",
   "metadata": {},
   "outputs": [
    {
     "data": {
      "text/plain": [
       "array([[3, 4],\n",
       "       [7, 8]])"
      ]
     },
     "execution_count": 15,
     "metadata": {},
     "output_type": "execute_result"
    }
   ],
   "source": [
    "# 取得 row=0:2, column=2:4\n",
    "'''\n",
    "實際上是 row 0 ~ row 1，以及 column 2 和 column 3 的資料\n",
    "'''\n",
    "xx[0:2, 2:4]"
   ]
  },
  {
   "cell_type": "code",
   "execution_count": 16,
   "id": "7997a99c",
   "metadata": {},
   "outputs": [
    {
     "data": {
      "text/plain": [
       "array([[1, 2, 3, 4],\n",
       "       [5, 6, 7, 8]])"
      ]
     },
     "execution_count": 16,
     "metadata": {},
     "output_type": "execute_result"
    }
   ],
   "source": [
    "# 取得前 2 個 row 的元素\n",
    "xx[:2]"
   ]
  },
  {
   "cell_type": "code",
   "execution_count": 17,
   "id": "ff019b0a",
   "metadata": {},
   "outputs": [
    {
     "data": {
      "text/plain": [
       "array([[ 5,  6,  7,  8],\n",
       "       [ 9, 10, 11, 12]])"
      ]
     },
     "execution_count": 17,
     "metadata": {},
     "output_type": "execute_result"
    }
   ],
   "source": [
    "# 取得 row = 1 之後的元素\n",
    "xx[1:]"
   ]
  },
  {
   "cell_type": "markdown",
   "id": "d355f3e1",
   "metadata": {},
   "source": [
    "# 更改陣列形狀 (即是改變陣列維度)"
   ]
  },
  {
   "cell_type": "code",
   "execution_count": 18,
   "id": "32eab133",
   "metadata": {},
   "outputs": [],
   "source": [
    "# 建立一維陣列\n",
    "x1 = np.array([1, 2, 3, 4, 5, 6])"
   ]
  },
  {
   "cell_type": "code",
   "execution_count": 19,
   "id": "2e35e466",
   "metadata": {},
   "outputs": [
    {
     "data": {
      "text/plain": [
       "array([[1, 2, 3],\n",
       "       [4, 5, 6]])"
      ]
     },
     "execution_count": 19,
     "metadata": {},
     "output_type": "execute_result"
    }
   ],
   "source": [
    "# 轉成 2x3 陣列  (2 列 3 行，2 rows，3 columns)\n",
    "# 註: 「不會」修改原始陣列，「會」回傳轉換後的新陣列\n",
    "y1 = x1.reshape(2, 3); y1"
   ]
  },
  {
   "cell_type": "code",
   "execution_count": 20,
   "id": "38db8541",
   "metadata": {},
   "outputs": [
    {
     "data": {
      "text/plain": [
       "array([1, 2, 3, 4, 5, 6])"
      ]
     },
     "execution_count": 20,
     "metadata": {},
     "output_type": "execute_result"
    }
   ],
   "source": [
    "# 將 2x3 陣列轉成一維陣列\n",
    "'''\n",
    "numpy.ravel(a, order='C')\n",
    "'''\n",
    "x2 = y1.ravel(); x2"
   ]
  },
  {
   "cell_type": "code",
   "execution_count": 21,
   "id": "dfb707ac",
   "metadata": {},
   "outputs": [
    {
     "data": {
      "text/plain": [
       "array([[1, 2],\n",
       "       [3, 4],\n",
       "       [5, 6]])"
      ]
     },
     "execution_count": 21,
     "metadata": {},
     "output_type": "execute_result"
    }
   ],
   "source": [
    "# 將 2x3 陣列，改成 3x2 陣列\n",
    "# 註: 「會」修改原始陣列，「不會」回傳轉換後的新陣列\n",
    "y1.resize(3,2); y1"
   ]
  },
  {
   "cell_type": "markdown",
   "id": "1462c324",
   "metadata": {},
   "source": [
    "# 轉置矩陣 transpose()"
   ]
  },
  {
   "cell_type": "markdown",
   "id": "92f85206",
   "metadata": {},
   "source": [
    "把 n x m 的矩陣，變成 m x n 的矩陣"
   ]
  },
  {
   "cell_type": "code",
   "execution_count": 22,
   "id": "96d90580",
   "metadata": {},
   "outputs": [
    {
     "data": {
      "text/plain": [
       "array([[0, 2, 4, 6],\n",
       "       [1, 3, 5, 7]])"
      ]
     },
     "execution_count": 22,
     "metadata": {},
     "output_type": "execute_result"
    }
   ],
   "source": [
    "# 生成一維陣列 (0 - 7)，reshape 成 4 列 2 行後，再 transpose 成為 2 列 4 行\n",
    "a = np.arange(8).reshape(4, 2); a\n",
    "'''\n",
    "reshape 後的結果:\n",
    "[[0, 1],\n",
    " [2, 3],\n",
    " [4, 5],\n",
    " [6, 7]]\n",
    "'''\n",
    "b = a.transpose(); b"
   ]
  },
  {
   "cell_type": "code",
   "execution_count": 23,
   "id": "41299890",
   "metadata": {},
   "outputs": [
    {
     "data": {
      "text/plain": [
       "array([[0, 2, 4, 6],\n",
       "       [1, 3, 5, 7]])"
      ]
     },
     "execution_count": 23,
     "metadata": {},
     "output_type": "execute_result"
    }
   ],
   "source": [
    "# 也可以使用 T 來進行 transpose\n",
    "a = np.arange(8).reshape(4, 2); a\n",
    "b = a.T; b"
   ]
  },
  {
   "cell_type": "markdown",
   "id": "8f04c483",
   "metadata": {},
   "source": [
    "# 廣播 (broadcast)"
   ]
  },
  {
   "cell_type": "markdown",
   "id": "54656c16",
   "metadata": {},
   "source": [
    "執行 2 個陣列運算時，原則上必須外形相同才能運算，如果不同，可以使用廣播 (broadcasting) 機制，將小陣列「擴大」到兩個陣列都相同，之後再進行運算。\n",
    "\n",
    "![Computation on Arrays: Broadcasting](https://i.imgur.com/CuB6Bsh.png)\n",
    "參考資料: [Computation on Arrays: Broadcasting](https://jakevdp.github.io/PythonDataScienceHandbook/02.05-computation-on-arrays-broadcasting.html)"
   ]
  },
  {
   "cell_type": "code",
   "execution_count": 29,
   "id": "b6e059bd",
   "metadata": {},
   "outputs": [
    {
     "data": {
      "text/plain": [
       "array([5, 6, 7])"
      ]
     },
     "execution_count": 29,
     "metadata": {},
     "output_type": "execute_result"
    }
   ],
   "source": [
    "# np.arange(3) + 5 是否等於 [5,6,7] ?\n",
    "a = np.arange(3) + 5; a"
   ]
  },
  {
   "cell_type": "code",
   "execution_count": 30,
   "id": "3b7fa0ae",
   "metadata": {},
   "outputs": [
    {
     "data": {
      "text/plain": [
       "array([[1., 2., 3.],\n",
       "       [1., 2., 3.],\n",
       "       [1., 2., 3.]])"
      ]
     },
     "execution_count": 30,
     "metadata": {},
     "output_type": "execute_result"
    }
   ],
   "source": [
    "# np.ones((3, 3)) + np.arange(3) 是否等於 [[1,2,3],[1,2,3],[1,2,3]] ?\n",
    "a = np.ones((3, 3)) + np.arange(3); a"
   ]
  },
  {
   "cell_type": "code",
   "execution_count": 31,
   "id": "8fcdd327",
   "metadata": {},
   "outputs": [
    {
     "data": {
      "text/plain": [
       "array([[0, 1, 2],\n",
       "       [1, 2, 3],\n",
       "       [2, 3, 4]])"
      ]
     },
     "execution_count": 31,
     "metadata": {},
     "output_type": "execute_result"
    }
   ],
   "source": [
    "# np.arange(3).reshape((3,1)) + np.arange(3) 是否等於 [[0,1,2],[1,2,3],[2,3,4]] ?\n",
    "a = np.arange(3).reshape((3,1)) + np.arange(3); a"
   ]
  }
 ],
 "metadata": {
  "kernelspec": {
   "display_name": "python3@nlp",
   "language": "python",
   "name": "k_nlp"
  },
  "language_info": {
   "codemirror_mode": {
    "name": "ipython",
    "version": 3
   },
   "file_extension": ".py",
   "mimetype": "text/x-python",
   "name": "python",
   "nbconvert_exporter": "python",
   "pygments_lexer": "ipython3",
   "version": "3.10.11"
  }
 },
 "nbformat": 4,
 "nbformat_minor": 5
}
