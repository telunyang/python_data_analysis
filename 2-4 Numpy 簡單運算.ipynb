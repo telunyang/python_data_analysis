{
 "cells": [
  {
   "cell_type": "markdown",
   "id": "aa6a1d74",
   "metadata": {},
   "source": [
    "# 「加總」sum()、「乘積」prod()、「差」diff()"
   ]
  },
  {
   "cell_type": "code",
   "execution_count": 1,
   "id": "c075b69c",
   "metadata": {},
   "outputs": [],
   "source": [
    "import numpy as np"
   ]
  },
  {
   "cell_type": "code",
   "execution_count": 2,
   "id": "c428506a",
   "metadata": {},
   "outputs": [
    {
     "data": {
      "text/plain": [
       "10"
      ]
     },
     "execution_count": 2,
     "metadata": {},
     "output_type": "execute_result"
    }
   ],
   "source": [
    "# 一維陣列的「和」 (加總)\n",
    "np.sum([1, 2, 3, 4])"
   ]
  },
  {
   "cell_type": "code",
   "execution_count": 3,
   "id": "8fb845cb",
   "metadata": {},
   "outputs": [
    {
     "data": {
      "text/plain": [
       "10"
      ]
     },
     "execution_count": 3,
     "metadata": {},
     "output_type": "execute_result"
    }
   ],
   "source": [
    "# 二維陣列的「和」 (加總)\n",
    "np.sum([[1,2], [3,4]])"
   ]
  },
  {
   "cell_type": "markdown",
   "id": "0ec83a96",
   "metadata": {},
   "source": [
    "軸 (axis) 的概念\n",
    "![軸 (axis) 的概念](https://i.imgur.com/u7ItSQZ.png)\n",
    "\n",
    "參考資料: [Numpy Axes, Explained](https://youtu.be/aF96TC_6kDg)"
   ]
  },
  {
   "cell_type": "code",
   "execution_count": 4,
   "id": "71477b19",
   "metadata": {},
   "outputs": [
    {
     "data": {
      "text/plain": [
       "21"
      ]
     },
     "execution_count": 4,
     "metadata": {},
     "output_type": "execute_result"
    }
   ],
   "source": [
    "# 二維陣列的「和」，指定軸 (axis) 來計算\n",
    "'''\n",
    "[\n",
    "    [1,2], \n",
    "    [3,4], \n",
    "    [5,6]\n",
    "]\n",
    "\n",
    "axis = None: \n",
    "- 所有元素，不分列 (row) 或行 (column)。預設值。\n",
    "axis = 0:\n",
    "- 順著 [0][0], [1][0], [2][0], ... 等索引號碼增加的方向\n",
    "- 類似座標的 y 軸，針對每一個元素 y 軸對應的位置 (由上而下) 進行計算\n",
    "axis = 1: \n",
    "- 順著 [0][0], [0][1], [0][2], ... 等索引號碼增加的方向\n",
    "- 類似座標的 x 軸，針對每一個元素 x 軸對應的位置 (由左而右) 進行計算\n",
    "'''\n",
    "np.sum([[1,2], [3,4], [5,6]], axis=None)"
   ]
  },
  {
   "cell_type": "code",
   "execution_count": 5,
   "id": "13bffdc1",
   "metadata": {},
   "outputs": [
    {
     "data": {
      "text/plain": [
       "24"
      ]
     },
     "execution_count": 5,
     "metadata": {},
     "output_type": "execute_result"
    }
   ],
   "source": [
    "# 一維陣列的「乘積」\n",
    "np.prod([1, 2, 3, 4])"
   ]
  },
  {
   "cell_type": "code",
   "execution_count": 6,
   "id": "0cb87cbe",
   "metadata": {},
   "outputs": [
    {
     "data": {
      "text/plain": [
       "24"
      ]
     },
     "execution_count": 6,
     "metadata": {},
     "output_type": "execute_result"
    }
   ],
   "source": [
    "# 二維陣列的「乘積」\n",
    "np.prod([[1, 2], [3, 4]])"
   ]
  },
  {
   "cell_type": "code",
   "execution_count": 7,
   "id": "1c61a939",
   "metadata": {},
   "outputs": [
    {
     "data": {
      "text/plain": [
       "720"
      ]
     },
     "execution_count": 7,
     "metadata": {},
     "output_type": "execute_result"
    }
   ],
   "source": [
    "# 二維陣列的「乘積」，指定軸 (axis) 來計算\n",
    "'''\n",
    "[\n",
    "    [1,2], \n",
    "    [3,4], \n",
    "    [5,6]\n",
    "]\n",
    "\n",
    "axis = None: \n",
    "- 所有元素，不分列 (row) 或行 (column)。預設值。\n",
    "axis = 0:\n",
    "- 順著 [0][0], [1][0], [2][0], ... 等索引號碼增加的方向\n",
    "- 類似座標的 y 軸，針對每一個元素 y 軸對應的位置 (由上而下) 進行計算\n",
    "axis = 1: \n",
    "- 順著 [0][0], [0][1], [0][2], ... 等索引號碼增加的方向\n",
    "- 類似座標的 x 軸，針對每一個元素 x 軸對應的位置 (由左而右) 進行計算\n",
    "'''\n",
    "np.prod([[1,2], [3,4], [5,6]], axis=None)"
   ]
  },
  {
   "cell_type": "code",
   "execution_count": 8,
   "id": "40123b0a",
   "metadata": {},
   "outputs": [
    {
     "data": {
      "text/plain": [
       "array([-2, -2,  0,  6, -3,  1])"
      ]
     },
     "execution_count": 8,
     "metadata": {},
     "output_type": "execute_result"
    }
   ],
   "source": [
    "# 一維陣列的「差」(後一個元素的值，減去前一個元素的值)\n",
    "'''\n",
    "numpy.diff(a, n=1, axis=-1, prepend=<no value>, append=<no value>)\n",
    "'''\n",
    "x = np.array([7, 5, 3, 3, 9, 6, 7])\n",
    "np.diff(x)"
   ]
  },
  {
   "cell_type": "code",
   "execution_count": 9,
   "id": "e552a191",
   "metadata": {},
   "outputs": [
    {
     "data": {
      "text/plain": [
       "array([ 0,  2,  6, -9,  4])"
      ]
     },
     "execution_count": 9,
     "metadata": {},
     "output_type": "execute_result"
    }
   ],
   "source": [
    "# 一維陣列的「差」(指定 n，代表 diff 幾次)\n",
    "np.diff(x, n=2)"
   ]
  },
  {
   "cell_type": "code",
   "execution_count": 10,
   "id": "c22b3b10",
   "metadata": {},
   "outputs": [
    {
     "data": {
      "text/plain": [
       "array([[2, 2],\n",
       "       [2, 2]])"
      ]
     },
     "execution_count": 10,
     "metadata": {},
     "output_type": "execute_result"
    }
   ],
   "source": [
    "# 二維陣列的「差」，指定軸 (axis) 來計算\n",
    "'''\n",
    "[\n",
    "    [1,2], \n",
    "    [3,4], \n",
    "    [5,6]\n",
    "]\n",
    "\n",
    "axis = None: \n",
    "- 所有元素，不分列 (row) 或行 (column)。預設值。\n",
    "axis = 0:\n",
    "- 順著 [0][0], [1][0], [2][0], ... 等索引號碼增加的方向\n",
    "- 類似座標的 y 軸，針對每一個元素 y 軸對應的位置 (由上而下) 進行計算\n",
    "axis = 1: \n",
    "- 順著 [0][0], [0][1], [0][2], ... 等索引號碼增加的方向\n",
    "- 類似座標的 x 軸，針對每一個元素 x 軸對應的位置 (由左而右) 進行計算\n",
    "'''\n",
    "x = np.array([[1,2], [3,4], [5,6]])\n",
    "np.diff(x, axis=0)"
   ]
  },
  {
   "cell_type": "markdown",
   "id": "f71b96f7",
   "metadata": {},
   "source": [
    "# 捨去函數"
   ]
  },
  {
   "cell_type": "code",
   "execution_count": 11,
   "id": "670cb37e",
   "metadata": {},
   "outputs": [
    {
     "data": {
      "text/plain": [
       "array([0.4, 1.8])"
      ]
     },
     "execution_count": 11,
     "metadata": {},
     "output_type": "execute_result"
    }
   ],
   "source": [
    "# around(): 四捨五入到最近的「偶數值」\n",
    "'''\n",
    "numpy.around(a, decimals=0, out=None)\n",
    "\n",
    "decimals: 指定小數位數 (小數點後面第幾位)\n",
    "'''\n",
    "np.around([0.45, 1.85], 1)"
   ]
  },
  {
   "cell_type": "code",
   "execution_count": 12,
   "id": "04724310",
   "metadata": {},
   "outputs": [
    {
     "data": {
      "text/plain": [
       "array([2., 2., 2., 3.])"
      ]
     },
     "execution_count": 12,
     "metadata": {},
     "output_type": "execute_result"
    }
   ],
   "source": [
    "# rint(): 回傳最近的整數 (四捨五入到最近的「偶數值」)\n",
    "np.rint([1.5, 2.5, 1.6, 3.3])"
   ]
  },
  {
   "cell_type": "code",
   "execution_count": 13,
   "id": "1d8317b6",
   "metadata": {},
   "outputs": [
    {
     "data": {
      "text/plain": [
       "array([1., 2., 1., 3.])"
      ]
     },
     "execution_count": 13,
     "metadata": {},
     "output_type": "execute_result"
    }
   ],
   "source": [
    "# floor(): 無條件捨去\n",
    "np.floor([1.5, 2.5, 1.6, 3.3])"
   ]
  },
  {
   "cell_type": "code",
   "execution_count": 14,
   "id": "2f8a98ad",
   "metadata": {},
   "outputs": [
    {
     "data": {
      "text/plain": [
       "array([2., 3., 2., 4.])"
      ]
     },
     "execution_count": 14,
     "metadata": {},
     "output_type": "execute_result"
    }
   ],
   "source": [
    "# ceil(): 無條件進位\n",
    "np.ceil([1.1, 2.5, 1.6, 3.3])"
   ]
  },
  {
   "cell_type": "code",
   "execution_count": 15,
   "id": "44a31c8d",
   "metadata": {},
   "outputs": [
    {
     "data": {
      "text/plain": [
       "array([1., 2., 1., 3.])"
      ]
     },
     "execution_count": 15,
     "metadata": {},
     "output_type": "execute_result"
    }
   ],
   "source": [
    "# trunc(): 捨棄小數\n",
    "np.trunc([1.1, 2.5, 1.6, 3.3])"
   ]
  },
  {
   "cell_type": "markdown",
   "id": "728b3708",
   "metadata": {},
   "source": [
    "# 指數 (exp) 與對數 (log)"
   ]
  },
  {
   "cell_type": "code",
   "execution_count": 16,
   "id": "0b7de555",
   "metadata": {},
   "outputs": [
    {
     "data": {
      "text/plain": [
       "array([ 2.71828183,  7.3890561 , 20.08553692, 54.59815003])"
      ]
     },
     "execution_count": 16,
     "metadata": {},
     "output_type": "execute_result"
    }
   ],
   "source": [
    "# exp(): 自然對數 e 的幾次方\n",
    "'''\n",
    "e^1 = 2.71828183\n",
    "e^2 = 7.3890561\n",
    "e^3 = 20.08553692\n",
    "e^4 = 54.59815003\n",
    ".\n",
    ".\n",
    ".\n",
    "'''\n",
    "np.exp([1, 2, 3, 4])"
   ]
  },
  {
   "cell_type": "code",
   "execution_count": 17,
   "id": "400f657a",
   "metadata": {},
   "outputs": [
    {
     "data": {
      "text/plain": [
       "array([ 2.,  4.,  8., 16.])"
      ]
     },
     "execution_count": 17,
     "metadata": {},
     "output_type": "execute_result"
    }
   ],
   "source": [
    "# exp2(): 2 的幾次方\n",
    "np.exp2([1, 2, 3, 4])"
   ]
  },
  {
   "cell_type": "code",
   "execution_count": 18,
   "id": "5310cf2b",
   "metadata": {},
   "outputs": [
    {
     "data": {
      "text/plain": [
       "array([0., 1., 2.])"
      ]
     },
     "execution_count": 18,
     "metadata": {},
     "output_type": "execute_result"
    }
   ],
   "source": [
    "# log(): 計算自然對數的值\n",
    "'''\n",
    "np.e = 自然對數\n",
    "\n",
    "註: \n",
    "log(1) = 0 (任何數的 0 次方，等於 1)\n",
    "log(e) = 1\n",
    "log(e^2) = 2\n",
    "'''\n",
    "np.log([1, np.e, np.e ** 2])"
   ]
  },
  {
   "cell_type": "code",
   "execution_count": 19,
   "id": "ddc12b44",
   "metadata": {},
   "outputs": [
    {
     "data": {
      "text/plain": [
       "array([0., 1., 2., 3.])"
      ]
     },
     "execution_count": 19,
     "metadata": {},
     "output_type": "execute_result"
    }
   ],
   "source": [
    "# log2(): 計算以 2 為底的值\n",
    "np.log2([1, 2, 4, 8])"
   ]
  },
  {
   "cell_type": "code",
   "execution_count": 20,
   "id": "ab641a22",
   "metadata": {},
   "outputs": [
    {
     "data": {
      "text/plain": [
       "array([0., 1., 2., 3.])"
      ]
     },
     "execution_count": 20,
     "metadata": {},
     "output_type": "execute_result"
    }
   ],
   "source": [
    "# log10(): 計算以 10 為底的值\n",
    "np.log10([1, 10, 100, 1000])"
   ]
  },
  {
   "cell_type": "code",
   "execution_count": 21,
   "id": "2f279802",
   "metadata": {},
   "outputs": [
    {
     "data": {
      "text/plain": [
       "array([3, 3])"
      ]
     },
     "execution_count": 21,
     "metadata": {},
     "output_type": "execute_result"
    }
   ],
   "source": [
    "# absolute(): 回傳絕對值\n",
    "np.absolute([-3, 3])"
   ]
  },
  {
   "cell_type": "code",
   "execution_count": 22,
   "id": "7b13b57b",
   "metadata": {},
   "outputs": [
    {
     "data": {
      "text/plain": [
       "array([16, 81])"
      ]
     },
     "execution_count": 22,
     "metadata": {},
     "output_type": "execute_result"
    }
   ],
   "source": [
    "# square(): 回傳平方值\n",
    "np.square([4, 9])"
   ]
  },
  {
   "cell_type": "code",
   "execution_count": 23,
   "id": "c196fb25",
   "metadata": {},
   "outputs": [
    {
     "data": {
      "text/plain": [
       "array([2., 3.])"
      ]
     },
     "execution_count": 23,
     "metadata": {},
     "output_type": "execute_result"
    }
   ],
   "source": [
    "# sqrt(): 回傳平方根\n",
    "np.sqrt([4, 9])"
   ]
  },
  {
   "cell_type": "markdown",
   "id": "bd884db8",
   "metadata": {},
   "source": [
    "# 隨機函數\n",
    "- np.random.rand(dim0\\[, dim1, dim2, ...\\])\n",
    "- np.random.randint(low, high=None, size=None)\n",
    "- 參考資料: \n",
    "  - [Random sampling](https://numpy.org/doc/stable/reference/random/index.html)\n",
    "  - [python numpy 常用随机数的产生方法](https://blog.csdn.net/m0_37804518/article/details/78490709)"
   ]
  },
  {
   "cell_type": "code",
   "execution_count": 24,
   "id": "875a3757",
   "metadata": {},
   "outputs": [
    {
     "data": {
      "text/plain": [
       "array([0.37454012, 0.95071431, 0.73199394])"
      ]
     },
     "execution_count": 24,
     "metadata": {},
     "output_type": "execute_result"
    }
   ],
   "source": [
    "'''\n",
    "np.random.seed(42)\n",
    "numpy.random.rand(): 設定種子後，取得隨機亂數\n",
    "\n",
    "註: np.random.seed() 的引數固定，隨機產生的值也會固定，亂數的值介於 [0, 1)\n",
    "'''\n",
    "np.random.seed(42)\n",
    "a = np.random.rand(3); a"
   ]
  },
  {
   "cell_type": "code",
   "execution_count": 2,
   "id": "dce628fe",
   "metadata": {},
   "outputs": [
    {
     "data": {
      "text/plain": [
       "array([53,  9, 65, 56, 44, 42, 17, 23, 55, 14, 21, 25, 78, 34, 56, 35, 55,\n",
       "       32, 33, 84, 38, 51, 81, 55, 85, 58, 96, 89, 13, 49, 13, 15, 47, 20,\n",
       "       41, 16, 61, 55, 42, 43, 38, 26, 36, 98, 88, 95, 42, 80, 67, 73,  4,\n",
       "       31, 91,  9, 84, 99, 52, 76, 18, 30, 72, 27, 50, 56,  6, 93, 28,  4,\n",
       "        6, 44, 10, 17, 61, 71, 72, 59, 68,  4,  0, 40, 38, 69, 80, 72, 74,\n",
       "       89, 53, 40, 50, 91, 77, 75, 90, 66, 60, 30,  9, 42, 63, 22])"
      ]
     },
     "execution_count": 2,
     "metadata": {},
     "output_type": "execute_result"
    }
   ],
   "source": [
    "'''\n",
    "np.random.randint(start, end, size=數量): 產生 start 到 end - 1 之間的整數值\n",
    "\n",
    "隨機產生 100 位同學的成績\n",
    "'''\n",
    "a = np.random.randint(0, 100, size=100); a"
   ]
  },
  {
   "cell_type": "code",
   "execution_count": 26,
   "id": "89bc0e4b",
   "metadata": {},
   "outputs": [
    {
     "data": {
      "text/plain": [
       "array([1, 5, 2, 4, 3, 7, 9, 6, 8, 0])"
      ]
     },
     "execution_count": 26,
     "metadata": {},
     "output_type": "execute_result"
    }
   ],
   "source": [
    "'''\n",
    "np.random.shuffle(): 陣列元素重新排列\n",
    "'''\n",
    "x = np.arange(10)\n",
    "np.random.shuffle(x)\n",
    "x"
   ]
  },
  {
   "cell_type": "markdown",
   "id": "15ffadd7",
   "metadata": {},
   "source": [
    "# 其它"
   ]
  },
  {
   "cell_type": "code",
   "execution_count": 27,
   "id": "e781b07e",
   "metadata": {},
   "outputs": [
    {
     "data": {
      "text/plain": [
       "2.5"
      ]
     },
     "execution_count": 27,
     "metadata": {},
     "output_type": "execute_result"
    }
   ],
   "source": [
    "# mean(): 元素平均值\n",
    "x = np.array([[1, 2], [3, 4]])\n",
    "np.mean(x)"
   ]
  },
  {
   "cell_type": "code",
   "execution_count": 28,
   "id": "11ff333a",
   "metadata": {},
   "outputs": [
    {
     "data": {
      "text/plain": [
       "array([2., 3.])"
      ]
     },
     "execution_count": 28,
     "metadata": {},
     "output_type": "execute_result"
    }
   ],
   "source": [
    "# mean() 加上 axis\n",
    "np.mean(x, axis = 0)"
   ]
  },
  {
   "cell_type": "code",
   "execution_count": 29,
   "id": "32ec8ed6",
   "metadata": {},
   "outputs": [
    {
     "data": {
      "text/plain": [
       "5.0"
      ]
     },
     "execution_count": 29,
     "metadata": {},
     "output_type": "execute_result"
    }
   ],
   "source": [
    "# median(): 中位數\n",
    "x = np.array([[12, 7, 4], [3, 2, 6]])\n",
    "np.median(x)"
   ]
  },
  {
   "cell_type": "code",
   "execution_count": 30,
   "id": "0868ee9a",
   "metadata": {},
   "outputs": [
    {
     "data": {
      "text/plain": [
       "array([7.5, 4.5, 5. ])"
      ]
     },
     "execution_count": 30,
     "metadata": {},
     "output_type": "execute_result"
    }
   ],
   "source": [
    "# median() 加上 axis\n",
    "np.median(x, axis = 0)"
   ]
  }
 ],
 "metadata": {
  "kernelspec": {
   "display_name": "python3@nlp",
   "language": "python",
   "name": "k_nlp"
  },
  "language_info": {
   "codemirror_mode": {
    "name": "ipython",
    "version": 3
   },
   "file_extension": ".py",
   "mimetype": "text/x-python",
   "name": "python",
   "nbconvert_exporter": "python",
   "pygments_lexer": "ipython3",
   "version": "3.10.11"
  }
 },
 "nbformat": 4,
 "nbformat_minor": 5
}
