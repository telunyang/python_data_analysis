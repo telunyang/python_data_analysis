{
 "cells": [
  {
   "cell_type": "markdown",
   "id": "afa05ded",
   "metadata": {},
   "source": [
    "# 安裝 pandas\n",
    "若有語法不了解的地方，可以參考以下連結:\n",
    "- [API reference](https://pandas.pydata.org/docs/reference/index.html)\n",
    "- [Pandas Tutorial](https://www.w3schools.com/python/pandas/default.asp)\n",
    "- [Pandas 教程](https://www.runoob.com/pandas/pandas-tutorial.html)"
   ]
  },
  {
   "cell_type": "code",
   "execution_count": null,
   "id": "d6cb020d",
   "metadata": {},
   "outputs": [],
   "source": [
    "# 安裝套件\n",
    "!pip install pandas"
   ]
  },
  {
   "cell_type": "code",
   "execution_count": 1,
   "id": "db0a68e1",
   "metadata": {},
   "outputs": [],
   "source": [
    "import pandas as pd\n",
    "import numpy as np"
   ]
  },
  {
   "cell_type": "markdown",
   "id": "b2cb779c",
   "metadata": {},
   "source": [
    "#  使用 series"
   ]
  },
  {
   "cell_type": "code",
   "execution_count": 2,
   "id": "9049ceba",
   "metadata": {},
   "outputs": [
    {
     "data": {
      "text/plain": [
       "0    11\n",
       "1    22\n",
       "2    33\n",
       "3    44\n",
       "4    55\n",
       "dtype: int64"
      ]
     },
     "execution_count": 2,
     "metadata": {},
     "output_type": "execute_result"
    }
   ],
   "source": [
    "# 使用 list 建立 series 物件\n",
    "s = pd.Series([11, 22, 33, 44, 55]); s"
   ]
  },
  {
   "cell_type": "code",
   "execution_count": 3,
   "id": "4a244e6b",
   "metadata": {},
   "outputs": [
    {
     "data": {
      "text/plain": [
       "蘋果    60\n",
       "水梨    50\n",
       "dtype: int64"
      ]
     },
     "execution_count": 3,
     "metadata": {},
     "output_type": "execute_result"
    }
   ],
   "source": [
    "# 使用 dict 建立 series 物件\n",
    "myDict = {\"蘋果\": 60, \"水梨\": 50}\n",
    "s = pd.Series(myDict); s"
   ]
  },
  {
   "cell_type": "code",
   "execution_count": 4,
   "id": "430408f8",
   "metadata": {},
   "outputs": [
    {
     "data": {
      "text/plain": [
       "0     13\n",
       "1     14\n",
       "2     15\n",
       "3     16\n",
       "4     17\n",
       "5     18\n",
       "6     19\n",
       "7     20\n",
       "8     21\n",
       "9     22\n",
       "10    23\n",
       "dtype: int32"
      ]
     },
     "execution_count": 4,
     "metadata": {},
     "output_type": "execute_result"
    }
   ],
   "source": [
    "# 使用 Numpy 的 ndarray 建立 series 物件\n",
    "s = pd.Series(np.arange(13, 24)); s"
   ]
  },
  {
   "cell_type": "code",
   "execution_count": 5,
   "id": "3ecb0e0e",
   "metadata": {},
   "outputs": [
    {
     "data": {
      "text/plain": [
       "3    10\n",
       "6    20\n",
       "9    30\n",
       "dtype: int64"
      ]
     },
     "execution_count": 5,
     "metadata": {},
     "output_type": "execute_result"
    }
   ],
   "source": [
    "# 建立含索引的 series 物件\n",
    "myIndex = [3, 6, 9] # 也可以用字串當 index (key)\n",
    "price = [10, 20, 30]\n",
    "s = pd.Series(price, index=myIndex); s"
   ]
  },
  {
   "cell_type": "code",
   "execution_count": 6,
   "id": "4f15bab0",
   "metadata": {},
   "outputs": [
    {
     "data": {
      "text/plain": [
       "1    7\n",
       "2    7\n",
       "3    7\n",
       "dtype: int64"
      ]
     },
     "execution_count": 6,
     "metadata": {},
     "output_type": "execute_result"
    }
   ],
   "source": [
    "# 使用純量 (scalar) 建立 series\n",
    "s = pd.Series(7, index=[1,2,3]); s"
   ]
  },
  {
   "cell_type": "code",
   "execution_count": 7,
   "id": "865f4127",
   "metadata": {},
   "outputs": [
    {
     "data": {
      "text/plain": [
       "apple     10\n",
       "orange    20\n",
       "pear      30\n",
       "dtype: int64"
      ]
     },
     "execution_count": 7,
     "metadata": {},
     "output_type": "execute_result"
    }
   ],
   "source": [
    "# 列出 series 物件索引與值\n",
    "s = pd.Series([10, 20, 30], index=['apple', 'orange', 'pear']); s"
   ]
  },
  {
   "cell_type": "code",
   "execution_count": 8,
   "id": "f1cade79",
   "metadata": {},
   "outputs": [
    {
     "data": {
      "text/plain": [
       "array([10, 20, 30], dtype=int64)"
      ]
     },
     "execution_count": 8,
     "metadata": {},
     "output_type": "execute_result"
    }
   ],
   "source": [
    "# 承上，印出所有的值\n",
    "s.values"
   ]
  },
  {
   "cell_type": "code",
   "execution_count": 9,
   "id": "c2c4f545",
   "metadata": {},
   "outputs": [
    {
     "data": {
      "text/plain": [
       "Index(['apple', 'orange', 'pear'], dtype='object')"
      ]
     },
     "execution_count": 9,
     "metadata": {},
     "output_type": "execute_result"
    }
   ],
   "source": [
    "# 承上，印出所有的索引編號\n",
    "s.index"
   ]
  },
  {
   "cell_type": "markdown",
   "id": "cba06627",
   "metadata": {},
   "source": [
    "# series 的運算"
   ]
  },
  {
   "cell_type": "code",
   "execution_count": 10,
   "id": "a6acc1dc",
   "metadata": {},
   "outputs": [],
   "source": [
    "# 將切片觀念用在 series 物件\n",
    "s = pd.Series([11, 22, 33, 44, 55, 66])"
   ]
  },
  {
   "cell_type": "code",
   "execution_count": 11,
   "id": "3bdb0430",
   "metadata": {},
   "outputs": [
    {
     "data": {
      "text/plain": [
       "44"
      ]
     },
     "execution_count": 11,
     "metadata": {},
     "output_type": "execute_result"
    }
   ],
   "source": [
    "s[3]"
   ]
  },
  {
   "cell_type": "code",
   "execution_count": 12,
   "id": "5bec234d",
   "metadata": {},
   "outputs": [
    {
     "data": {
      "text/plain": [
       "2    33\n",
       "3    44\n",
       "dtype: int64"
      ]
     },
     "execution_count": 12,
     "metadata": {},
     "output_type": "execute_result"
    }
   ],
   "source": [
    "s[2:4]"
   ]
  },
  {
   "cell_type": "code",
   "execution_count": 13,
   "id": "9c9bf8d0",
   "metadata": {},
   "outputs": [
    {
     "data": {
      "text/plain": [
       "0    11\n",
       "1    22\n",
       "2    33\n",
       "dtype: int64"
      ]
     },
     "execution_count": 13,
     "metadata": {},
     "output_type": "execute_result"
    }
   ],
   "source": [
    "s[:3]"
   ]
  },
  {
   "cell_type": "code",
   "execution_count": 14,
   "id": "e7a52244",
   "metadata": {},
   "outputs": [
    {
     "data": {
      "text/plain": [
       "2    33\n",
       "3    44\n",
       "4    55\n",
       "5    66\n",
       "dtype: int64"
      ]
     },
     "execution_count": 14,
     "metadata": {},
     "output_type": "execute_result"
    }
   ],
   "source": [
    "s[2:]"
   ]
  },
  {
   "cell_type": "code",
   "execution_count": 15,
   "id": "a50f22f6",
   "metadata": {},
   "outputs": [
    {
     "data": {
      "text/plain": [
       "5    66\n",
       "dtype: int64"
      ]
     },
     "execution_count": 15,
     "metadata": {},
     "output_type": "execute_result"
    }
   ],
   "source": [
    "# series 只能使用 slicing，無法直接使用 -1 來取得最後一個元素的值\n",
    "s[-1:]"
   ]
  },
  {
   "cell_type": "code",
   "execution_count": 16,
   "id": "a86388ce",
   "metadata": {},
   "outputs": [
    {
     "data": {
      "text/plain": [
       "0    4\n",
       "1    6\n",
       "dtype: int64"
      ]
     },
     "execution_count": 16,
     "metadata": {},
     "output_type": "execute_result"
    }
   ],
   "source": [
    "# series 物件相加\n",
    "x = pd.Series([1, 2])\n",
    "y = pd.Series([3, 4])\n",
    "x + y"
   ]
  },
  {
   "cell_type": "code",
   "execution_count": 17,
   "id": "59d9585c",
   "metadata": {},
   "outputs": [
    {
     "data": {
      "text/plain": [
       "0    3\n",
       "1    8\n",
       "dtype: int64"
      ]
     },
     "execution_count": 17,
     "metadata": {},
     "output_type": "execute_result"
    }
   ],
   "source": [
    "# series 物件相乘\n",
    "x * y"
   ]
  },
  {
   "cell_type": "code",
   "execution_count": 18,
   "id": "29b5a452",
   "metadata": {},
   "outputs": [
    {
     "data": {
      "text/plain": [
       "0    False\n",
       "1    False\n",
       "dtype: bool"
      ]
     },
     "execution_count": 18,
     "metadata": {},
     "output_type": "execute_result"
    }
   ],
   "source": [
    "# 邏輯判斷: 大於 (可以嘗試其它判斷)\n",
    "x > y"
   ]
  },
  {
   "cell_type": "code",
   "execution_count": 19,
   "id": "a6f85135",
   "metadata": {},
   "outputs": [
    {
     "data": {
      "text/plain": [
       "apple     35\n",
       "orange    65\n",
       "pear      95\n",
       "dtype: int64"
      ]
     },
     "execution_count": 19,
     "metadata": {},
     "output_type": "execute_result"
    }
   ],
   "source": [
    "# 擁有相同的 index (或 key)，執行相加\n",
    "fruits = ['apple', 'orange', 'pear']\n",
    "x1 = pd.Series([20, 30, 40], index=fruits)\n",
    "x2 = pd.Series([15, 35, 55], index=fruits)\n",
    "x1 + x2"
   ]
  },
  {
   "cell_type": "code",
   "execution_count": 20,
   "id": "235ba655",
   "metadata": {},
   "outputs": [
    {
     "data": {
      "text/plain": [
       "apple     35.0\n",
       "banana     NaN\n",
       "orange     NaN\n",
       "pear      95.0\n",
       "dtype: float64"
      ]
     },
     "execution_count": 20,
     "metadata": {},
     "output_type": "execute_result"
    }
   ],
   "source": [
    "# 擁有不同的 index (或 key)，執行相加，不同索引之間的值相加，會填上 NaN (Not a Number)\n",
    "fruits1 = ['apple', 'orange', 'pear']\n",
    "fruits2 = ['apple', 'banana', 'pear']\n",
    "x1 = pd.Series([20, 30, 40], index=fruits1)\n",
    "x2 = pd.Series([15, 35, 55], index=fruits2)\n",
    "x1 + x2"
   ]
  },
  {
   "cell_type": "code",
   "execution_count": 21,
   "id": "33e039f2",
   "metadata": {},
   "outputs": [
    {
     "data": {
      "text/plain": [
       "apple     20\n",
       "orange    30\n",
       "pear      40\n",
       "dtype: int64"
      ]
     },
     "execution_count": 21,
     "metadata": {},
     "output_type": "execute_result"
    }
   ],
   "source": [
    "# series 的索引是字串 (key)，取得元素內容\n",
    "fruits = ['apple', 'orange', 'pear']\n",
    "x = pd.Series([20, 30, 40], index=fruits); x"
   ]
  },
  {
   "cell_type": "code",
   "execution_count": 22,
   "id": "85d6c782",
   "metadata": {},
   "outputs": [
    {
     "data": {
      "text/plain": [
       "20"
      ]
     },
     "execution_count": 22,
     "metadata": {},
     "output_type": "execute_result"
    }
   ],
   "source": [
    "# 取得單一 key 的資料\n",
    "x['apple']"
   ]
  },
  {
   "cell_type": "code",
   "execution_count": 23,
   "id": "fea13afd",
   "metadata": {},
   "outputs": [
    {
     "data": {
      "text/plain": [
       "apple     20\n",
       "orange    30\n",
       "dtype: int64"
      ]
     },
     "execution_count": 23,
     "metadata": {},
     "output_type": "execute_result"
    }
   ],
   "source": [
    "# 取得多個 key 的資料，要使用 list 包起來 (在 pandas 很常用)\n",
    "x[ ['apple', 'orange'] ]"
   ]
  },
  {
   "cell_type": "code",
   "execution_count": 24,
   "id": "ac5c4688",
   "metadata": {},
   "outputs": [
    {
     "data": {
      "text/plain": [
       "apple      400\n",
       "orange     900\n",
       "pear      1600\n",
       "dtype: int64"
      ]
     },
     "execution_count": 24,
     "metadata": {},
     "output_type": "execute_result"
    }
   ],
   "source": [
    "# 每個元素都取得平方值\n",
    "np.square(x)"
   ]
  }
 ],
 "metadata": {
  "kernelspec": {
   "display_name": "python3@nlp",
   "language": "python",
   "name": "k_nlp"
  },
  "language_info": {
   "codemirror_mode": {
    "name": "ipython",
    "version": 3
   },
   "file_extension": ".py",
   "mimetype": "text/x-python",
   "name": "python",
   "nbconvert_exporter": "python",
   "pygments_lexer": "ipython3",
   "version": "3.10.11"
  }
 },
 "nbformat": 4,
 "nbformat_minor": 5
}
