{
 "cells": [
  {
   "cell_type": "code",
   "execution_count": null,
   "id": "a3a07fff",
   "metadata": {},
   "outputs": [],
   "source": [
    "import numpy as np\n",
    "import pandas as pd"
   ]
  },
  {
   "cell_type": "markdown",
   "id": "a9e644a9",
   "metadata": {},
   "source": [
    "# 索引參照屬性\n",
    "- df.**at**: 使用 index (key) 和 columns **名稱** 來「取得或設定」單一元素內容或陣列內容。\n",
    "- df.**iat**: 使用 index (key) 和 columns **編號** 來「取得或設定」單一元素內容。\n",
    "- df.**loc**: 使用 index (key) 或 columns **名稱** 來「取得或設定」整個 row 或 columns 的資料或陣列內容。\n",
    "- df.**iloc**: 使用 index (key) 或 columns **編號** 來「取得或設定」整個 row 或 columns 的資料。"
   ]
  },
  {
   "cell_type": "code",
   "execution_count": null,
   "id": "0ce28da3",
   "metadata": {},
   "outputs": [],
   "source": [
    "'''建立「2020 ~ 2023」年「臺北、臺中、高雄」某月平均溫度 的 dataframe'''\n",
    "\n",
    "# 建立欄位\n",
    "years = range(2020, 2024)\n",
    "\n",
    "# 臺北、臺中、高雄 某個月的平均溫度\n",
    "taipei = pd.Series([20, 21, 19, 21], index=years)\n",
    "taichung = pd.Series([25, 26, 27, 28], index=years)\n",
    "kaohsiung = pd.Series([30, 29, 31, 32], index=years)\n",
    "\n",
    "# 建立 dataframe (axis=0 是上下合併，axis=1 是左右合併)\n",
    "df = pd.concat([taipei, taichung, kaohsiung], axis=1)\n",
    "\n",
    "# 設定欄位\n",
    "df.columns = ['taipei', 'taichung', 'kaohsiung']; df"
   ]
  },
  {
   "cell_type": "code",
   "execution_count": null,
   "id": "8a9bfb05",
   "metadata": {},
   "outputs": [],
   "source": [
    "# 使用 at: 取得 row 是 2020 且 column 是 taipei 的值\n",
    "df.at[2020, 'taipei']"
   ]
  },
  {
   "cell_type": "code",
   "execution_count": null,
   "id": "f682aebd",
   "metadata": {},
   "outputs": [],
   "source": [
    "# 使用 at: 取得 row 是 2023 且 column 是 kaohsiung 的值\n",
    "df.at[2023, 'kaohsiung']"
   ]
  },
  {
   "cell_type": "code",
   "execution_count": null,
   "id": "5d18c950",
   "metadata": {},
   "outputs": [],
   "source": [
    "# 使用 iat: 取得 row 是 2, column 是 1 的值\n",
    "'''\n",
    "index 是 zero-based\n",
    "'''\n",
    "df.iat[2, 1]"
   ]
  },
  {
   "cell_type": "code",
   "execution_count": null,
   "id": "f38fd353",
   "metadata": {},
   "outputs": [],
   "source": [
    "# 使用 loc: 取得 row 是 2021 的資料\n",
    "'''\n",
    "只有指定 2021，所以回傳 series 型態\n",
    "'''\n",
    "df.loc[2021]"
   ]
  },
  {
   "cell_type": "code",
   "execution_count": null,
   "id": "027aab72",
   "metadata": {},
   "outputs": [],
   "source": [
    "# 使用 loc: 取得 row 是 2020 和 2023 的資料\n",
    "'''\n",
    "指定兩個 row，資料將自帶 column，回傳 dataframe\n",
    "'''\n",
    "df.loc[ [2020, 2023] ]"
   ]
  },
  {
   "cell_type": "code",
   "execution_count": null,
   "id": "9d8b3a2c",
   "metadata": {},
   "outputs": [],
   "source": [
    "# 使用 loc: 取得 row 是 2021 到 2023、column 是 taichung 到 kaohsiung 的資料\n",
    "'''\n",
    "沒有 slicing 有關 end 需要減 1 的問題\n",
    "'''\n",
    "df.loc[2021:2023, \"taichung\":\"kaohsiung\"]"
   ]
  },
  {
   "cell_type": "code",
   "execution_count": null,
   "id": "70151b5c",
   "metadata": {},
   "outputs": [],
   "source": [
    "# 使用 iloc: 取得 row 是 0 的資料\n",
    "'''\n",
    "只有指定 [0]，所以回傳 series\n",
    "'''\n",
    "df.iloc[0]"
   ]
  },
  {
   "cell_type": "markdown",
   "id": "efde6fee",
   "metadata": {},
   "source": [
    "# 直接索引\n",
    "不用使用 df.at\\[\\]、df.loc\\[\\] 等方式取得資料，直接使用 `df[index 或 key]`，來取得對應的行或列的資料。"
   ]
  },
  {
   "cell_type": "code",
   "execution_count": null,
   "id": "a0b1cf0a",
   "metadata": {},
   "outputs": [],
   "source": [
    "# 取得 column 為 taipei 的資料\n",
    "df['taipei']"
   ]
  },
  {
   "cell_type": "code",
   "execution_count": null,
   "id": "32c5637f",
   "metadata": {},
   "outputs": [],
   "source": [
    "# 取得 column 是 taipei、row 是 2022 的資料\n",
    "df['taipei'][2022]"
   ]
  },
  {
   "cell_type": "code",
   "execution_count": null,
   "id": "65001d73",
   "metadata": {},
   "outputs": [],
   "source": [
    "# 取得 column 是 taipei 和 taichung 的資料\n",
    "df[ ['taipei', 'taichung'] ]"
   ]
  },
  {
   "cell_type": "code",
   "execution_count": null,
   "id": "15b8dd5e",
   "metadata": {},
   "outputs": [],
   "source": [
    "# 取得 row 索引編號 1 ~ 2 的資料\n",
    "'''\n",
    "透過 slicing 方式取得資料\n",
    "'''\n",
    "df[1:3]"
   ]
  },
  {
   "cell_type": "code",
   "execution_count": null,
   "id": "c61e0563",
   "metadata": {},
   "outputs": [],
   "source": [
    "# 取得 row 索引編號 3 之前的資料\n",
    "'''\n",
    "透過 slicing 方式取得資料\n",
    "'''\n",
    "df[:3]"
   ]
  },
  {
   "cell_type": "code",
   "execution_count": null,
   "id": "b5da0850",
   "metadata": {},
   "outputs": [],
   "source": [
    "# 取得 taipei 溫度大於 20 的資料\n",
    "'''\n",
    "類似在 df 索引位置進行邏輯判斷\n",
    "'''\n",
    "df[ df['taipei'] > 20 ]"
   ]
  },
  {
   "cell_type": "code",
   "execution_count": null,
   "id": "8aeb51f4",
   "metadata": {},
   "outputs": [],
   "source": [
    "# 取得 taipei 溫度大於 20、高雄溫度大於 30 的資料\n",
    "'''\n",
    "判斷陳述句，要用括號包起來\n",
    "\n",
    "&: and\n",
    "|: or\n",
    "'''\n",
    "df[ (df['taipei'] > 20) & (df['kaohsiung'] > 30) ]"
   ]
  },
  {
   "cell_type": "markdown",
   "id": "27bd1b73",
   "metadata": {},
   "source": [
    "# 四則運算\n",
    "- add(): 加法\n",
    "- sub(): 減法\n",
    "- mul(): 乘法\n",
    "- div(): 除法\n",
    "\n",
    "`註: series 跟 dataframe 都可以用`"
   ]
  },
  {
   "cell_type": "code",
   "execution_count": null,
   "id": "9f956b6f",
   "metadata": {},
   "outputs": [],
   "source": [
    "# 初始化\n",
    "df1 = pd.DataFrame([\n",
    "    {'a': 15, 'b': 15}, \n",
    "    {'a': 12, 'b': 18}]\n",
    ")\n",
    "df2 = pd.DataFrame([\n",
    "    {'a': 15, 'b': 13}, \n",
    "    {'a': 11, 'b': 22}]\n",
    ")"
   ]
  },
  {
   "cell_type": "code",
   "execution_count": null,
   "id": "63135fa5",
   "metadata": {},
   "outputs": [],
   "source": [
    "df1"
   ]
  },
  {
   "cell_type": "code",
   "execution_count": null,
   "id": "dc8edc87",
   "metadata": {},
   "outputs": [],
   "source": [
    "df2"
   ]
  },
  {
   "cell_type": "code",
   "execution_count": null,
   "id": "cdda750b",
   "metadata": {},
   "outputs": [],
   "source": [
    "# 加法\n",
    "df = df1.add(df2); df"
   ]
  },
  {
   "cell_type": "code",
   "execution_count": null,
   "id": "84d96735",
   "metadata": {},
   "outputs": [],
   "source": [
    "# 減法\n",
    "df = df1.sub(df2); df"
   ]
  },
  {
   "cell_type": "code",
   "execution_count": null,
   "id": "b897f13c",
   "metadata": {},
   "outputs": [],
   "source": [
    "# 乘法\n",
    "df = df1.mul(df2); df"
   ]
  },
  {
   "cell_type": "code",
   "execution_count": null,
   "id": "88eef918",
   "metadata": {},
   "outputs": [],
   "source": [
    "# 除法\n",
    "df = df1.div(df2); df"
   ]
  },
  {
   "cell_type": "markdown",
   "id": "6512b17c",
   "metadata": {},
   "source": [
    "# 邏輯運算方法\n",
    "- **gt()**: 大於\n",
    "- **lt()**: 小於\n",
    "- **ge()**: 大於等於\n",
    "- **le()**: 小於等於\n",
    "- **eq()**: 等於\n",
    "- **ne()**: 不等於\n",
    "\n",
    "`註: series 跟 dataframe 都可以用`"
   ]
  },
  {
   "cell_type": "code",
   "execution_count": null,
   "id": "dae558af",
   "metadata": {},
   "outputs": [],
   "source": [
    "# gt(): 大於\n",
    "df = df1.gt(df2); df"
   ]
  },
  {
   "cell_type": "code",
   "execution_count": null,
   "id": "53f27caa",
   "metadata": {},
   "outputs": [],
   "source": [
    "# lt(): 小於\n",
    "df = df1.lt(df2); df"
   ]
  },
  {
   "cell_type": "code",
   "execution_count": null,
   "id": "dd758dcd",
   "metadata": {},
   "outputs": [],
   "source": [
    "# ge(): 大於等於\n",
    "df = df1.ge(df2); df"
   ]
  },
  {
   "cell_type": "code",
   "execution_count": null,
   "id": "fa3092e7",
   "metadata": {},
   "outputs": [],
   "source": [
    "# le(): 小於等於\n",
    "df = df1.le(df2); df"
   ]
  },
  {
   "cell_type": "code",
   "execution_count": null,
   "id": "454a173d",
   "metadata": {},
   "outputs": [],
   "source": [
    "# eq(): 等於\n",
    "df = df1.eq(df2); df"
   ]
  },
  {
   "cell_type": "code",
   "execution_count": null,
   "id": "a1cb6e48",
   "metadata": {},
   "outputs": [],
   "source": [
    "# ne(): 不等於\n",
    "df = df1.ne(df2); df"
   ]
  },
  {
   "cell_type": "markdown",
   "id": "a7f29009",
   "metadata": {},
   "source": [
    "# Numpy 也可以用在 Pandas"
   ]
  },
  {
   "cell_type": "code",
   "execution_count": null,
   "id": "9e1c0f6c",
   "metadata": {},
   "outputs": [],
   "source": [
    "# 把 df1 所有值平方\n",
    "df = np.square(df1); df"
   ]
  },
  {
   "cell_type": "markdown",
   "id": "164e5735",
   "metadata": {},
   "source": [
    "# NaN 的處理\n",
    "- df.**dropna()**: 將 NaN `刪除`，再回傳新的 series 或 dataframe 物件。\n",
    "- df.**fillna()**: 將 NaN 由特定的 value `取代`，再回傳新的 series 或 dataframe 物件。\n",
    "- df.**isna()**: 判斷是否為 NaN，如果`是`，就回傳 True，如果不是，就回傳 False。\n",
    "- df.**notna()**: 判斷是否為 NaN，如果`不是`，就回傳 True，如果是，就回傳 False。\n",
    "- df.**isnull()**: 跟 df.**isna()** 一樣。"
   ]
  },
  {
   "cell_type": "code",
   "execution_count": null,
   "id": "f38269d8",
   "metadata": {},
   "outputs": [],
   "source": [
    "# 初始化\n",
    "df = pd.DataFrame([\n",
    "    [1, 2, 3],\n",
    "    [4, np.nan, 6],\n",
    "    [7, 8, np.nan]\n",
    "]); df"
   ]
  },
  {
   "cell_type": "code",
   "execution_count": null,
   "id": "77af4838",
   "metadata": {},
   "outputs": [],
   "source": [
    "# isna(): 判斷是否為 NaN，如果是，就回傳 True，如果不是，就回傳 False。\n",
    "'''\n",
    "isna() 和 isnull() 是一樣的效果，\n",
    "官方文件也看起來差不多，\n",
    "主要原因是因為 pandas 的 dataframe 概念，\n",
    "是基於 R 的 dataframe，\n",
    "在 R 裡面，na 和 null 是不一樣的東西，\n",
    "而 pandas 是基於 numpy，\n",
    "numpy 沒有 na 也沒有 null，只有 nan，\n",
    "所以 pandas\n",
    "'''\n",
    "df.isna()\n",
    "# isnull()"
   ]
  },
  {
   "cell_type": "code",
   "execution_count": null,
   "id": "f5e3bab8",
   "metadata": {},
   "outputs": [],
   "source": [
    "# notna(): 判斷是否為 NaN，如果不是，就回傳 True，如果是，就回傳 False。\n",
    "df.notna()"
   ]
  },
  {
   "cell_type": "code",
   "execution_count": null,
   "id": "c57b67a9",
   "metadata": {},
   "outputs": [],
   "source": [
    "# 在 NaN 的位置上，補上 0\n",
    "df_ = df.fillna(0); df_.astype('int32')"
   ]
  },
  {
   "cell_type": "code",
   "execution_count": null,
   "id": "57a10861",
   "metadata": {},
   "outputs": [],
   "source": [
    "# dropna(): 刪除含 NaN 的 row (預設)\n",
    "df_ = df.dropna(); df_"
   ]
  },
  {
   "cell_type": "code",
   "execution_count": null,
   "id": "a443fad6",
   "metadata": {},
   "outputs": [],
   "source": [
    "# dropna(axis='columns'): 刪除含 NaN 的 column\n",
    "df_ = df.dropna(axis='columns'); df_"
   ]
  },
  {
   "cell_type": "markdown",
   "id": "a443ce11",
   "metadata": {},
   "source": [
    "# 簡單的統計函數\n",
    "- **cummax**(axis=None): 回傳指定軸所累積的最大值。\n",
    "- **cummin**(axis=None): 回傳指定軸所累積的最小值。 \n",
    "- **cumsum**(axis=None): 回傳指定軸所累積的總和。\n",
    "- **max**(axis=None): 回傳指定軸的最大值。\n",
    "- **min**(axis=None): 回傳指定軸的最小值。\n",
    "- **sum**(axis=None): 回傳指定軸的總和。\n",
    "- **mean**(axis=None): 回傳指定軸的平均數。\n",
    "- **median**(axis=None): 回傳指定軸的中位數。\n",
    "- **std**(axis=None): 回傳指定軸的標準差。"
   ]
  },
  {
   "cell_type": "code",
   "execution_count": null,
   "id": "1f91fc4e",
   "metadata": {},
   "outputs": [],
   "source": [
    "# 初始化\n",
    "from random import randint\n",
    "course = ['國文', '英文', '數學', '自然', '社會']\n",
    "chinese = [randint(60, 100) for x in range(5)]\n",
    "english = [randint(60, 100) for x in range(5)]\n",
    "math = [randint(60, 100) for x in range(5)]\n",
    "nature = [randint(60, 100) for x in range(5)]\n",
    "society = [randint(60, 100) for x in range(5)]\n",
    "\n",
    "df = pd.DataFrame(\n",
    "    [chinese, english, math, nature, society], \n",
    "    columns=course, \n",
    "    index=range(1,6)\n",
    "); df"
   ]
  },
  {
   "cell_type": "code",
   "execution_count": null,
   "id": "1072b52f",
   "metadata": {},
   "outputs": [],
   "source": []
  },
  {
   "cell_type": "code",
   "execution_count": null,
   "id": "40551974",
   "metadata": {},
   "outputs": [],
   "source": []
  },
  {
   "cell_type": "code",
   "execution_count": null,
   "id": "864bfd6b",
   "metadata": {},
   "outputs": [],
   "source": []
  },
  {
   "cell_type": "code",
   "execution_count": null,
   "id": "689c43de",
   "metadata": {},
   "outputs": [],
   "source": []
  },
  {
   "cell_type": "code",
   "execution_count": null,
   "id": "503eea20",
   "metadata": {},
   "outputs": [],
   "source": []
  },
  {
   "cell_type": "code",
   "execution_count": null,
   "id": "f31ae0f6",
   "metadata": {},
   "outputs": [],
   "source": []
  },
  {
   "cell_type": "code",
   "execution_count": null,
   "id": "e4c633ab",
   "metadata": {},
   "outputs": [],
   "source": []
  },
  {
   "cell_type": "code",
   "execution_count": null,
   "id": "07fd5279",
   "metadata": {},
   "outputs": [],
   "source": []
  },
  {
   "cell_type": "code",
   "execution_count": null,
   "id": "4aeb5944",
   "metadata": {},
   "outputs": [],
   "source": []
  },
  {
   "cell_type": "code",
   "execution_count": null,
   "id": "1a67a05c",
   "metadata": {},
   "outputs": [],
   "source": []
  },
  {
   "cell_type": "code",
   "execution_count": null,
   "id": "b8edfaf2",
   "metadata": {},
   "outputs": [],
   "source": []
  },
  {
   "cell_type": "code",
   "execution_count": null,
   "id": "da6c838d",
   "metadata": {},
   "outputs": [],
   "source": []
  },
  {
   "cell_type": "code",
   "execution_count": null,
   "id": "60b2282e",
   "metadata": {},
   "outputs": [],
   "source": []
  },
  {
   "cell_type": "code",
   "execution_count": null,
   "id": "fc76d4a7",
   "metadata": {},
   "outputs": [],
   "source": []
  },
  {
   "cell_type": "code",
   "execution_count": null,
   "id": "5e629fd4",
   "metadata": {},
   "outputs": [],
   "source": []
  },
  {
   "cell_type": "code",
   "execution_count": null,
   "id": "bff1ff86",
   "metadata": {},
   "outputs": [],
   "source": []
  },
  {
   "cell_type": "code",
   "execution_count": null,
   "id": "caae42e4",
   "metadata": {},
   "outputs": [],
   "source": []
  },
  {
   "cell_type": "code",
   "execution_count": null,
   "id": "abaa106e",
   "metadata": {},
   "outputs": [],
   "source": []
  },
  {
   "cell_type": "code",
   "execution_count": null,
   "id": "2a4540b0",
   "metadata": {},
   "outputs": [],
   "source": []
  }
 ],
 "metadata": {
  "kernelspec": {
   "display_name": "Python3@da",
   "language": "python",
   "name": "da"
  },
  "language_info": {
   "codemirror_mode": {
    "name": "ipython",
    "version": 3
   },
   "file_extension": ".py",
   "mimetype": "text/x-python",
   "name": "python",
   "nbconvert_exporter": "python",
   "pygments_lexer": "ipython3",
   "version": "3.10.10"
  }
 },
 "nbformat": 4,
 "nbformat_minor": 5
}
