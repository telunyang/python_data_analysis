{
 "cells": [
  {
   "cell_type": "markdown",
   "id": "76239246",
   "metadata": {},
   "source": [
    "# 取得 Wep API 資料 (json)，讀入 pandas 建立 dataframe\n",
    "- 資料來源: [Cafe Nomad：咖啡廳遊牧民族](https://cafenomad.tw/)\n",
    "  - Web API: [API v1.2](https://cafenomad.tw/developers/docs/v1.2)"
   ]
  },
  {
   "cell_type": "code",
   "execution_count": null,
   "id": "2c5f6323",
   "metadata": {},
   "outputs": [],
   "source": [
    "# 安裝 requests 套件\n",
    "!pip install requests"
   ]
  },
  {
   "cell_type": "code",
   "execution_count": null,
   "id": "40e4ad2a",
   "metadata": {},
   "outputs": [],
   "source": [
    "# 匯入套件\n",
    "import requests\n",
    "import pandas as pd\n",
    "\n",
    "# 取得 json 資料\n",
    "'''\n",
    "臺北咖啡廳資訊 Web API:\n",
    "https://cafenomad.tw/api/v1.2/cafes/taipei\n",
    "'''\n",
    "# 發出請求，取得回應\n",
    "response = requests.get(url=\"https://cafenomad.tw/api/v1.2/cafes/taipei\")\n",
    "\n",
    "# 將回應內容以 json 格式 (將 json 字串轉成 dict 或 list) 回傳\n",
    "data = response.json()"
   ]
  },
  {
   "cell_type": "code",
   "execution_count": null,
   "id": "36c738ef",
   "metadata": {},
   "outputs": [],
   "source": [
    "# 建立 dataframe\n",
    "df = pd.DataFrame(data); df"
   ]
  },
  {
   "cell_type": "code",
   "execution_count": null,
   "id": "69120155",
   "metadata": {
    "scrolled": false
   },
   "outputs": [],
   "source": [
    "# 取得 臺北市信義區 的資料\n",
    "df[ df['address'].str.contains(\"臺北市大安區\", case=False) ]"
   ]
  },
  {
   "cell_type": "code",
   "execution_count": null,
   "id": "fd05c406",
   "metadata": {
    "scrolled": true
   },
   "outputs": [],
   "source": [
    "# 取得在「臺北市」，且「插座很多」，而且「不限時間」的資料\n",
    "df[ df['address'].str.contains('台北市') & (df['socket'] == 'yes') & (df['limited_time'] == 'no')]"
   ]
  },
  {
   "cell_type": "code",
   "execution_count": null,
   "id": "e5444921",
   "metadata": {
    "scrolled": true
   },
   "outputs": [],
   "source": [
    "# 取得在「臺北市」，且「插座很多」、「不限時間」、「便宜程度 4 以上」的資料\n",
    "df[ \n",
    "    df['address'].str.contains('台北市') & \n",
    "    (df['socket'] == 'yes') & \n",
    "    (df['limited_time'] == 'no') &\n",
    "    (df['cheap'] >= 4)\n",
    "]"
   ]
  },
  {
   "cell_type": "code",
   "execution_count": null,
   "id": "a240a7a1",
   "metadata": {},
   "outputs": [],
   "source": [
    "# 取得緯度 (latitude)、經度 (longitude)\n",
    "df[ ['latitude', 'longitude'] ]"
   ]
  }
 ],
 "metadata": {
  "kernelspec": {
   "display_name": "Python3@da",
   "language": "python",
   "name": "da"
  },
  "language_info": {
   "codemirror_mode": {
    "name": "ipython",
    "version": 3
   },
   "file_extension": ".py",
   "mimetype": "text/x-python",
   "name": "python",
   "nbconvert_exporter": "python",
   "pygments_lexer": "ipython3",
   "version": "3.10.10"
  }
 },
 "nbformat": 4,
 "nbformat_minor": 5
}
