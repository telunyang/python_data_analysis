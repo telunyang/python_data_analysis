{
 "cells": [
  {
   "cell_type": "markdown",
   "metadata": {},
   "source": [
    "# 安裝 ipyleaflet \n",
    "- 進入 anaconda prompt，切換到對應的環境，輸入以下指令:\n",
    "  - `conda install -c conda-forge ipyleaflet`\n",
    "- 會需要用到 requests\n",
    "  - `pip install requests`\n",
    "- ipyleaflet 首頁\n",
    "  - [連結](https://ipyleaflet.readthedocs.io/en/latest/index.html)"
   ]
  },
  {
   "cell_type": "code",
   "execution_count": 28,
   "metadata": {},
   "outputs": [],
   "source": [
    "# 匯入套件\n",
    "from ipyleaflet import Map, Marker, basemaps, basemap_to_tiles\n",
    "from ipywidgets import Layout\n",
    "import pandas as pd\n",
    "import requests"
   ]
  },
  {
   "cell_type": "code",
   "execution_count": 29,
   "metadata": {},
   "outputs": [
    {
     "data": {
      "application/vnd.jupyter.widget-view+json": {
       "model_id": "fdcbc48c4ce5499fbf0da62ef99c54af",
       "version_major": 2,
       "version_minor": 0
      },
      "text/plain": [
       "Map(center=[52.204793, 360.121558], controls=(ZoomControl(options=['position', 'zoom_in_text', 'zoom_in_title'…"
      ]
     },
     "metadata": {},
     "output_type": "display_data"
    }
   ],
   "source": [
    "'''\n",
    "基本操作\n",
    "\n",
    "參考連結:\n",
    "https://ipyleaflet.readthedocs.io/en/latest/usage/index.html\n",
    "'''\n",
    "# 設定地圖中心點\n",
    "center = (52.204793, 360.121558)\n",
    "\n",
    "# 取得地圖物件\n",
    "m = Map(center=center, zoom=15)\n",
    "\n",
    "# 取得標記物件\n",
    "marker = Marker(location=center, draggable=True)\n",
    "\n",
    "# 將標記物件加入地圖\n",
    "m.add(marker)\n",
    "\n",
    "# 顯示地圖\n",
    "display(m)"
   ]
  },
  {
   "cell_type": "code",
   "execution_count": 30,
   "metadata": {},
   "outputs": [
    {
     "data": {
      "application/vnd.jupyter.widget-view+json": {
       "model_id": "e3211f61cb69431aad3514c60e69e2c4",
       "version_major": 2,
       "version_minor": 0
      },
      "text/plain": [
       "Map(center=[25.0463287, 121.5148673], controls=(ZoomControl(options=['position', 'zoom_in_text', 'zoom_in_titl…"
      ]
     },
     "execution_count": 30,
     "metadata": {},
     "output_type": "execute_result"
    }
   ],
   "source": [
    "'''\n",
    "更換地圖\n",
    "\n",
    "參考連結:\n",
    "https://ipyleaflet.readthedocs.io/en/latest/map_and_basemaps/basemaps.html\n",
    "'''\n",
    "center = [25.0463287, 121.5148673]\n",
    "zoom = 17\n",
    "\n",
    "Map(basemap=basemaps.OpenStreetMap.Mapnik, center=center, zoom=zoom)\n",
    "# Map(basemap=basemaps.CartoDB.DarkMatter, center=center, zoom=zoom)"
   ]
  },
  {
   "cell_type": "code",
   "execution_count": 31,
   "metadata": {},
   "outputs": [
    {
     "data": {
      "application/vnd.jupyter.widget-view+json": {
       "model_id": "19e92a161431434c8831684a7942fc75",
       "version_major": 2,
       "version_minor": 0
      },
      "text/plain": [
       "Map(center=[25.0463287, 121.5148673], controls=(ZoomControl(options=['position', 'zoom_in_text', 'zoom_in_titl…"
      ]
     },
     "execution_count": 31,
     "metadata": {},
     "output_type": "execute_result"
    }
   ],
   "source": [
    "'''\n",
    "進階操作\n",
    "'''\n",
    "# 自訂地圖樣式\n",
    "m = Map(\n",
    "    basemap=basemap_to_tiles(basemaps.Gaode.Normal, \"2024-06-12\"),\n",
    "    center=(25.0463287, 121.5148673),\n",
    "    zoom=17,\n",
    "    layout=Layout(width='80%', height='600px')\n",
    ")\n",
    "\n",
    "# 加入標記\n",
    "m.add(Marker(location=(25.0463287, 121.5148673)))\n",
    "\n",
    "# 顯示地圖\n",
    "m"
   ]
  },
  {
   "cell_type": "code",
   "execution_count": 32,
   "metadata": {},
   "outputs": [
    {
     "data": {
      "application/vnd.jupyter.widget-view+json": {
       "model_id": "7e39232c0c754ce3b0717fc5fbfae35d",
       "version_major": 2,
       "version_minor": 0
      },
      "text/plain": [
       "Map(center=[25.0463287, 121.5148673], controls=(ZoomControl(options=['position', 'zoom_in_text', 'zoom_in_titl…"
      ]
     },
     "execution_count": 32,
     "metadata": {},
     "output_type": "execute_result"
    }
   ],
   "source": [
    "'''\n",
    "加入咖啡廳標記\n",
    "\n",
    "臺北咖啡廳資訊 Web API:\n",
    "https://cafenomad.tw/api/v1.2/cafes/taipei\n",
    "\n",
    "參考連結:\n",
    "[1] pandas.Series.to_list\n",
    "https://pandas.pydata.org/docs/reference/api/pandas.Series.to_list.html\n",
    "[2] pandas.DataFrame.iterrows\n",
    "https://pandas.pydata.org/docs/reference/api/pandas.DataFrame.iterrows.html\n",
    "[3] ipyleaflet API Reference - marker.title\n",
    "https://ipyleaflet.readthedocs.io/en/latest/api_reference/index.html#ipyleaflet.leaflet.Marker.title\n",
    "'''\n",
    "# 發出請求，取得回應\n",
    "response = requests.get(url=\"https://cafenomad.tw/api/v1.2/cafes/taipei\")\n",
    "\n",
    "# 將回應內容以 json 格式 (將 json 字串轉成 dict 或 list) 回傳\n",
    "data = response.json()\n",
    "\n",
    "# 將資料轉成 DataFrame\n",
    "df = pd.DataFrame(data)\n",
    "\n",
    "# 取得座標資料(將 Series 轉換成 List)\n",
    "list_lat = df['latitude'].to_list()\n",
    "list_lon = df['longitude'].to_list()\n",
    "\n",
    "# 取得咖啡廳資訊\n",
    "list_name = df['name'].to_list()\n",
    "list_address = df['address'].to_list()\n",
    "\n",
    "# 自訂地圖樣式\n",
    "m = Map(\n",
    "    basemap=basemap_to_tiles(basemaps.Gaode.Normal, \"2024-06-12\"),\n",
    "    center=(25.0463287, 121.5148673),\n",
    "    zoom=17,\n",
    "    layout=Layout(width='80%', height='1000px')\n",
    ")\n",
    "\n",
    "# 加入標記\n",
    "for index in range(len(list_lat)):\n",
    "    # 建立標記\n",
    "    marker = Marker(location=(list_lat[index], list_lon[index]))\n",
    "        \n",
    "    # 移動到標記位置上，會顯示咖啡廳名稱\n",
    "    marker.title = list_name[index] + '\\n' + list_address[index]\n",
    "\n",
    "    # 將標記加入地圖\n",
    "    m.add(marker)\n",
    "\n",
    "\n",
    "'''\n",
    "# 另一種寫法\n",
    "for index, row in df.iterrows():\n",
    "    marker = Marker(location=(row['latitude'], row['longitude']))\n",
    "    marker.title = row['name'] + '\\n' + row['address']\n",
    "    m.add(marker)\n",
    "'''\n",
    "\n",
    "# 顯示地圖\n",
    "m"
   ]
  }
 ],
 "metadata": {
  "kernelspec": {
   "display_name": "web_scraping",
   "language": "python",
   "name": "python3"
  },
  "language_info": {
   "codemirror_mode": {
    "name": "ipython",
    "version": 3
   },
   "file_extension": ".py",
   "mimetype": "text/x-python",
   "name": "python",
   "nbconvert_exporter": "python",
   "pygments_lexer": "ipython3",
   "version": "3.10.14"
  }
 },
 "nbformat": 4,
 "nbformat_minor": 2
}
