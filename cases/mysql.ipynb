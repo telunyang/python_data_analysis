{
 "cells": [
  {
   "cell_type": "code",
   "execution_count": null,
   "id": "6f9c10d9",
   "metadata": {},
   "outputs": [],
   "source": [
    "!pip install pymysql SQLAlchemy"
   ]
  },
  {
   "cell_type": "markdown",
   "id": "e5b252d8",
   "metadata": {},
   "source": [
    "## 在資料庫的交易中，為確保交易(Transaction)是正確可靠的，所以必須具備四個特性：\n",
    "- **Atomicity 原子性**\n",
    "  - 在資料庫的每一筆交易中只有兩種可能發生，第一種是全部完全(commit)，第二種是全部不完成(rollback)，不會因為某個環節出錯，而終止在那個環節，在出錯之後會恢復至交易之前的狀態，如同還沒執行此筆交易。\n",
    "- **Consistency 一致性**\n",
    "  - 在交易中會產生資料或者驗證狀態，然而當錯誤發生，所有已更改的資料或狀態將會恢復至交易之前。\n",
    "- **Isolation 隔離性**\n",
    "  - 資料庫允許多筆交易同時進行，交易進行時未完成的交易資料並不會被其他交易使用，直到此筆交易完成。\n",
    "- **Durability 永續性**\n",
    "  - 交易完成後對資料的修改是永久性的，資料不會因為系統重啟或錯誤而改變。"
   ]
  },
  {
   "cell_type": "markdown",
   "id": "e18723b0",
   "metadata": {},
   "source": [
    "![交易過程](https://i.imgur.com/r29XFgO.png \"交易過程\")"
   ]
  },
  {
   "cell_type": "markdown",
   "id": "ae333e11",
   "metadata": {},
   "source": [
    "# PyMySQL 使用方式"
   ]
  },
  {
   "cell_type": "code",
   "execution_count": 1,
   "id": "82561ad3",
   "metadata": {},
   "outputs": [
    {
     "name": "stdout",
     "output_type": "stream",
     "text": [
      "{'sId': '003', 'sName': '王○○', 'sGender': '男', 'sNickname': '小王'}\n",
      "{'sId': '004', 'sName': '江○○', 'sGender': '女', 'sNickname': '小江'}\n",
      "{'sId': '005', 'sName': '周○○', 'sGender': '女', 'sNickname': '小周'}\n",
      "{'sId': '006', 'sName': '黃○○', 'sGender': '男', 'sNickname': '小黃'}\n",
      "{'sId': '007', 'sName': '丁○○', 'sGender': '男', 'sNickname': '小丁'}\n",
      "{'sId': '008', 'sName': '鄭○○', 'sGender': '男', 'sNickname': '小鄭'}\n",
      "{'sId': '087', 'sName': '楊○○', 'sGender': '男', 'sNickname': '好人'}\n",
      "{'sId': '088', 'sName': '陳○○', 'sGender': '女', 'sNickname': '小白'}\n"
     ]
    }
   ],
   "source": [
    "'''\n",
    "參考頁面:\n",
    "[1] PyMySQL Examples\n",
    "https://pymysql.readthedocs.io/en/latest/user/examples.html\n",
    "[2] Python+MySQL資料庫操作（PyMySQL）\n",
    "https://www.tw511.com/3/39/1388.html\n",
    "[3] Python資料庫學習筆記(四)：使用PyMySQL模組\n",
    "https://reurl.cc/Q78eD2\n",
    "'''\n",
    "\n",
    "import pymysql\n",
    "\n",
    "# 資料庫連線\n",
    "connection = pymysql.connect(\n",
    "    host = 'localhost',\n",
    "    user = 'root',\n",
    "    password = 'root',\n",
    "    database = 'my_db',\n",
    "    charset = 'utf8mb4',\n",
    "    cursorclass=pymysql.cursors.DictCursor # 不加這個，預設以 tuple 回傳\n",
    ")\n",
    "\n",
    "# 取得 cursor 物件，進行 CRUD\n",
    "cursor = connection.cursor()\n",
    "\n",
    "try:\n",
    "    # 寫入資料\n",
    "    # sql = \"INSERT INTO `users` (`email`, `password`) VALUES (%s, %s)\"\n",
    "    # cursor.execute(sql, ('webmaster@python.org', 'very-secret'))\n",
    "\n",
    "    # 查詢資料\n",
    "    sql = \"SELECT * FROM `students`\"\n",
    "    cursor.execute(sql)\n",
    "\n",
    "    # 查詢結果列數大於0 ，代表有資料\n",
    "    if cursor.rowcount > 0:\n",
    "        # 將查詢結果轉成 list 型態 (裡頭元素都是 dict)\n",
    "        results = cursor.fetchall() # 如果 sql 語法明顯只取得一筆，則使用 fetchone()\n",
    "        \n",
    "        # 迭代取得資料 (dict 型態)\n",
    "        for result in results:\n",
    "            print(result)\n",
    "    else:\n",
    "        print(\"rowcount: 0\")\n",
    "\n",
    "    # 提交 SQL 執行結果\n",
    "    connection.commit()\n",
    "except Exception as e:\n",
    "    # 回滾\n",
    "    connection.rollback()\n",
    "    print(\"SQL 執行失敗\")\n",
    "    print(e)\n",
    "\n",
    "# 釋放 cursor\n",
    "cursor.close()\n",
    "\n",
    "# 關閉資料庫連線\n",
    "connection.close()"
   ]
  },
  {
   "cell_type": "markdown",
   "id": "05e7cc13",
   "metadata": {},
   "source": [
    "# MySQL 整合 Pandas"
   ]
  },
  {
   "cell_type": "code",
   "execution_count": 2,
   "id": "d7d896a5",
   "metadata": {},
   "outputs": [
    {
     "data": {
      "text/html": [
       "<div>\n",
       "<style scoped>\n",
       "    .dataframe tbody tr th:only-of-type {\n",
       "        vertical-align: middle;\n",
       "    }\n",
       "\n",
       "    .dataframe tbody tr th {\n",
       "        vertical-align: top;\n",
       "    }\n",
       "\n",
       "    .dataframe thead th {\n",
       "        text-align: right;\n",
       "    }\n",
       "</style>\n",
       "<table border=\"1\" class=\"dataframe\">\n",
       "  <thead>\n",
       "    <tr style=\"text-align: right;\">\n",
       "      <th></th>\n",
       "      <th>sId</th>\n",
       "      <th>sName</th>\n",
       "      <th>sGender</th>\n",
       "      <th>sNickname</th>\n",
       "    </tr>\n",
       "  </thead>\n",
       "  <tbody>\n",
       "    <tr>\n",
       "      <th>0</th>\n",
       "      <td>003</td>\n",
       "      <td>王○○</td>\n",
       "      <td>男</td>\n",
       "      <td>小王</td>\n",
       "    </tr>\n",
       "    <tr>\n",
       "      <th>1</th>\n",
       "      <td>004</td>\n",
       "      <td>江○○</td>\n",
       "      <td>女</td>\n",
       "      <td>小江</td>\n",
       "    </tr>\n",
       "    <tr>\n",
       "      <th>2</th>\n",
       "      <td>005</td>\n",
       "      <td>周○○</td>\n",
       "      <td>女</td>\n",
       "      <td>小周</td>\n",
       "    </tr>\n",
       "    <tr>\n",
       "      <th>3</th>\n",
       "      <td>006</td>\n",
       "      <td>黃○○</td>\n",
       "      <td>男</td>\n",
       "      <td>小黃</td>\n",
       "    </tr>\n",
       "    <tr>\n",
       "      <th>4</th>\n",
       "      <td>007</td>\n",
       "      <td>丁○○</td>\n",
       "      <td>男</td>\n",
       "      <td>小丁</td>\n",
       "    </tr>\n",
       "    <tr>\n",
       "      <th>5</th>\n",
       "      <td>008</td>\n",
       "      <td>鄭○○</td>\n",
       "      <td>男</td>\n",
       "      <td>小鄭</td>\n",
       "    </tr>\n",
       "    <tr>\n",
       "      <th>6</th>\n",
       "      <td>087</td>\n",
       "      <td>楊○○</td>\n",
       "      <td>男</td>\n",
       "      <td>好人</td>\n",
       "    </tr>\n",
       "    <tr>\n",
       "      <th>7</th>\n",
       "      <td>088</td>\n",
       "      <td>陳○○</td>\n",
       "      <td>女</td>\n",
       "      <td>小白</td>\n",
       "    </tr>\n",
       "  </tbody>\n",
       "</table>\n",
       "</div>"
      ],
      "text/plain": [
       "   sId sName sGender sNickname\n",
       "0  003   王○○       男        小王\n",
       "1  004   江○○       女        小江\n",
       "2  005   周○○       女        小周\n",
       "3  006   黃○○       男        小黃\n",
       "4  007   丁○○       男        小丁\n",
       "5  008   鄭○○       男        小鄭\n",
       "6  087   楊○○       男        好人\n",
       "7  088   陳○○       女        小白"
      ]
     },
     "execution_count": 2,
     "metadata": {},
     "output_type": "execute_result"
    }
   ],
   "source": [
    "# 在這裡會同時使用到 pymysql 和 sqlalchemy\n",
    "import pymysql\n",
    "import pandas as pd\n",
    "from sqlalchemy import create_engine\n",
    "\n",
    "# 資料庫基本設定\n",
    "host = 'localhost'\n",
    "user = 'root'\n",
    "password = 'root'\n",
    "database = 'my_db'\n",
    "charset = 'utf8mb4'\n",
    "\n",
    "# 建立 sqlalchemy engine\n",
    "engine = create_engine(f\"mysql+pymysql://{user}:{password}@{host}/{database}?charset={charset}\")\n",
    "\n",
    "# SQL 語法 (可以撰寫多行的 SQL)\n",
    "sql = '''SELECT * FROM `my_db`.`students`;'''\n",
    "\n",
    "# 整合 PyMySQL 連線，透過 Pandas 取得 SQL 查詢後的資料，變成 dataframe\n",
    "df = pd.read_sql(sql, con=engine); df"
   ]
  },
  {
   "cell_type": "code",
   "execution_count": 3,
   "id": "b92f5afe",
   "metadata": {},
   "outputs": [
    {
     "data": {
      "image/png": "[encoded data removed]",
      "text/plain": [
       "<Figure size 640x480 with 1 Axes>"
      ]
     },
     "metadata": {},
     "output_type": "display_data"
    }
   ],
   "source": [
    "# 匯入套件(模組)\n",
    "import matplotlib.pyplot as plt\n",
    "import numpy as np\n",
    "\n",
    "# group by 以後，進行查詢，並與 matplotlib 整合\n",
    "sql = '''\n",
    "SELECT `cId`, AVG(`score`) AS `avg_score`\n",
    "FROM `scores`\n",
    "GROUP BY `cId`\n",
    "'''\n",
    "df = pd.read_sql(sql, con=engine); df\n",
    "\n",
    "# 繪製長條圖\n",
    "plt.bar(df['cId'], df['avg_score'], width=0.5)\n",
    "\n",
    "# 設定數值文字在圖表上\n",
    "for i in df.index:\n",
    "    plt.text(i, df['avg_score'][i], df['avg_score'][i])\n",
    "\n",
    "# 顯示圖表\n",
    "plt.show()"
   ]
  }
 ],
 "metadata": {
  "kernelspec": {
   "display_name": "Python 3 (ipykernel)",
   "language": "python",
   "name": "python3"
  },
  "language_info": {
   "codemirror_mode": {
    "name": "ipython",
    "version": 3
   },
   "file_extension": ".py",
   "mimetype": "text/x-python",
   "name": "python",
   "nbconvert_exporter": "python",
   "pygments_lexer": "ipython3",
   "version": "3.10.10"
  }
 },
 "nbformat": 4,
 "nbformat_minor": 5
}
